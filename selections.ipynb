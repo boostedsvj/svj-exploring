{
 "cells": [
  {
   "cell_type": "code",
   "execution_count": 28,
   "metadata": {},
   "outputs": [],
   "source": [
    "import imp\n",
    "import uproot\n",
    "import coffea\n",
    "from coffea import hist\n",
    "import numpy as np\n",
    "import datasets\n",
    "import seutils\n",
    "\n",
    "%matplotlib inline\n",
    "import matplotlib.pyplot as plt"
   ]
  },
  {
   "cell_type": "markdown",
   "metadata": {},
   "source": [
    "## Initialize the datasets"
   ]
  },
  {
   "cell_type": "code",
   "execution_count": 29,
   "metadata": {},
   "outputs": [],
   "source": [
    "ttjets = datasets.init_ttjets_datasets()\n",
    "qcd = datasets.init_qcd_datasets()\n",
    "wjets = datasets.init_wjets_datasets()\n",
    "zjets = datasets.init_zjets_datasets()"
   ]
  },
  {
   "cell_type": "markdown",
   "metadata": {},
   "source": [
    "Cache some events. We can't store all events in memory, but for testing it's convenient to have at least some events easy to access. From here on out, if use_cache == True, we're using this limited set of events for the sake of developing faster."
   ]
  },
  {
   "cell_type": "code",
   "execution_count": 30,
   "metadata": {},
   "outputs": [
    {
     "data": {
      "application/vnd.jupyter.widget-view+json": {
       "model_id": "7437bc08a75e408586da967025cfb7af",
       "version_major": 2,
       "version_minor": 0
      },
      "text/plain": [
       "HBox(children=(FloatProgress(value=0.0, description='files in Autumn18.TTJets_Sing', max=1.0, style=ProgressSt…"
      ]
     },
     "metadata": {},
     "output_type": "display_data"
    },
    {
     "name": "stderr",
     "output_type": "stream",
     "text": [
      "\u001b[33m   INFO:2020-06-05 14:28:05:datasets:172\u001b[0m Cached ~3.2 Mb (4946 entries, 5 branches)\n"
     ]
    },
    {
     "name": "stdout",
     "output_type": "stream",
     "text": [
      "\n"
     ]
    },
    {
     "data": {
      "application/vnd.jupyter.widget-view+json": {
       "model_id": "5b279453769d417096d9531b75fb6de4",
       "version_major": 2,
       "version_minor": 0
      },
      "text/plain": [
       "HBox(children=(FloatProgress(value=0.0, description='files in Autumn18.TTJets_Sing', max=1.0, style=ProgressSt…"
      ]
     },
     "metadata": {},
     "output_type": "display_data"
    },
    {
     "name": "stderr",
     "output_type": "stream",
     "text": [
      "\u001b[33m   INFO:2020-06-05 14:28:06:datasets:172\u001b[0m Cached ~3.1 Mb (4826 entries, 5 branches)\n"
     ]
    },
    {
     "name": "stdout",
     "output_type": "stream",
     "text": [
      "\n"
     ]
    },
    {
     "data": {
      "application/vnd.jupyter.widget-view+json": {
       "model_id": "a1ea7fda0dd94540b4c29ca0b886f34b",
       "version_major": 2,
       "version_minor": 0
      },
      "text/plain": [
       "HBox(children=(FloatProgress(value=0.0, description='files in Autumn18.TTJets_DiLe', max=1.0, style=ProgressSt…"
      ]
     },
     "metadata": {},
     "output_type": "display_data"
    },
    {
     "name": "stderr",
     "output_type": "stream",
     "text": [
      "\u001b[33m   INFO:2020-06-05 14:28:08:datasets:172\u001b[0m Cached ~15.2 Mb (23932 entries, 5 branches)\n"
     ]
    },
    {
     "name": "stdout",
     "output_type": "stream",
     "text": [
      "\n"
     ]
    },
    {
     "data": {
      "application/vnd.jupyter.widget-view+json": {
       "model_id": "4bd91321a88f4750bde59004090f559e",
       "version_major": 2,
       "version_minor": 0
      },
      "text/plain": [
       "HBox(children=(FloatProgress(value=0.0, description='files in Autumn18.TTJets_HT-6', max=1.0, style=ProgressSt…"
      ]
     },
     "metadata": {},
     "output_type": "display_data"
    },
    {
     "name": "stderr",
     "output_type": "stream",
     "text": [
      "\u001b[33m   INFO:2020-06-05 14:28:10:datasets:172\u001b[0m Cached ~10.2 Mb (13177 entries, 5 branches)\n"
     ]
    },
    {
     "name": "stdout",
     "output_type": "stream",
     "text": [
      "\n"
     ]
    },
    {
     "data": {
      "application/vnd.jupyter.widget-view+json": {
       "model_id": "d633fceacd8c4ef2b10458a017ba5166",
       "version_major": 2,
       "version_minor": 0
      },
      "text/plain": [
       "HBox(children=(FloatProgress(value=0.0, description='files in Autumn18.TTJets_HT-8', max=1.0, style=ProgressSt…"
      ]
     },
     "metadata": {},
     "output_type": "display_data"
    },
    {
     "name": "stderr",
     "output_type": "stream",
     "text": [
      "\u001b[33m   INFO:2020-06-05 14:28:11:datasets:172\u001b[0m Cached ~8.5 Mb (10883 entries, 5 branches)\n"
     ]
    },
    {
     "name": "stdout",
     "output_type": "stream",
     "text": [
      "\n"
     ]
    },
    {
     "data": {
      "application/vnd.jupyter.widget-view+json": {
       "model_id": "76aa8aa5ebc44644985c954f0edcd4d0",
       "version_major": 2,
       "version_minor": 0
      },
      "text/plain": [
       "HBox(children=(FloatProgress(value=0.0, description='files in Autumn18.TTJets_HT-1', max=1.0, style=ProgressSt…"
      ]
     },
     "metadata": {},
     "output_type": "display_data"
    },
    {
     "name": "stderr",
     "output_type": "stream",
     "text": [
      "\u001b[33m   INFO:2020-06-05 14:28:12:datasets:172\u001b[0m Cached ~1.3 Mb (1597 entries, 5 branches)\n"
     ]
    },
    {
     "name": "stdout",
     "output_type": "stream",
     "text": [
      "\n"
     ]
    },
    {
     "data": {
      "application/vnd.jupyter.widget-view+json": {
       "model_id": "233079f847aa4c07b22ce183627d41aa",
       "version_major": 2,
       "version_minor": 0
      },
      "text/plain": [
       "HBox(children=(FloatProgress(value=0.0, description='files in Autumn18.TTJets_HT-2', max=1.0, style=ProgressSt…"
      ]
     },
     "metadata": {},
     "output_type": "display_data"
    },
    {
     "name": "stderr",
     "output_type": "stream",
     "text": [
      "\u001b[33m   INFO:2020-06-05 14:28:18:datasets:172\u001b[0m Cached ~33.5 Mb (42699 entries, 5 branches)\n"
     ]
    },
    {
     "name": "stdout",
     "output_type": "stream",
     "text": [
      "\n"
     ]
    },
    {
     "data": {
      "application/vnd.jupyter.widget-view+json": {
       "model_id": "b978405351c64d9c99b250046b5076c6",
       "version_major": 2,
       "version_minor": 0
      },
      "text/plain": [
       "HBox(children=(FloatProgress(value=0.0, description='files in Autumn18.QCD_Pt_80to', max=1.0, style=ProgressSt…"
      ]
     },
     "metadata": {},
     "output_type": "display_data"
    },
    {
     "name": "stderr",
     "output_type": "stream",
     "text": [
      "\u001b[33m   INFO:2020-06-05 14:28:24:datasets:172\u001b[0m Cached ~48.4 Mb (80000 entries, 5 branches)\n"
     ]
    },
    {
     "name": "stdout",
     "output_type": "stream",
     "text": [
      "\n"
     ]
    },
    {
     "data": {
      "application/vnd.jupyter.widget-view+json": {
       "model_id": "6f3435c0c83849648a3c6b977dd7a161",
       "version_major": 2,
       "version_minor": 0
      },
      "text/plain": [
       "HBox(children=(FloatProgress(value=0.0, description='files in Autumn18.QCD_Pt_120t', max=1.0, style=ProgressSt…"
      ]
     },
     "metadata": {},
     "output_type": "display_data"
    },
    {
     "name": "stderr",
     "output_type": "stream",
     "text": [
      "\u001b[33m   INFO:2020-06-05 14:28:30:datasets:172\u001b[0m Cached ~51.3 Mb (80000 entries, 5 branches)\n"
     ]
    },
    {
     "name": "stdout",
     "output_type": "stream",
     "text": [
      "\n"
     ]
    },
    {
     "data": {
      "application/vnd.jupyter.widget-view+json": {
       "model_id": "f297a7208f2e4e659f8dc37dc05b021e",
       "version_major": 2,
       "version_minor": 0
      },
      "text/plain": [
       "HBox(children=(FloatProgress(value=0.0, description='files in Autumn18.QCD_Pt_170t', max=1.0, style=ProgressSt…"
      ]
     },
     "metadata": {},
     "output_type": "display_data"
    },
    {
     "name": "stderr",
     "output_type": "stream",
     "text": [
      "\u001b[33m   INFO:2020-06-05 14:28:39:datasets:172\u001b[0m Cached ~43.5 Mb (60000 entries, 5 branches)\n"
     ]
    },
    {
     "name": "stdout",
     "output_type": "stream",
     "text": [
      "\n"
     ]
    },
    {
     "data": {
      "application/vnd.jupyter.widget-view+json": {
       "model_id": "2522d7a4866f49959c56a80349123285",
       "version_major": 2,
       "version_minor": 0
      },
      "text/plain": [
       "HBox(children=(FloatProgress(value=0.0, description='files in Autumn18.QCD_Pt_300t', max=1.0, style=ProgressSt…"
      ]
     },
     "metadata": {},
     "output_type": "display_data"
    },
    {
     "name": "stderr",
     "output_type": "stream",
     "text": [
      "\u001b[33m   INFO:2020-06-05 14:28:48:datasets:172\u001b[0m Cached ~59.7 Mb (80000 entries, 5 branches)\n"
     ]
    },
    {
     "name": "stdout",
     "output_type": "stream",
     "text": [
      "\n"
     ]
    },
    {
     "data": {
      "application/vnd.jupyter.widget-view+json": {
       "model_id": "f18c0ac202ff42e78554aa216827ab66",
       "version_major": 2,
       "version_minor": 0
      },
      "text/plain": [
       "HBox(children=(FloatProgress(value=0.0, description='files in Autumn18.QCD_Pt_470t', max=1.0, style=ProgressSt…"
      ]
     },
     "metadata": {},
     "output_type": "display_data"
    },
    {
     "name": "stderr",
     "output_type": "stream",
     "text": [
      "\u001b[33m   INFO:2020-06-05 14:28:57:datasets:172\u001b[0m Cached ~60.0 Mb (80000 entries, 5 branches)\n"
     ]
    },
    {
     "name": "stdout",
     "output_type": "stream",
     "text": [
      "\n"
     ]
    },
    {
     "data": {
      "application/vnd.jupyter.widget-view+json": {
       "model_id": "b052c5d0d6064e2cadb4060851031594",
       "version_major": 2,
       "version_minor": 0
      },
      "text/plain": [
       "HBox(children=(FloatProgress(value=0.0, description='files in Autumn18.QCD_Pt_600t', max=1.0, style=ProgressSt…"
      ]
     },
     "metadata": {},
     "output_type": "display_data"
    },
    {
     "name": "stderr",
     "output_type": "stream",
     "text": [
      "\u001b[33m   INFO:2020-06-05 14:29:00:datasets:172\u001b[0m Cached ~13.5 Mb (18000 entries, 5 branches)\n"
     ]
    },
    {
     "name": "stdout",
     "output_type": "stream",
     "text": [
      "\n"
     ]
    },
    {
     "data": {
      "application/vnd.jupyter.widget-view+json": {
       "model_id": "3a0c6674612a40e287ca823348fd6503",
       "version_major": 2,
       "version_minor": 0
      },
      "text/plain": [
       "HBox(children=(FloatProgress(value=0.0, description='files in Autumn18.QCD_Pt_800t', max=1.0, style=ProgressSt…"
      ]
     },
     "metadata": {},
     "output_type": "display_data"
    },
    {
     "name": "stderr",
     "output_type": "stream",
     "text": [
      "\u001b[33m   INFO:2020-06-05 14:29:04:datasets:172\u001b[0m Cached ~22.5 Mb (30000 entries, 5 branches)\n"
     ]
    },
    {
     "name": "stdout",
     "output_type": "stream",
     "text": [
      "\n"
     ]
    },
    {
     "data": {
      "application/vnd.jupyter.widget-view+json": {
       "model_id": "2a25f95e78af43a2a49697eae3b21ed2",
       "version_major": 2,
       "version_minor": 0
      },
      "text/plain": [
       "HBox(children=(FloatProgress(value=0.0, description='files in Autumn18.QCD_Pt_1000', max=1.0, style=ProgressSt…"
      ]
     },
     "metadata": {},
     "output_type": "display_data"
    },
    {
     "name": "stderr",
     "output_type": "stream",
     "text": [
      "\u001b[33m   INFO:2020-06-05 14:29:15:datasets:172\u001b[0m Cached ~31.6 Mb (42000 entries, 5 branches)\n"
     ]
    },
    {
     "name": "stdout",
     "output_type": "stream",
     "text": [
      "\n"
     ]
    },
    {
     "data": {
      "application/vnd.jupyter.widget-view+json": {
       "model_id": "50acbac1c7d44e2e854cc23b3d0e9722",
       "version_major": 2,
       "version_minor": 0
      },
      "text/plain": [
       "HBox(children=(FloatProgress(value=0.0, description='files in Autumn18.QCD_Pt_1400', max=1.0, style=ProgressSt…"
      ]
     },
     "metadata": {},
     "output_type": "display_data"
    },
    {
     "name": "stderr",
     "output_type": "stream",
     "text": [
      "\u001b[33m   INFO:2020-06-05 14:29:20:datasets:172\u001b[0m Cached ~31.6 Mb (42000 entries, 5 branches)\n"
     ]
    },
    {
     "name": "stdout",
     "output_type": "stream",
     "text": [
      "\n"
     ]
    },
    {
     "data": {
      "application/vnd.jupyter.widget-view+json": {
       "model_id": "9d5ddcc7ad094c869f75babd047e78a1",
       "version_major": 2,
       "version_minor": 0
      },
      "text/plain": [
       "HBox(children=(FloatProgress(value=0.0, description='files in Autumn18.QCD_Pt_1800', max=1.0, style=ProgressSt…"
      ]
     },
     "metadata": {},
     "output_type": "display_data"
    },
    {
     "name": "stderr",
     "output_type": "stream",
     "text": [
      "\u001b[33m   INFO:2020-06-05 14:29:25:datasets:172\u001b[0m Cached ~32.2 Mb (42940 entries, 5 branches)\n"
     ]
    },
    {
     "name": "stdout",
     "output_type": "stream",
     "text": [
      "\n"
     ]
    },
    {
     "data": {
      "application/vnd.jupyter.widget-view+json": {
       "model_id": "778dcfe854b54d9c98f7faca4c73c523",
       "version_major": 2,
       "version_minor": 0
      },
      "text/plain": [
       "HBox(children=(FloatProgress(value=0.0, description='files in Autumn18.QCD_Pt_2400', max=1.0, style=ProgressSt…"
      ]
     },
     "metadata": {},
     "output_type": "display_data"
    },
    {
     "name": "stderr",
     "output_type": "stream",
     "text": [
      "\u001b[33m   INFO:2020-06-05 14:29:27:datasets:172\u001b[0m Cached ~12.0 Mb (16000 entries, 5 branches)\n"
     ]
    },
    {
     "name": "stdout",
     "output_type": "stream",
     "text": [
      "\n"
     ]
    },
    {
     "data": {
      "application/vnd.jupyter.widget-view+json": {
       "model_id": "26d83bd26f5e4732bf27715d3fbe0564",
       "version_major": 2,
       "version_minor": 0
      },
      "text/plain": [
       "HBox(children=(FloatProgress(value=0.0, description='files in Autumn18.QCD_Pt_3200', max=1.0, style=ProgressSt…"
      ]
     },
     "metadata": {},
     "output_type": "display_data"
    },
    {
     "name": "stderr",
     "output_type": "stream",
     "text": [
      "\u001b[33m   INFO:2020-06-05 14:29:31:datasets:172\u001b[0m Cached ~17.9 Mb (24000 entries, 5 branches)\n"
     ]
    },
    {
     "name": "stdout",
     "output_type": "stream",
     "text": [
      "\n"
     ]
    },
    {
     "data": {
      "application/vnd.jupyter.widget-view+json": {
       "model_id": "330d8ca02a7542b591880fbdfbfc21ec",
       "version_major": 2,
       "version_minor": 0
      },
      "text/plain": [
       "HBox(children=(FloatProgress(value=0.0, description='files in Autumn18.WJetsToLNu_', max=2.0, style=ProgressSt…"
      ]
     },
     "metadata": {},
     "output_type": "display_data"
    },
    {
     "name": "stderr",
     "output_type": "stream",
     "text": [
      "\u001b[33m   INFO:2020-06-05 14:29:46:datasets:172\u001b[0m Cached ~94.1 Mb (156056 entries, 5 branches)\n"
     ]
    },
    {
     "name": "stdout",
     "output_type": "stream",
     "text": [
      "\n"
     ]
    },
    {
     "data": {
      "application/vnd.jupyter.widget-view+json": {
       "model_id": "08637f1bee9f4ceba43bd26623f3a4cf",
       "version_major": 2,
       "version_minor": 0
      },
      "text/plain": [
       "HBox(children=(FloatProgress(value=0.0, description='files in Autumn18.WJetsToLNu_', max=2.0, style=ProgressSt…"
      ]
     },
     "metadata": {},
     "output_type": "display_data"
    },
    {
     "name": "stderr",
     "output_type": "stream",
     "text": [
      "\u001b[33m   INFO:2020-06-05 14:29:56:datasets:172\u001b[0m Cached ~62.8 Mb (103601 entries, 5 branches)\n"
     ]
    },
    {
     "name": "stdout",
     "output_type": "stream",
     "text": [
      "\n"
     ]
    },
    {
     "data": {
      "application/vnd.jupyter.widget-view+json": {
       "model_id": "753bd3dee97c43b48eae16d5a90b9ee4",
       "version_major": 2,
       "version_minor": 0
      },
      "text/plain": [
       "HBox(children=(FloatProgress(value=0.0, description='files in Autumn18.WJetsToLNu_', max=2.0, style=ProgressSt…"
      ]
     },
     "metadata": {},
     "output_type": "display_data"
    },
    {
     "name": "stderr",
     "output_type": "stream",
     "text": [
      "\u001b[33m   INFO:2020-06-05 14:30:10:datasets:172\u001b[0m Cached ~85.5 Mb (133144 entries, 5 branches)\n"
     ]
    },
    {
     "name": "stdout",
     "output_type": "stream",
     "text": [
      "\n"
     ]
    },
    {
     "data": {
      "application/vnd.jupyter.widget-view+json": {
       "model_id": "f6070f6e0a354508bebbab27b8121215",
       "version_major": 2,
       "version_minor": 0
      },
      "text/plain": [
       "HBox(children=(FloatProgress(value=0.0, description='files in Autumn18.WJetsToLNu_', max=2.0, style=ProgressSt…"
      ]
     },
     "metadata": {},
     "output_type": "display_data"
    },
    {
     "name": "stderr",
     "output_type": "stream",
     "text": [
      "\u001b[33m   INFO:2020-06-05 14:30:12:datasets:172\u001b[0m Cached ~10.0 Mb (13883 entries, 5 branches)\n"
     ]
    },
    {
     "name": "stdout",
     "output_type": "stream",
     "text": [
      "\n"
     ]
    },
    {
     "data": {
      "application/vnd.jupyter.widget-view+json": {
       "model_id": "87e7939982644b89bbf376efe29849a4",
       "version_major": 2,
       "version_minor": 0
      },
      "text/plain": [
       "HBox(children=(FloatProgress(value=0.0, description='files in Autumn18.WJetsToLNu_', max=2.0, style=ProgressSt…"
      ]
     },
     "metadata": {},
     "output_type": "display_data"
    },
    {
     "name": "stderr",
     "output_type": "stream",
     "text": [
      "\u001b[33m   INFO:2020-06-05 14:30:14:datasets:172\u001b[0m Cached ~6.2 Mb (8295 entries, 5 branches)\n"
     ]
    },
    {
     "name": "stdout",
     "output_type": "stream",
     "text": [
      "\n"
     ]
    },
    {
     "data": {
      "application/vnd.jupyter.widget-view+json": {
       "model_id": "30a87f7b20c64a00a2a168c8a44f1d4b",
       "version_major": 2,
       "version_minor": 0
      },
      "text/plain": [
       "HBox(children=(FloatProgress(value=0.0, description='files in Autumn18.WJetsToLNu_', max=2.0, style=ProgressSt…"
      ]
     },
     "metadata": {},
     "output_type": "display_data"
    },
    {
     "name": "stderr",
     "output_type": "stream",
     "text": [
      "\u001b[33m   INFO:2020-06-05 14:30:18:datasets:172\u001b[0m Cached ~26.4 Mb (34993 entries, 5 branches)\n"
     ]
    },
    {
     "name": "stdout",
     "output_type": "stream",
     "text": [
      "\n"
     ]
    },
    {
     "data": {
      "application/vnd.jupyter.widget-view+json": {
       "model_id": "026267c77c494d5c9e1ecf9952baaf24",
       "version_major": 2,
       "version_minor": 0
      },
      "text/plain": [
       "HBox(children=(FloatProgress(value=0.0, description='files in Autumn18.WJetsToLNu_', max=2.0, style=ProgressSt…"
      ]
     },
     "metadata": {},
     "output_type": "display_data"
    },
    {
     "name": "stderr",
     "output_type": "stream",
     "text": [
      "\u001b[33m   INFO:2020-06-05 14:30:22:datasets:172\u001b[0m Cached ~20.6 Mb (27195 entries, 5 branches)\n"
     ]
    },
    {
     "name": "stdout",
     "output_type": "stream",
     "text": [
      "\n"
     ]
    },
    {
     "data": {
      "application/vnd.jupyter.widget-view+json": {
       "model_id": "818635248394483f820d5184dbcc0492",
       "version_major": 2,
       "version_minor": 0
      },
      "text/plain": [
       "HBox(children=(FloatProgress(value=0.0, description='files in Autumn18.WJetsToLNu_', max=2.0, style=ProgressSt…"
      ]
     },
     "metadata": {},
     "output_type": "display_data"
    },
    {
     "name": "stderr",
     "output_type": "stream",
     "text": [
      "\u001b[33m   INFO:2020-06-05 14:30:29:datasets:172\u001b[0m Cached ~41.2 Mb (54172 entries, 5 branches)\n"
     ]
    },
    {
     "name": "stdout",
     "output_type": "stream",
     "text": [
      "\n"
     ]
    },
    {
     "data": {
      "application/vnd.jupyter.widget-view+json": {
       "model_id": "39707573bd36472f8d8e616a0f54c595",
       "version_major": 2,
       "version_minor": 0
      },
      "text/plain": [
       "HBox(children=(FloatProgress(value=0.0, description='files in Autumn18.ZJetsToNuNu', max=4.0, style=ProgressSt…"
      ]
     },
     "metadata": {},
     "output_type": "display_data"
    },
    {
     "name": "stderr",
     "output_type": "stream",
     "text": [
      "\u001b[33m   INFO:2020-06-05 14:30:48:datasets:172\u001b[0m Cached ~157.4 Mb (259978 entries, 5 branches)\n"
     ]
    },
    {
     "name": "stdout",
     "output_type": "stream",
     "text": [
      "\n"
     ]
    },
    {
     "data": {
      "application/vnd.jupyter.widget-view+json": {
       "model_id": "7f3c553c4fde44c7bde51cfd5f8328c0",
       "version_major": 2,
       "version_minor": 0
      },
      "text/plain": [
       "HBox(children=(FloatProgress(value=0.0, description='files in Autumn18.ZJetsToNuNu', max=4.0, style=ProgressSt…"
      ]
     },
     "metadata": {},
     "output_type": "display_data"
    },
    {
     "name": "stderr",
     "output_type": "stream",
     "text": [
      "\u001b[33m   INFO:2020-06-05 14:31:10:datasets:172\u001b[0m Cached ~192.1 Mb (302793 entries, 5 branches)\n"
     ]
    },
    {
     "name": "stdout",
     "output_type": "stream",
     "text": [
      "\n"
     ]
    },
    {
     "data": {
      "application/vnd.jupyter.widget-view+json": {
       "model_id": "90229bfef5b14b7680397909d2080db7",
       "version_major": 2,
       "version_minor": 0
      },
      "text/plain": [
       "HBox(children=(FloatProgress(value=1.0, bar_style='info', description='files in Autumn18.ZJetsToNuNu', max=1.0…"
      ]
     },
     "metadata": {},
     "output_type": "display_data"
    },
    {
     "name": "stderr",
     "output_type": "stream",
     "text": [
      "\u001b[33m   INFO:2020-06-05 14:31:11:datasets:172\u001b[0m Cached ~0.0 b (0 entries, 5 branches)\n"
     ]
    },
    {
     "name": "stdout",
     "output_type": "stream",
     "text": [
      "\n"
     ]
    },
    {
     "data": {
      "application/vnd.jupyter.widget-view+json": {
       "model_id": "f3ffe47ebe4d4c43ac6a42e7f618ba9a",
       "version_major": 2,
       "version_minor": 0
      },
      "text/plain": [
       "HBox(children=(FloatProgress(value=0.0, description='files in Autumn18.ZJetsToNuNu', max=4.0, style=ProgressSt…"
      ]
     },
     "metadata": {},
     "output_type": "display_data"
    },
    {
     "name": "stderr",
     "output_type": "stream",
     "text": [
      "\u001b[33m   INFO:2020-06-05 14:31:20:datasets:172\u001b[0m Cached ~68.8 Mb (93720 entries, 5 branches)\n"
     ]
    },
    {
     "name": "stdout",
     "output_type": "stream",
     "text": [
      "\n"
     ]
    },
    {
     "data": {
      "application/vnd.jupyter.widget-view+json": {
       "model_id": "f29b8e23bab44960b39c4cebfff85070",
       "version_major": 2,
       "version_minor": 0
      },
      "text/plain": [
       "HBox(children=(FloatProgress(value=0.0, description='files in Autumn18.ZJetsToNuNu', max=4.0, style=ProgressSt…"
      ]
     },
     "metadata": {},
     "output_type": "display_data"
    },
    {
     "name": "stderr",
     "output_type": "stream",
     "text": [
      "\u001b[33m   INFO:2020-06-05 14:31:27:datasets:172\u001b[0m Cached ~31.0 Mb (41600 entries, 5 branches)\n"
     ]
    },
    {
     "name": "stdout",
     "output_type": "stream",
     "text": [
      "\n"
     ]
    },
    {
     "data": {
      "application/vnd.jupyter.widget-view+json": {
       "model_id": "5c85ca872fbc428e8bd6a42fb0d97ccb",
       "version_major": 2,
       "version_minor": 0
      },
      "text/plain": [
       "HBox(children=(FloatProgress(value=0.0, description='files in Autumn18.ZJetsToNuNu', max=4.0, style=ProgressSt…"
      ]
     },
     "metadata": {},
     "output_type": "display_data"
    },
    {
     "name": "stderr",
     "output_type": "stream",
     "text": [
      "\u001b[33m   INFO:2020-06-05 14:31:33:datasets:172\u001b[0m Cached ~38.8 Mb (51548 entries, 5 branches)\n"
     ]
    },
    {
     "name": "stdout",
     "output_type": "stream",
     "text": [
      "\n"
     ]
    },
    {
     "data": {
      "application/vnd.jupyter.widget-view+json": {
       "model_id": "863569f379c641acbfeb9cb4a8c6b30c",
       "version_major": 2,
       "version_minor": 0
      },
      "text/plain": [
       "HBox(children=(FloatProgress(value=0.0, description='files in Autumn18.ZJetsToNuNu', max=4.0, style=ProgressSt…"
      ]
     },
     "metadata": {},
     "output_type": "display_data"
    },
    {
     "name": "stderr",
     "output_type": "stream",
     "text": [
      "\u001b[33m   INFO:2020-06-05 14:31:37:datasets:172\u001b[0m Cached ~13.5 Mb (17926 entries, 5 branches)\n"
     ]
    },
    {
     "name": "stdout",
     "output_type": "stream",
     "text": [
      "\n"
     ]
    }
   ],
   "source": [
    "cache_branches = [b'JetsAK15', b'JetsAK15_softDropMass', b'TriggerPass', b'MET', b'METPhi',]\n",
    "# For qcd and ttjets 1 file contain more than enough events\n",
    "for dataset in ttjets + qcd:\n",
    "    dataset.cache_branches(cache_branches, n_files=1)\n",
    "# For wjets and zjets we need a little more files for a reasonable test set\n",
    "for dataset in wjets:\n",
    "    dataset.cache_branches(cache_branches, n_files=2)\n",
    "for dataset in zjets:\n",
    "    dataset.cache_branches(cache_branches, n_files=4)"
   ]
  },
  {
   "cell_type": "code",
   "execution_count": 31,
   "metadata": {},
   "outputs": [
    {
     "data": {
      "text/plain": [
       "[{b'JetsAK15': <JaggedArrayMethods [[] [] [] ... [TLorentzVector(x=-77.632, y=175.69, z=-153.53, t=299.96)] [] [TLorentzVector(x=-57.324, y=-180.64, z=-160.73, t=256.48)]] at 0x7f1e1a4b0668>,\n",
       "  b'JetsAK15_softDropMass': <JaggedArray [[] [] [] ... [170.83297710101317] [] [0.0]] at 0x7f1e1a4b06a0>,\n",
       "  b'TriggerPass': <JaggedArray [[-1 -1 -1 ... 0 0 -1] [-1 -1 -1 ... 0 0 -1] [-1 -1 -1 ... 0 0 -1] ... [-1 -1 -1 ... 0 0 -1] [-1 -1 -1 ... 0 0 -1] [-1 -1 -1 ... 0 0 -1]] at 0x7f1e1a4b06d8>,\n",
       "  b'MET': array([ 21.06752363,  65.80930644,  37.9411671 , ...,  76.08669101,\n",
       "          64.40270443, 121.23895121]),\n",
       "  b'METPhi': array([ 1.25555822,  1.53174342,  0.41242117, ..., -0.77726666,\n",
       "          2.85783673,  1.16736464])}]"
      ]
     },
     "execution_count": 31,
     "metadata": {},
     "output_type": "execute_result"
    }
   ],
   "source": [
    "ttjets[0].cache"
   ]
  },
  {
   "cell_type": "markdown",
   "metadata": {},
   "source": [
    "### Signal dataset"
   ]
  },
  {
   "cell_type": "code",
   "execution_count": 32,
   "metadata": {},
   "outputs": [],
   "source": [
    "signal = datasets.Dataset(\n",
    "    'mZ300',\n",
    "    seutils.ls_root('root://cmseos.fnal.gov//store/user/klijnsma/semivis/treemaker_sig_Jun02'),\n",
    "    is_signal=True\n",
    "    )"
   ]
  },
  {
   "cell_type": "code",
   "execution_count": 33,
   "metadata": {},
   "outputs": [
    {
     "data": {
      "application/vnd.jupyter.widget-view+json": {
       "model_id": "aefb04dc42154827be947d15ffe43a99",
       "version_major": 2,
       "version_minor": 0
      },
      "text/plain": [
       "HBox(children=(FloatProgress(value=0.0, description='files in mZ300', max=5.0, style=ProgressStyle(description…"
      ]
     },
     "metadata": {},
     "output_type": "display_data"
    },
    {
     "name": "stderr",
     "output_type": "stream",
     "text": [
      "\u001b[33m   INFO:2020-06-05 14:31:40:datasets:172\u001b[0m Cached ~2.9 Mb (3763 entries, 5 branches)\n"
     ]
    },
    {
     "name": "stdout",
     "output_type": "stream",
     "text": [
      "\n"
     ]
    },
    {
     "data": {
      "text/plain": [
       "[{b'JetsAK15': <JaggedArrayMethods [[TLorentzVector(x=191.78, y=752.58, z=441.45, t=904.75) TLorentzVector(x=118.75, y=-474.49, z=244.24, t=639.26) TLorentzVector(x=-241.11, y=-25.206, z=-123.95, t=314.17)] [TLorentzVector(x=571.21, y=603.33, z=330.5, t=952.93) TLorentzVector(x=-371.22, y=-707.38, z=-687.84, t=1099.9)] [TLorentzVector(x=759.38, y=66.972, z=1022.3, t=1376.5) TLorentzVector(x=-702, y=-31.439, z=4.922, t=744.25)] ... [TLorentzVector(x=307.5, y=385.22, z=-393.41, t=676.64) TLorentzVector(x=-239.66, y=-196.53, z=-264.86, t=425.16) TLorentzVector(x=85.013, y=-148.01, z=-610.62, t=643.08)] [TLorentzVector(x=-438.54, y=-739.51, z=-130, t=922.91) TLorentzVector(x=117.39, y=676.43, z=567.47, t=1049.1)] [TLorentzVector(x=743.92, y=-193.93, z=502.03, t=936.05) TLorentzVector(x=-180.76, y=-272.26, z=-449.72, t=602.39) TLorentzVector(x=-229.91, y=228.22, z=-15.837, t=344.73)]] at 0x7f1e1a3fa390>,\n",
       "  b'JetsAK15_softDropMass': <JaggedArray [[6.119659909823731 330.67509922883517 151.5432732173435] [286.71567349786096 62.508279530279005] [493.80146861483166 100.39899254007797] ... [1.555514015644834 42.916792534259486 0.0] [139.5260337145933 556.8749540864025] [3.893343967635594 238.03374746345145 26.51341654790292]] at 0x7f1e1a3fa3c8>,\n",
       "  b'TriggerPass': <JaggedArray [[-1 -1 -1 ... 0 0 -1] [-1 -1 -1 ... 1 0 -1] [-1 -1 -1 ... 0 0 -1] ... [-1 -1 -1 ... 1 0 -1] [-1 -1 -1 ... 0 0 -1] [-1 -1 -1 ... 0 0 -1]] at 0x7f1e1a3fa400>,\n",
       "  b'MET': array([275.15917019, 112.16027547,  49.13563679,  77.18911296,\n",
       "         284.33573535, 178.49462342, 307.12908574, 190.65071596,\n",
       "          36.45171771, 124.63921098, 223.31997339, 176.23614544,\n",
       "          96.62244929,  92.77076579,  65.42819953, 323.81014399,\n",
       "         126.27050535, 233.54790106, 124.38987293,  65.81229431,\n",
       "          72.42745007,  43.43315147,  63.36353586,  92.45321446,\n",
       "         268.10429898,  35.01722738,  44.33861796,  99.73510007,\n",
       "         265.66012467, 105.6164453 , 182.94096336, 555.34855323,\n",
       "         103.06208096, 327.47510742,  14.95528044, 100.41026437,\n",
       "         183.99319937, 426.05168457, 286.4120133 , 158.26302894,\n",
       "         122.0637249 , 131.69756595, 236.33585908,  85.35655409,\n",
       "         105.52728687, 311.36618938,  83.20628784, 145.49415161,\n",
       "         206.18957373, 390.65428369,  72.20884853, 212.62382465,\n",
       "          48.58571471,  55.59707794, 184.82748049, 169.38528542,\n",
       "         119.88977473, 749.4804734 , 102.64384423, 175.31079373,\n",
       "         361.16622333, 265.52651184, 331.50682796, 357.74935346,\n",
       "         226.01464427,  26.00384873,  43.17749345, 330.15784565,\n",
       "          35.59088038,  77.24935862,  62.53103252, 212.99158288,\n",
       "         121.13092738,  16.63925571, 229.53972769,  42.18979885,\n",
       "         182.1147919 , 351.54051168,  36.19136123, 245.59600177,\n",
       "         417.77931636, 179.81069688, 183.45695947, 213.4630954 ,\n",
       "          21.94352996, 180.44520971,  13.30713884, 119.65872282,\n",
       "         309.23605692,  80.84541532,  71.88406131,  56.94396399,\n",
       "         183.99491657, 171.09766142,  34.96216057,  78.59514275,\n",
       "         218.92438505, 330.01969174,  51.94020349,  91.43814913,\n",
       "         157.01501456, 115.80873766, 253.24995401, 258.51312759,\n",
       "         119.33417215, 122.32681907,  43.99802212,  62.90655989,\n",
       "         208.54455263,  31.32474228,  58.78983084,  40.14354458,\n",
       "         288.9622509 ,  38.34620176, 116.56604901, 147.2463776 ,\n",
       "          32.06867329, 250.81617822, 336.41076855,  93.51200664,\n",
       "         209.38587339, 234.44921394, 170.45290038, 131.08123005,\n",
       "          31.291911  ,  83.80100931, 105.6055089 ,  56.45317819,\n",
       "         397.32747419, 557.25516879,  61.72808637, 139.12244296,\n",
       "          47.5829598 , 101.28272719,  26.81951256, 102.16324506,\n",
       "         181.86519169, 577.30895359,  61.45785015, 177.68260262,\n",
       "         222.11768182, 633.54212068, 147.90435172,  97.78165801,\n",
       "          79.51461645, 128.73655151,  98.48928336, 112.06566818,\n",
       "         231.36250253,  80.25615628,  61.84305775,  57.73449899,\n",
       "         186.85826266,  29.49435275, 484.51161063,  42.66184985,\n",
       "         178.0713684 , 130.39257547, 202.79710286,  82.72378384,\n",
       "         118.52431329, 430.1620158 , 480.58555971, 220.66293637,\n",
       "         100.35612563, 213.83692512, 122.06571427, 105.2391527 ,\n",
       "          16.14656317, 129.79722138,  56.09244802, 115.30983031,\n",
       "          51.0835803 , 255.94895056, 168.86144066,  58.56946531,\n",
       "         300.1383111 , 305.79131473,  12.14770253, 226.86387806,\n",
       "          83.47295707,  63.42269708, 404.49172459, 367.47617839,\n",
       "         129.55145994,  83.01688627,  43.41176899,  73.43074097,\n",
       "         251.53994985, 366.90103003,  76.38568215, 405.01508715,\n",
       "         409.48129348,  44.4498672 , 197.522002  , 251.04625412,\n",
       "         207.53088664,  24.75670735, 204.98018789, 232.05158117,\n",
       "         210.83946252,  47.78305488, 117.17519173, 203.73756606,\n",
       "         447.90953447, 862.00574101,  71.10913535,  99.28433621,\n",
       "         188.28693119, 115.71354584, 116.93644039, 134.6747587 ,\n",
       "          63.87780997, 113.8443012 ,  53.02704852, 259.96930921,\n",
       "          80.77939494, 293.3401684 , 186.83044449,  74.73328721,\n",
       "         124.37696475,  84.11654747, 421.40215416, 128.24822463,\n",
       "          99.5571753 ,  15.4919802 , 214.32461235,  16.64333002,\n",
       "         263.10274046, 403.86463127, 133.4856981 ,  55.90919113,\n",
       "         218.09252891,  81.06214034, 186.50545007,  50.85251193,\n",
       "          39.23977406,  87.99358844,  83.93200092,  57.41134587,\n",
       "         226.99108092, 200.99057552, 157.93444681,  17.43633303,\n",
       "         191.55715632,  74.97150544, 169.62529772,  51.22746718,\n",
       "          16.54803728,  54.59141121,  28.10168041, 203.40661896,\n",
       "          84.31025802, 177.52988521,  51.97570215,  86.96878369,\n",
       "         115.43381195, 116.48186436,  77.87171081,  39.27413487,\n",
       "         125.60356359, 201.43451628,  41.66295747, 145.245055  ,\n",
       "          73.32364624, 202.32405833, 144.52744008,  48.95415734,\n",
       "         133.72960865, 291.45625097,  32.38523153, 191.63975564,\n",
       "          79.87407647,  42.81221241, 163.41365375, 164.45703941,\n",
       "         341.14195335, 136.57667803, 382.01928887,  81.50041226,\n",
       "          77.23030019,  42.0533553 , 153.62891578, 123.75992655,\n",
       "          69.4916628 , 133.14021036,  71.9285705 ,  80.37850844,\n",
       "         151.70743853,  32.4142433 , 196.25223804,  67.49793575,\n",
       "         234.8990574 ,  94.68067919,  35.43185084, 241.70681068,\n",
       "         186.75064334, 288.02459843,  58.00857496, 372.73020233,\n",
       "         134.69834334, 141.05099222, 131.12902935, 100.30399288,\n",
       "         285.43513806,  88.4598212 , 389.77413787, 357.57394084,\n",
       "          34.68004654,  95.30557726,  94.9110472 ,  39.18426393,\n",
       "         132.34250733,  49.17995218,  83.6343129 , 160.85121108,\n",
       "          78.19757646, 116.19067943,  54.05364744,  87.11815001,\n",
       "         455.19398408, 233.23514361, 495.76369323, 407.70117788,\n",
       "         127.53284715,  58.22203677, 439.04917652,  69.47835021,\n",
       "         111.4045586 ,  50.90257602,  50.38490153, 146.30777125,\n",
       "         119.25380263, 230.88032376,  50.24219641,  56.12259009,\n",
       "           9.19455018,  47.97538826,  81.29365492, 138.37862149,\n",
       "         169.73077076,  95.46924095,  96.74041662,  77.64352161,\n",
       "          66.84060311,  42.49482272, 118.76883591, 376.79223672,\n",
       "          50.553269  , 219.19151634, 192.02159051, 177.76128382,\n",
       "          69.82916134, 285.37966142,  49.35376381,  68.16333531,\n",
       "         559.9248435 , 109.45891355, 214.79749121,  79.24151311,\n",
       "         319.15522622, 207.72958639, 149.01614765, 192.8228822 ,\n",
       "         129.75657047, 184.15034794, 111.38863392, 153.11900227,\n",
       "         226.92507128, 575.40739388, 161.95497041, 129.39995021,\n",
       "          67.0563984 , 135.89555227, 226.13691047,  40.93135067,\n",
       "         194.33984351, 440.44401032, 119.25792159, 124.89382358,\n",
       "          80.91561596, 207.23108546, 112.46720411,  86.13439613,\n",
       "         352.73110783,  58.1083164 ,  56.60844499,  39.34731439,\n",
       "          53.57146358, 221.51061975,  59.38498937,  82.36719859,\n",
       "          39.08071043, 133.54327695, 325.03667783, 146.88743144,\n",
       "          87.23531785, 241.56425124, 247.35696444, 106.17688248,\n",
       "          64.31099202, 131.7324668 , 210.49414447,  54.93161387,\n",
       "         114.17966854,  72.65267288, 377.34753957,  35.51365459,\n",
       "         183.04210837,  37.82137477, 255.22991556,  52.25386966,\n",
       "         233.13887865,  93.9097598 ,  58.91164495, 342.42920563,\n",
       "         209.39178347, 254.79632431, 226.25064948,  84.05027994,\n",
       "         133.28089627, 282.88427726, 110.6916947 ,  13.61215454,\n",
       "         247.55413625,  17.92047852, 164.82804956,  99.79069877,\n",
       "         236.82922352,  44.5456095 ,  21.6503417 ,  30.78948691,\n",
       "           9.00882311, 183.34645184, 138.31327347, 407.89538726,\n",
       "         111.56800269,  84.10756436,  60.18289732, 111.47241546,\n",
       "          59.53243828, 173.56787546, 143.9839021 ,  65.10483939,\n",
       "          61.34916642, 263.50492381, 181.19878505, 200.41940471,\n",
       "         390.64635819, 189.0884307 ,  70.21115078,  14.06309703,\n",
       "         434.28428072,  40.08049143, 348.86778868,  30.45784743,\n",
       "         170.80440872, 115.31488201, 294.03890532, 247.78806521,\n",
       "         305.59036306, 192.96696142,  77.10101882, 137.46789584,\n",
       "         184.18868512, 190.58784315,  96.11362141, 165.50379334,\n",
       "         366.48748265, 228.20992326,  52.50049343, 491.19505958,\n",
       "          62.5405259 ,  63.91989765, 121.05470297,  31.64342213,\n",
       "         118.03148694, 446.82142234, 174.72654287, 154.64075391,\n",
       "          69.10889465,  28.74365649,  67.38610019,  73.40886421,\n",
       "         104.31163779, 482.38200693, 194.61619107, 189.33281629,\n",
       "          89.19887737, 271.34366532, 114.75386039, 138.55761243,\n",
       "         216.42577054,  36.5864041 , 237.12734553, 240.50129114,\n",
       "          91.28247939, 234.60575305, 155.03183346, 165.0495358 ,\n",
       "         259.86141989,  82.40245015, 262.09261898, 130.57702618,\n",
       "         126.39889504, 208.27365432,  90.54690825,  41.70695577,\n",
       "         212.06248133,  13.81372814, 328.00697933, 188.81470244,\n",
       "         267.83362422, 205.84405312,  60.97694872, 198.32339831,\n",
       "         222.75728125, 120.48667433, 134.3450922 , 391.40008338,\n",
       "           7.41487505, 110.47895975, 445.92739889, 198.48178739,\n",
       "         119.48746708, 105.28316362, 198.81917533, 117.72595062,\n",
       "          81.18125456, 309.86581262, 110.58651155,  40.92971144,\n",
       "         339.17675729,  60.69916586, 248.85828686, 245.05675798,\n",
       "          66.84329566, 103.5044492 , 185.91008804,  47.40906518,\n",
       "         121.09887351, 279.46160916,  48.6666431 ,  39.47968474,\n",
       "         112.63378287, 639.77706944,  53.13483461, 179.19031024,\n",
       "          47.34314483,   8.13706325,  50.93931602, 295.8701402 ,\n",
       "          61.70756814, 129.7819176 ,  60.07587894, 486.77269732,\n",
       "         355.66008917, 273.07698046,  90.7044552 , 126.04073384,\n",
       "         106.26352395, 115.07611584, 190.641802  , 317.87660757,\n",
       "          41.90290388,  44.00659634,  74.15263401,  30.12392976,\n",
       "          39.65892901, 203.59009206, 237.0968365 ,  69.57853913,\n",
       "         210.56464412, 252.53774114, 250.7280254 , 167.19014942,\n",
       "          55.85576741,  54.73436375, 531.81227039,  72.284232  ,\n",
       "         305.81045279,  90.67098815, 191.41647173, 188.79203133,\n",
       "         136.64631451, 206.39761871,  12.27368397, 140.20082671,\n",
       "         370.5320234 , 298.98884599, 259.05954925,  42.19019365,\n",
       "          46.22346869, 211.2772368 , 254.0945459 ,  71.93858664,\n",
       "          45.89086565, 172.78330784, 247.93769884, 143.04497951,\n",
       "         197.87619748, 146.09087667,  59.00713519,  39.26820286,\n",
       "          98.9914023 , 206.54974263, 200.7116211 , 115.67624315,\n",
       "          58.46751908,  65.08767404,  22.59357857, 252.79989472,\n",
       "         205.18480314,  64.59282315, 200.99642786,  57.08874494,\n",
       "          56.54712409, 179.53978321, 349.78496302,  76.4712762 ,\n",
       "         146.32693755, 120.56800932,  38.58222606,  89.88706242,\n",
       "         407.72240403, 137.26754295, 144.41079028,  55.94422614,\n",
       "          43.30659396,  36.11887481, 115.11458016,  63.01763621,\n",
       "         138.42854452, 194.44483021,  59.89929176, 193.54128899,\n",
       "         198.59972171,  78.63806095, 218.04833639,  21.79921812,\n",
       "         513.25792398,  27.22618281,  13.305621  , 241.30525315,\n",
       "         178.01484851,  46.8885835 ,  47.96407186,  45.46169971,\n",
       "         143.7467087 ,  18.79280869, 104.68913739,  50.1596566 ,\n",
       "         350.6969435 , 208.77583694, 135.33047438,  70.76844217,\n",
       "          87.85164094, 425.47116113, 135.40984567,  80.4372419 ,\n",
       "         188.56947147,  20.84326729, 550.14276796,  93.703186  ,\n",
       "         123.73085301, 217.68900717,  93.20902887, 468.02192904,\n",
       "         428.9699015 ,  46.92020374, 114.45287189, 288.74649813,\n",
       "         505.64940471,  66.81352408,  28.46087539, 265.81058699,\n",
       "          61.39381543, 344.37570861,  51.40590608,  99.37280803,\n",
       "          49.84317504, 201.47516767,  23.2855002 ,  33.38379326,\n",
       "         487.28703921,  88.82275251, 136.74039271,  45.28706797,\n",
       "         403.81844594, 130.75369139, 138.36144092, 144.37263958,\n",
       "          39.22401106, 190.91096046, 258.42213321, 151.20325086,\n",
       "          92.94592396, 189.54778595, 204.59005668,  21.44004323,\n",
       "          25.9695125 ,  78.73013985,  12.83241875, 211.09283864,\n",
       "         224.07672049, 158.6148981 , 306.91050434,  90.87135284,\n",
       "          87.90487701, 212.77479512,  52.46671207, 113.72607519,\n",
       "          37.24429488,  47.21267322, 211.23950302,  41.2986408 ,\n",
       "         168.56496969,  94.0346306 ,  17.92815396,  42.42124915,\n",
       "         222.75558987, 155.95779656, 308.93832906,  25.75432309,\n",
       "          75.25676032,  31.67148469,  61.25859238,  49.95952271,\n",
       "         112.83225069, 389.3224236 , 357.109847  , 333.03955253,\n",
       "         305.67105775, 123.97608339, 431.11272961, 202.69631242,\n",
       "         398.94711959,  26.71614512,  61.85925565, 116.00112002,\n",
       "          47.63519482,  39.65871885,  44.08061223, 109.10047849,\n",
       "          96.39018664,  71.67276528,  99.30100092, 237.26703354,\n",
       "         118.99486791, 202.8481218 , 423.48302746]),\n",
       "  b'METPhi': array([-1.97035751e+00,  2.58946218e+00, -2.93114800e+00,  2.29785970e+00,\n",
       "          2.22784964e+00,  2.12060476e-01,  1.05848170e+00, -1.06504301e+00,\n",
       "         -1.38931652e+00,  2.32755671e+00, -2.77220851e+00, -3.86465843e-01,\n",
       "          8.74096958e-01, -2.26733734e+00,  2.49932310e+00, -1.59964985e+00,\n",
       "         -2.24785767e+00,  1.52510104e-01,  2.26643111e-01, -3.06821469e+00,\n",
       "         -2.59997227e+00, -9.41144843e-01,  1.22965705e+00, -1.26091806e+00,\n",
       "          2.51775120e+00, -2.09891420e-01,  8.51070363e-01,  2.92041345e+00,\n",
       "         -1.83311317e+00, -1.45903534e+00,  2.59861416e+00, -1.72056560e+00,\n",
       "         -1.38126633e+00, -1.76256828e+00, -1.75681425e+00,  1.25059298e+00,\n",
       "          5.67669704e-01, -2.88396368e+00,  3.11373186e+00, -2.87722041e+00,\n",
       "          3.49320501e-01,  2.21295374e+00,  2.71366975e+00,  1.76633800e+00,\n",
       "          2.63863689e+00, -7.53115553e-01, -2.98262598e+00,  2.97278352e+00,\n",
       "         -7.52921189e-01, -1.58154383e+00, -3.12741256e+00, -2.27510811e+00,\n",
       "          3.32403019e-01,  1.67369694e+00, -2.91167633e+00,  3.35185271e-01,\n",
       "          2.90141444e+00,  1.24968482e+00,  8.04310848e-01,  1.08752943e+00,\n",
       "         -2.12300857e+00, -1.30014071e+00, -2.66286190e+00, -2.68219530e+00,\n",
       "         -5.43311129e-01,  2.80645475e+00,  2.26795924e+00, -2.25726698e+00,\n",
       "         -2.36063774e+00,  1.40657365e+00,  2.55936519e+00, -9.87839595e-01,\n",
       "          3.01427511e-01,  2.65499414e-01,  3.07986826e+00,  5.44102735e-02,\n",
       "          7.85559400e-01, -4.53562174e-01, -8.72089858e-02,  7.99400917e-01,\n",
       "          6.72850757e-01,  2.28839440e+00,  1.24778173e+00, -2.75454822e+00,\n",
       "          2.17094750e+00, -9.19034662e-01, -2.90289126e+00,  1.52557157e-01,\n",
       "          1.66168387e+00, -1.95869001e+00, -6.97601299e-01, -8.02037448e-01,\n",
       "          2.62420480e+00, -1.71078149e+00,  6.63748778e-01, -2.53217850e+00,\n",
       "          2.87200412e+00,  2.99583980e+00, -1.53510271e-01, -9.43446665e-01,\n",
       "          1.58312235e+00,  1.26427173e+00, -1.36464711e+00,  1.13382659e+00,\n",
       "         -2.63859238e+00, -2.29465001e+00,  1.44434662e+00,  8.90029789e-01,\n",
       "          2.49923471e+00, -2.04610950e+00,  2.22779964e+00,  1.18546500e+00,\n",
       "          1.94682868e+00,  2.48963238e+00, -2.94407632e+00, -2.72992210e+00,\n",
       "          1.25742772e+00, -2.38623158e+00, -2.78515606e+00,  2.93207202e+00,\n",
       "          1.39111741e+00,  2.01827107e+00,  1.81749133e+00, -2.18056327e+00,\n",
       "         -8.53850979e-01,  2.30311743e+00,  2.38275539e+00, -2.53142643e+00,\n",
       "          1.11865170e+00, -8.95138700e-01,  3.08273183e+00, -2.37004641e+00,\n",
       "         -3.76293919e-01, -9.96533580e-01,  8.13412533e-01, -1.76888984e+00,\n",
       "          2.97395633e+00,  2.08050109e+00, -2.14548096e+00,  2.89524646e+00,\n",
       "          2.10980570e+00,  6.29781678e-01,  2.53900026e-01,  1.63639276e+00,\n",
       "          1.81480802e-02,  9.96461812e-01, -1.48063548e+00, -2.41176258e+00,\n",
       "          1.73934657e-02,  1.37029438e+00,  2.24366087e+00,  1.39368176e+00,\n",
       "          2.95810539e+00, -2.72461756e+00, -2.72143416e+00,  2.92092762e+00,\n",
       "         -2.23917759e+00,  1.39955726e+00, -2.89397948e+00,  1.63594844e+00,\n",
       "          1.37819367e+00,  1.32690538e+00, -3.06550059e+00, -2.06733280e+00,\n",
       "         -2.40540901e+00,  9.17941761e-01, -1.98734820e+00, -2.27325416e+00,\n",
       "         -1.28029797e+00, -9.47299281e-01,  1.13545841e+00, -1.78581720e+00,\n",
       "         -1.34932160e+00,  1.11499446e+00,  7.05881037e-01,  2.68583753e+00,\n",
       "         -1.04179645e+00,  2.84914304e+00,  7.75085374e-01,  1.11857536e+00,\n",
       "          1.38276512e-01,  5.43795323e-01,  3.08288813e+00, -1.68175308e+00,\n",
       "          2.12227484e+00,  2.96515277e+00,  2.54902422e+00, -2.85278193e+00,\n",
       "         -2.16048567e+00,  2.99185871e+00,  2.48454565e+00,  1.61787300e+00,\n",
       "         -1.75813346e+00,  1.66596808e+00, -5.68679263e-01,  6.54173249e-01,\n",
       "          5.09766396e-01, -3.08665998e+00, -2.89562881e+00, -1.69323329e+00,\n",
       "          1.35514180e+00, -9.66562937e-01, -1.68634968e+00,  4.84831380e-01,\n",
       "         -2.51014866e+00,  1.08710159e+00, -8.62323301e-01,  2.26229397e+00,\n",
       "         -9.39935485e-01, -2.08918636e+00,  9.80887299e-01, -2.13701357e+00,\n",
       "          2.01284802e+00,  3.76827395e-01,  4.63254488e-02, -1.33454638e+00,\n",
       "          2.74087077e+00,  1.31934370e+00, -2.63377859e+00,  2.88459609e+00,\n",
       "          1.50489611e+00, -1.64862551e+00, -1.44666503e+00,  2.37636429e+00,\n",
       "          1.82467930e+00, -2.11996837e+00,  2.63494107e+00, -4.56595800e-01,\n",
       "         -2.70961063e+00, -8.96090028e-01, -1.93902772e+00, -1.39229232e+00,\n",
       "          1.50566958e+00, -2.44777659e+00,  1.48486106e+00,  3.90423733e-01,\n",
       "          2.53655225e+00, -2.70090815e+00,  2.07819150e+00, -2.99749493e+00,\n",
       "         -6.96465932e-02,  9.32460934e-01,  1.37910614e+00,  2.81370326e+00,\n",
       "          1.09431467e+00,  1.30784273e+00, -2.52531414e+00, -1.43156061e+00,\n",
       "         -2.25170272e+00, -2.28138822e+00, -1.02684151e+00,  3.42274947e-01,\n",
       "          2.01504184e+00, -2.16112068e-01,  1.21189161e+00,  2.99825457e+00,\n",
       "          2.55664302e+00,  2.46451712e+00,  8.56532306e-01,  1.97228192e+00,\n",
       "          1.70681317e-01,  1.44505173e+00,  2.06716873e+00,  1.96243393e+00,\n",
       "          2.78972905e+00, -2.38678005e+00,  1.19103678e+00, -5.93012317e-01,\n",
       "         -1.47255524e-01, -2.52755327e-01, -1.82942306e+00, -2.96607074e+00,\n",
       "          1.17766665e+00, -2.67469247e+00,  1.20175987e+00, -1.56866794e+00,\n",
       "          8.23800874e-01, -6.71485339e-01, -1.86990403e-01, -1.89062864e+00,\n",
       "          9.72953788e-02, -2.76685802e+00,  9.32296992e-01,  1.21560455e+00,\n",
       "         -2.58689927e+00, -2.57170398e+00,  2.80004517e+00, -1.44912284e+00,\n",
       "          1.21832425e+00, -1.73485619e+00,  7.93048431e-01,  8.19694072e-01,\n",
       "          1.30307991e+00,  1.70901469e+00, -2.77967165e-04,  9.37802989e-01,\n",
       "          1.25278633e+00,  7.98829219e-01,  1.21284397e+00,  7.12669464e-02,\n",
       "         -2.99114811e+00,  2.06227955e-03,  2.61131053e+00,  1.86975510e+00,\n",
       "          3.21411277e-01, -1.32187086e+00,  1.99158566e+00, -1.78674618e+00,\n",
       "          8.56257910e-01, -2.63945860e+00,  2.95511621e+00, -1.45598411e+00,\n",
       "         -3.14125736e+00,  2.97845316e+00,  3.09235887e-01, -2.20532224e+00,\n",
       "         -1.72968007e+00,  2.59195180e+00, -1.40395032e+00, -2.66805544e+00,\n",
       "          2.53123056e+00,  1.26958530e+00,  1.75877783e+00,  3.11245515e+00,\n",
       "          1.56499755e-01, -4.91366356e-01,  1.19577055e-01,  2.51974713e+00,\n",
       "         -1.23894896e+00, -1.75875690e+00,  5.37456985e-01,  2.22178930e+00,\n",
       "         -2.74369078e-01,  2.40479542e+00, -2.17238865e+00,  6.10608685e-01,\n",
       "          1.76506685e+00, -2.50488606e+00,  3.17676009e-01,  6.02491059e-01,\n",
       "          2.74581221e+00, -2.04239444e+00,  1.01200098e+00,  2.31761668e+00,\n",
       "          1.55886848e+00, -2.96525760e+00,  3.30026599e-02,  8.54126414e-02,\n",
       "         -2.37961001e+00, -1.67520935e+00, -1.32949443e+00, -3.44008993e-01,\n",
       "          2.14697959e+00, -1.58547040e+00, -2.54051911e+00,  2.21092204e+00,\n",
       "         -2.06847002e+00,  3.13661245e+00, -2.46327284e+00,  2.96724515e+00,\n",
       "          4.84402485e-01,  1.52810373e+00, -8.45160742e-01, -5.85415830e-01,\n",
       "          2.40026585e+00, -1.95245964e+00,  2.90036660e+00, -3.06709764e-01,\n",
       "          1.02265204e+00, -8.91909917e-01,  1.46278741e+00, -2.01316679e+00,\n",
       "          2.32389016e+00, -2.57848828e+00, -6.51685149e-01,  1.21081080e+00,\n",
       "          2.49836309e+00, -1.30200074e+00, -2.24839719e+00,  2.69135259e+00,\n",
       "         -4.41395961e-01,  1.66397817e+00, -7.09074022e-01,  2.97385560e-01,\n",
       "          2.03717917e-01, -7.71779597e-01,  1.73775659e+00, -2.79680308e+00,\n",
       "         -5.99407035e-01,  2.77631674e+00,  1.82294380e+00, -2.93780312e+00,\n",
       "          1.40756112e+00,  1.26768589e+00, -1.34350415e+00,  1.33807038e+00,\n",
       "          3.91769801e-02,  1.60390721e+00,  2.02539627e+00,  4.94052914e-01,\n",
       "          2.45698169e+00,  1.85304084e+00,  2.98647919e+00,  2.71660081e+00,\n",
       "         -1.47281538e+00,  1.68211241e+00, -3.93030171e-01,  2.02243670e+00,\n",
       "         -1.03152059e+00, -2.42478862e+00, -3.06655484e+00, -2.49476073e+00,\n",
       "         -2.83926975e-01, -2.02106692e-01,  1.73641268e+00,  2.89443667e+00,\n",
       "         -1.50078696e+00, -2.09278292e+00, -2.40885479e+00, -2.94777483e+00,\n",
       "          1.31312674e-02, -9.37818925e-01, -1.86925881e+00, -2.23220567e+00,\n",
       "         -3.03893406e+00,  3.05440098e+00,  7.93146983e-01, -1.34874924e+00,\n",
       "          1.67272575e+00,  3.12634806e+00, -8.28493523e-01,  2.12723237e+00,\n",
       "          8.04842386e-01,  2.43471080e+00,  4.13179066e-01,  2.58158230e+00,\n",
       "          7.87961978e-01, -3.06766793e+00,  2.03577471e+00,  6.96076667e-01,\n",
       "          1.14565636e+00, -1.94373728e+00, -1.20754988e+00, -2.46302173e+00,\n",
       "          1.25129529e+00,  3.13719532e+00, -9.39115616e-01,  1.95610155e+00,\n",
       "         -7.99989780e-01,  2.96567549e+00,  1.62877007e+00, -4.20095349e-01,\n",
       "          2.76470614e-01,  2.06144277e+00, -4.24926642e-01, -2.17280119e+00,\n",
       "          8.60041275e-01, -1.55419863e+00, -3.15994111e-03,  2.84360934e+00,\n",
       "          1.19888818e+00, -3.05507537e+00, -1.96093726e+00,  2.43699585e+00,\n",
       "         -2.90159277e+00, -1.20786656e+00,  7.23546502e-01, -1.15495267e+00,\n",
       "         -1.93934024e-01, -3.07308130e+00,  1.47434573e+00,  2.94006005e+00,\n",
       "          1.24785391e+00,  2.76159930e-01, -8.05899326e-01, -1.70063467e+00,\n",
       "          1.88008126e+00, -1.02284576e+00, -3.04261616e+00, -1.57018754e+00,\n",
       "          1.20517150e+00, -5.71095185e-01,  2.18462119e+00, -2.64044863e-01,\n",
       "         -2.29158633e-01,  1.37719564e+00, -1.50405842e-01,  2.15838017e+00,\n",
       "         -1.35815733e+00,  9.32967472e-01,  2.29996862e+00, -2.27800796e+00,\n",
       "         -2.42713601e+00,  8.77588583e-01, -4.84278773e-01, -2.09213530e+00,\n",
       "         -2.55831238e+00,  9.08675592e-01,  1.74952921e+00,  3.19787783e-01,\n",
       "         -1.08950466e+00, -1.60969286e+00,  2.00643481e+00, -6.16004286e-01,\n",
       "          1.67316053e-01, -4.35138594e-01,  2.03067812e+00,  8.57281523e-02,\n",
       "         -1.72369512e+00, -2.30107260e+00, -9.68250028e-01,  2.81980123e+00,\n",
       "         -1.51818223e+00,  1.48520420e+00,  9.22918058e-01,  1.44029756e-01,\n",
       "          2.84944569e+00, -1.16351719e+00, -2.11504351e+00,  1.88859886e+00,\n",
       "         -2.39802910e+00,  9.63539061e-03,  6.81329577e-01, -2.69592332e+00,\n",
       "         -6.01041182e-01,  2.04037866e+00, -1.41672707e+00,  2.73399381e+00,\n",
       "         -2.40449816e-01,  1.90535021e+00,  1.31166728e-01,  2.48360166e+00,\n",
       "         -2.22905398e+00,  2.50390260e-02,  2.38484242e+00, -1.32704703e-01,\n",
       "         -2.44834274e+00, -1.01388755e+00,  1.22856218e+00, -2.67527877e+00,\n",
       "         -1.15527344e+00, -2.38119849e-01, -1.70293478e+00,  1.06750360e+00,\n",
       "         -1.33098850e+00,  3.10415445e-01,  2.97898417e+00, -1.73314870e+00,\n",
       "          2.48573814e+00, -7.04571262e-01, -1.64619742e+00,  8.14023173e-01,\n",
       "         -1.31590806e+00, -2.95761639e+00,  1.22733093e+00,  2.87203206e+00,\n",
       "         -2.20792285e+00, -1.91986649e+00, -7.13452745e-01,  1.84842451e+00,\n",
       "         -2.03784434e+00,  2.32735570e+00,  1.16573041e+00,  1.96383788e+00,\n",
       "          2.81096990e+00, -7.86290592e-01,  2.46406561e-01,  5.36376938e-01,\n",
       "         -1.74546588e+00,  2.98954936e-01,  1.24039791e+00,  1.30760604e+00,\n",
       "         -2.40365081e-01,  3.07045961e+00,  4.33376350e-01, -1.11634904e+00,\n",
       "         -1.40060298e-01, -5.43214228e-01, -2.67977509e+00, -3.04989616e+00,\n",
       "          8.64115932e-01,  3.08224897e+00,  9.51856344e-01, -2.42352276e+00,\n",
       "          2.10208360e+00,  8.75122278e-01, -2.22677407e+00, -1.34917009e+00,\n",
       "         -1.34892720e+00, -6.07552473e-01, -2.29577758e-01, -2.87726270e-01,\n",
       "         -1.14408097e+00,  1.45310067e+00,  2.05874025e+00,  6.45048878e-01,\n",
       "          1.04225980e+00,  8.97870446e-01, -1.73430475e+00, -3.06168901e+00,\n",
       "         -1.28879081e+00, -1.45024378e+00,  4.12430496e-01,  1.62434793e-01,\n",
       "          2.49987123e+00, -1.29949303e+00, -3.79921723e-01,  1.19512900e+00,\n",
       "         -9.34307975e-02,  1.76115015e+00,  1.20403087e+00,  8.18558035e-01,\n",
       "          1.04857721e+00, -1.36862310e+00,  1.90292639e+00,  8.21467437e-01,\n",
       "         -2.98338892e+00,  2.55066372e+00, -2.18690368e+00, -2.47324367e+00,\n",
       "          3.13676989e+00,  2.51153496e-01,  2.99073873e+00,  2.56736437e+00,\n",
       "         -2.78498372e+00,  2.06851899e+00,  2.26041875e+00,  1.27787064e+00,\n",
       "         -1.18484047e+00, -4.31116680e-01, -7.44377743e-01, -2.62094672e+00,\n",
       "         -1.10563538e+00, -2.27626158e+00,  1.11071528e+00, -1.56306143e+00,\n",
       "          1.35045547e+00,  1.72818440e+00, -1.73451614e+00,  2.00207947e+00,\n",
       "          2.72346338e+00,  1.16035120e+00,  1.97102538e+00,  2.67717728e+00,\n",
       "          2.72682054e+00, -7.85167719e-01,  2.11096106e+00, -5.94140876e-01,\n",
       "         -8.44397111e-01,  1.91928323e+00,  2.69837868e+00,  1.41476712e+00,\n",
       "          1.37858173e+00, -7.09262848e-01,  1.66127804e+00, -1.81378010e+00,\n",
       "          1.75490797e+00, -2.52781674e+00,  2.17207117e+00, -7.70592415e-01,\n",
       "          1.72028134e-01,  1.50164896e+00, -2.93421386e+00, -1.70813217e+00,\n",
       "          2.52473775e+00,  1.85939321e-01, -2.37864188e+00,  4.32499920e-01,\n",
       "          5.92920276e-01, -7.31735058e-02, -1.02384585e+00, -2.85873613e+00,\n",
       "          2.90828629e+00,  2.71459698e+00, -3.12667935e+00,  1.61970994e+00,\n",
       "         -2.73713742e+00,  2.64846778e+00, -3.13433737e-01, -4.00368679e-01,\n",
       "          2.58460128e+00,  1.37245465e+00, -1.43033365e+00,  2.52343068e+00,\n",
       "         -1.56639680e+00,  1.37029405e+00, -1.11395156e+00,  2.61008372e+00,\n",
       "          2.10968861e+00,  2.06299154e+00, -7.69301135e-01, -2.34573413e+00,\n",
       "         -2.74395442e-01, -1.50314596e+00, -3.60715255e-01, -9.48904123e-01,\n",
       "         -1.74043171e+00,  1.99137604e+00, -1.97342241e+00,  1.70089186e+00,\n",
       "          1.17483018e+00,  3.37359683e-01, -1.46631122e+00,  2.23174004e+00,\n",
       "          1.02170782e+00, -1.33865418e+00, -1.84674769e+00,  2.76714577e+00,\n",
       "         -2.03941277e+00,  1.39833769e+00, -2.44352940e+00,  2.43341323e-01,\n",
       "         -2.80611523e+00, -2.09467340e+00, -6.85069581e-01, -2.33868723e-01,\n",
       "          2.78377885e+00,  2.14544091e+00,  1.65623303e+00, -2.07011355e+00,\n",
       "         -6.87838414e-02,  1.46894122e+00,  1.41191922e+00, -2.77538311e+00,\n",
       "         -7.64449069e-01, -2.57256882e+00, -8.22998573e-01,  2.70753242e+00,\n",
       "         -2.80221621e+00, -1.05481266e+00, -1.99662979e+00,  3.11650116e+00,\n",
       "          1.61912266e+00,  1.68776911e+00, -3.10543084e+00, -1.00134840e+00,\n",
       "         -1.25336994e+00,  1.34664222e+00,  6.69791130e-01, -4.06858677e-02,\n",
       "         -2.43757228e+00, -3.09595064e+00, -8.12653854e-01,  9.62313579e-01,\n",
       "          1.82284958e+00, -8.01116975e-01,  8.90550180e-01,  3.10671764e+00,\n",
       "         -2.57897572e+00,  4.39535530e-01,  2.45421850e+00])},\n",
       " {b'JetsAK15': <JaggedArrayMethods [[TLorentzVector(x=-33.862, y=437.86, z=436.11, t=619.82) TLorentzVector(x=-338.2, y=-192.87, z=179.94, t=438.21)] [TLorentzVector(x=825.49, y=337.44, z=318.72, t=987.37) TLorentzVector(x=-796.45, y=-361.58, z=-480.7, t=1041.6)] [TLorentzVector(x=359.24, y=-434.92, z=-562.83, t=812.99) TLorentzVector(x=-337, y=310.08, z=-186.25, t=533.85)] ... [TLorentzVector(x=-432.33, y=-42.592, z=407.55, t=624.92) TLorentzVector(x=222.73, y=-151.67, z=-329.93, t=432.33)] [TLorentzVector(x=-510.26, y=-106.9, z=605.28, t=816.74) TLorentzVector(x=273.15, y=123.3, z=162.71, t=365.12)] [TLorentzVector(x=-231.91, y=-567.79, z=1163, t=1338.3) TLorentzVector(x=175.24, y=223.64, z=-328.04, t=465.69)]] at 0x7f1e20056828>,\n",
       "  b'JetsAK15_softDropMass': <JaggedArray [[2.7069039615249655 4.424870881211742] [13.181967670888008 285.8560622557194] [36.60948337128423 35.066732951414664] ... [100.1834360950963 3.611291958908887] [54.704565623135615 124.48653273605872] [199.8474997297353 146.37427015966924]] at 0x7f1e20056ef0>,\n",
       "  b'TriggerPass': <JaggedArray [[-1 -1 -1 ... 0 0 -1] [-1 -1 -1 ... 0 0 -1] [-1 -1 -1 ... 0 0 -1] ... [-1 -1 -1 ... 0 0 -1] [-1 -1 -1 ... 0 0 -1] [-1 -1 -1 ... 0 0 -1]] at 0x7f1e200565c0>,\n",
       "  b'MET': array([3.36940990e+02, 4.93676695e+01, 7.55885299e+01, 5.62345617e+01,\n",
       "         1.19907421e+02, 3.39170438e+02, 1.74309239e+02, 1.32864957e+02,\n",
       "         9.02901677e+01, 7.39819360e+01, 1.07970636e+02, 1.48142225e+02,\n",
       "         3.31522077e+02, 2.49220180e+02, 1.13525827e+02, 1.14448813e+02,\n",
       "         1.14829893e+02, 1.03234974e+02, 3.34313407e+02, 1.16732880e+02,\n",
       "         1.25523013e+02, 8.33177816e+01, 1.70658728e+02, 2.83486364e+02,\n",
       "         2.62774489e+02, 2.44312447e+01, 1.13881556e+00, 2.87651155e+02,\n",
       "         6.20780219e+02, 6.70916159e+01, 2.79830822e+02, 2.42460026e+02,\n",
       "         9.12506992e+01, 1.55212320e+02, 5.15151457e+01, 7.82249900e+01,\n",
       "         1.17003138e+02, 2.54480712e+01, 8.19967406e+01, 6.77907614e+01,\n",
       "         3.38671090e+02, 1.19344491e+02, 2.35515948e+02, 1.40425169e+02,\n",
       "         3.97938391e+02, 3.51417389e+01, 7.21104841e+01, 5.43664755e+01,\n",
       "         5.27870799e+02, 1.86116166e+02, 1.84726270e+02, 6.16725521e+01,\n",
       "         3.22947024e+01, 1.55083657e+02, 6.66975241e+01, 4.73686007e+02,\n",
       "         5.51716573e+01, 1.23213794e+02, 2.46317355e+02, 2.95912650e+02,\n",
       "         3.93192660e+02, 1.28487274e+02, 9.16351234e+01, 2.27577222e+02,\n",
       "         9.97894103e+01, 6.33086376e+01, 8.45840374e+01, 6.88593963e+01,\n",
       "         5.91659488e+02, 9.72699179e+01, 4.46854059e+01, 2.04786902e+02,\n",
       "         1.46159278e+02, 3.64661540e+02, 2.90248579e+01, 2.24974085e+02,\n",
       "         1.17684379e+02, 5.27063609e+01, 8.31936147e+01, 7.92657830e+01,\n",
       "         9.62993495e+01, 8.62601726e+00, 2.20782078e+02, 8.47176592e+01,\n",
       "         7.50645587e+01, 1.15952377e+02, 3.10473776e+02, 2.42679240e+02,\n",
       "         1.57926762e+01, 8.22735879e+01, 6.17944651e+01, 2.65616077e+02,\n",
       "         1.14574686e+02, 6.30388801e+01, 9.38770192e+01, 2.28847373e+02,\n",
       "         1.48559272e+02, 2.23038104e+02, 6.65117401e+01, 4.60298615e+02,\n",
       "         7.21099565e+01, 1.36106336e+02, 4.58265250e+01, 2.42674199e+02,\n",
       "         5.64698928e+01, 7.02262877e+01, 1.07369348e+02, 2.26872836e+02,\n",
       "         6.84552663e+01, 1.92074895e+02, 3.97923140e+02, 9.00073945e+01,\n",
       "         4.78579178e+02, 7.78544999e+01, 3.80410350e+02, 2.36629543e+01,\n",
       "         6.35709814e+01, 5.84209185e+01, 6.36703005e+01, 2.29967138e+02,\n",
       "         1.01021709e+02, 7.70946361e+01, 4.62088371e+01, 1.26120264e+02,\n",
       "         5.04637413e+01, 4.92075999e+02, 1.16950375e+02, 9.88740661e+01,\n",
       "         2.32983501e+02, 8.43527540e+01, 3.43502225e+02, 7.14797290e+01,\n",
       "         3.76677824e+02, 4.38744023e+02, 5.32326519e+01, 1.37280259e+01,\n",
       "         8.96475318e+01, 5.11279951e+01, 1.39816782e+02, 2.95704551e+02,\n",
       "         6.26803165e+01, 1.14183548e+02, 3.45031891e+01, 1.73546423e+02,\n",
       "         1.12768843e+02, 4.41827252e+01, 1.92970857e+02, 2.92542780e+02,\n",
       "         6.77046326e+01, 2.61171356e+02, 2.02344164e+02, 1.33577467e+02,\n",
       "         1.73436144e+02, 9.83804886e+00, 3.17883861e+02, 8.59063790e+01,\n",
       "         7.99789524e+01, 9.82929702e+01, 2.00170537e+02, 1.47354151e+02,\n",
       "         1.94086420e+02, 2.16458276e+02, 9.61852953e+01, 1.26626957e+02,\n",
       "         2.92268433e+02, 1.57132926e+01, 3.61412822e+01, 1.75347212e+02,\n",
       "         3.41009645e+01, 1.20455456e+02, 2.61545288e+02, 3.17352335e+02,\n",
       "         3.35897926e+02, 6.10673335e+01, 3.59735672e+02, 1.05444160e+02,\n",
       "         1.12151379e+02, 2.23100192e+01, 5.82641974e+01, 1.66056540e+02,\n",
       "         6.97823276e+01, 2.36755499e+02, 3.63407323e+02, 1.13147685e+02,\n",
       "         6.41216695e+02, 6.49521856e+01, 4.72750543e+01, 3.61257561e+01,\n",
       "         1.58206752e+02, 1.89730357e+02, 2.54308781e+02, 9.40234272e+01,\n",
       "         2.57873516e+02, 2.36611191e+02, 1.13256017e+02, 1.67626123e+02,\n",
       "         2.00476869e+02, 5.52373644e+01, 6.08684177e+01, 1.03294692e+02,\n",
       "         1.84135254e+02, 2.09167822e+02, 1.23065022e+02, 2.31626195e+02,\n",
       "         1.76509995e+02, 3.17629296e+01, 4.82626516e+01, 4.43799591e+01,\n",
       "         2.20308666e+02, 4.93394867e+02, 1.01707673e+02, 2.20600060e+02,\n",
       "         6.89483512e+01, 3.04582220e+02, 9.74628320e+01, 5.59546049e+01,\n",
       "         9.78791731e+01, 2.58864802e+01, 6.01533515e+01, 6.38151347e+01,\n",
       "         2.01513133e+01, 1.61997016e+02, 2.54222114e+01, 8.14291837e+01,\n",
       "         2.54382113e+02, 1.04383063e+02, 4.57820729e+01, 3.32936400e+01,\n",
       "         3.62857385e+02, 1.17711367e+02, 5.88812840e+01, 1.48048108e+02,\n",
       "         1.64594541e+01, 6.54931644e+01, 4.43709218e+02, 1.09398662e+02,\n",
       "         6.39752067e+01, 3.05961412e+02, 1.27654907e+02, 1.06012555e+02,\n",
       "         1.63952161e+02, 1.84383790e+01, 1.47811428e+02, 1.05643779e+02,\n",
       "         2.12870511e+02, 5.55570920e+02, 2.43887561e+02, 5.36478795e+02,\n",
       "         9.20895892e+01, 2.50185613e+02, 7.08265761e+01, 3.11024046e+02,\n",
       "         5.03061034e+01, 1.29642677e+02, 4.23100935e+01, 7.55261493e+01,\n",
       "         3.18984234e+02, 1.21632313e+01, 2.20120199e+02, 4.16102158e+01,\n",
       "         3.22865833e+02, 1.27887157e+02, 6.43914924e+01, 6.58317723e+01,\n",
       "         3.52876136e+02, 1.62735479e+02, 1.15236176e+02, 6.03195452e+01,\n",
       "         3.60287064e+01, 4.41465437e+01, 9.09099529e+01, 1.30642690e+02,\n",
       "         2.45271448e+02, 1.39018462e+02, 1.52729072e+02, 9.16430571e+01,\n",
       "         9.54116920e+01, 1.51937684e+02, 1.46193203e+02, 2.88857380e+02,\n",
       "         1.72323599e+02, 9.55259214e+01, 7.14387130e+01, 1.01304071e+02,\n",
       "         1.64473121e+02, 3.69646216e+01, 4.23982383e+01, 6.86154351e+02,\n",
       "         1.83501278e+02, 2.58952180e+02, 1.40306252e+01, 2.36625168e+02,\n",
       "         6.52507338e+01, 2.46488576e+01, 1.23063734e+02, 8.66126123e+01,\n",
       "         4.92812952e+01, 8.25602201e+01, 1.26366883e+02, 8.92483768e+01,\n",
       "         6.89001594e+01, 8.61061532e+01, 1.95506541e+02, 1.24691828e+02,\n",
       "         7.51708491e+01, 6.85922593e+01, 9.78554665e+01, 2.89004779e+02,\n",
       "         2.51103326e+02, 5.93195405e+01, 1.52383919e+02, 1.21719665e+02,\n",
       "         3.62237239e+02, 1.36596400e+02, 3.17070094e+01, 3.14643986e+02,\n",
       "         1.55132252e+02, 7.46654566e+01, 2.09271500e+02, 1.32764731e+02,\n",
       "         2.10527983e+02, 3.56239447e+01, 2.54095330e+02, 3.67949276e+01,\n",
       "         1.22299857e+02, 2.65268761e+01, 7.91234846e+01, 1.24585779e+02,\n",
       "         3.10104254e+02, 1.76654620e+02, 1.89752707e+02, 3.13084767e+02,\n",
       "         1.80507544e+02, 2.33872170e+02, 5.03807594e+01, 2.11978546e+02,\n",
       "         3.39566381e+02, 2.33685793e+02, 1.53146874e+03, 9.34997816e+01,\n",
       "         8.14950074e+01, 8.59893925e+01, 1.39919443e+01, 2.45302596e+01,\n",
       "         1.36677866e+02, 3.51397006e+02, 4.62163167e+01, 4.78139040e+02,\n",
       "         6.25608851e+01, 5.66691197e+01, 3.35303050e+02, 3.18060289e+02,\n",
       "         1.64816899e+02, 9.11654123e+01, 1.73788534e+02, 7.96179082e+01,\n",
       "         8.16200714e+01, 1.77047570e+02, 1.23041762e+02, 5.75402425e+01,\n",
       "         1.95864661e+02, 1.99087008e+02, 2.30432269e+02, 7.21877849e+01,\n",
       "         6.94928367e+01, 1.92538141e+01, 4.10664394e+01, 3.70454555e+01,\n",
       "         2.53094803e+01, 6.40149791e+01, 1.74217928e+02, 3.53238147e+02,\n",
       "         8.11098019e+02, 1.67366965e+02, 2.70857910e+01, 1.64318406e+01,\n",
       "         8.38844938e+01, 6.72826398e+01, 7.35246389e+01, 2.39265536e+01,\n",
       "         4.42324328e+02, 2.17982766e+02, 3.26020087e+02, 1.47417245e+02,\n",
       "         4.39651763e+02, 5.83928603e+01, 2.89805371e+02, 8.06907336e+01,\n",
       "         8.60467378e+01, 1.45075820e+02, 1.72087743e+02, 1.75430087e+02,\n",
       "         1.13046854e+02, 1.17825852e+02, 2.21645459e+02, 9.65930680e+01,\n",
       "         3.26418837e+02, 3.81551931e+01, 1.65833447e+02, 6.52977267e+01,\n",
       "         7.15975826e+01, 3.17624241e+02, 6.43901874e+01, 4.39231950e+00,\n",
       "         9.91833749e+01, 1.08860458e+02, 1.85829056e+02, 2.74890435e+02,\n",
       "         1.21545177e+02, 1.11698677e+02, 1.14546900e+02, 1.21386569e+02,\n",
       "         1.30004887e+02, 6.43391346e+01, 3.69500106e+02, 2.51759958e+01,\n",
       "         3.06640184e+01, 3.06051669e+01, 1.76531625e+01, 9.59493537e+01,\n",
       "         2.79231234e+02, 2.10375825e+02, 1.55454362e+02, 1.46743491e+02,\n",
       "         3.60630352e+02, 1.13398193e+02, 4.57562020e+02, 3.68770266e+00,\n",
       "         2.31806215e+02, 5.76406279e+01, 2.11270372e+02, 2.66344965e+02,\n",
       "         1.93745900e+02, 7.66174711e+01, 3.74454738e+01, 1.02462370e+02,\n",
       "         5.12003350e+01, 3.69405761e+02, 2.02362843e+02, 1.42989195e+02,\n",
       "         1.49195011e+02, 2.72599322e+01, 2.49510719e+02, 4.06823257e+01,\n",
       "         3.41663737e+02, 7.95288591e+01, 5.05630838e+01, 6.02992358e+01,\n",
       "         2.78725509e+02, 8.36623915e+01, 3.68996508e+01, 1.27175738e+02,\n",
       "         6.28863073e+01, 3.68133404e+01, 1.83606645e+02, 1.91834394e+02,\n",
       "         3.47879694e+02, 1.73671503e+02, 6.68113670e+01, 3.37764945e+02,\n",
       "         4.56080731e+01, 2.05084155e+02, 3.09707038e+02, 6.22390333e+01,\n",
       "         1.08640025e+02, 3.26651909e+02, 1.91258879e+02, 1.80211026e+02,\n",
       "         1.50809591e+02, 1.21943155e+02, 5.19620078e+01, 1.39358607e+02,\n",
       "         8.57422949e+02, 2.77315542e+02, 7.76488591e+01, 1.39132928e+02,\n",
       "         4.62030723e+01, 5.70616841e+01, 2.21375114e+02, 2.01265666e+02,\n",
       "         1.19573912e+02, 5.23789585e+01, 2.11040826e+02, 7.67536233e+01,\n",
       "         2.28874572e+02, 1.17257656e+02, 5.96695833e+01, 4.49059911e+02,\n",
       "         1.89917967e+02, 2.45610728e+02, 1.63251095e+02, 2.08617893e+02,\n",
       "         2.23427920e+02, 1.57884262e+02, 1.40384484e+02, 1.32014017e+02,\n",
       "         1.40438000e+02, 1.00168371e+02, 1.27968979e+02, 4.56507737e+01,\n",
       "         1.74925147e+02, 1.37316465e+02, 1.11098517e+02, 2.58473061e+02,\n",
       "         1.37473905e+02, 5.71007507e+01, 2.41748843e+02, 6.87291781e+01,\n",
       "         8.59703736e+01, 3.06769371e+02, 1.69897725e+02, 2.32295678e+02,\n",
       "         6.02604619e+01, 6.45889925e+01, 3.59223331e+01, 1.52024442e+02,\n",
       "         1.03193687e+01, 2.27160224e+02, 1.23231795e+02, 3.67981894e+02,\n",
       "         1.85446256e+02, 6.56441741e+01, 6.57754730e+01, 1.46182115e+02,\n",
       "         3.01071694e+02, 9.30242981e+01, 3.48150456e+02, 9.14192111e+01,\n",
       "         2.28255367e+02, 6.12605045e+02, 3.07390829e+02, 2.39861308e+02,\n",
       "         8.63237411e+01, 3.13287451e+02, 3.23819761e+02, 4.21850150e+01,\n",
       "         2.54474533e+02, 1.83081850e+02, 2.69615795e+02, 2.83397591e+02,\n",
       "         3.37024444e+02, 3.05568193e+01, 1.82237840e+02, 5.07076108e+01,\n",
       "         3.28500288e+02, 1.38902720e+02, 2.87820942e+01, 3.99153430e+01,\n",
       "         6.51872584e+02, 1.55360399e+01, 3.12115325e+02, 1.02694090e+02,\n",
       "         1.08704903e+02, 1.50333499e+02, 1.95782158e+01, 6.06569587e+01,\n",
       "         2.97977365e+02, 2.70272667e+02, 1.90473634e+02, 2.44005227e+02,\n",
       "         1.95063374e+02, 4.25088554e+01, 9.90505001e+01, 1.79539673e+02,\n",
       "         1.52794799e+02, 1.39294121e+02, 2.85795891e+02, 2.62305706e+02,\n",
       "         1.57616732e+02, 3.66196161e+01, 2.64766306e+02, 1.16768785e+02,\n",
       "         6.97811539e+01, 6.14425722e+02, 1.96258336e+02, 2.95206527e+02,\n",
       "         4.14572134e+01, 5.85464480e+01, 1.58354886e+02, 3.66508574e+02,\n",
       "         8.27445899e+01, 7.05308876e+01, 2.27405230e+02, 1.34958768e+02,\n",
       "         1.33850841e+02, 7.03811536e+01, 1.17872753e+02, 2.35452691e+02,\n",
       "         3.69317797e+01, 2.33475944e+01, 8.98969453e+01, 9.53039997e+01,\n",
       "         1.59531220e+02, 6.80911371e+01, 1.06110256e+02, 1.14947656e+02,\n",
       "         6.41890388e+01, 2.50146956e+02, 1.38204605e+02, 1.89895652e+02,\n",
       "         1.19349143e+01, 2.28076397e+02, 7.91821060e+01, 1.51681879e+02,\n",
       "         3.16441095e+02, 4.68789551e+02, 6.86640687e+01, 9.62713416e+01,\n",
       "         5.19711106e+01, 1.18086445e+02, 1.22101155e+02, 7.50329002e+01,\n",
       "         9.41682759e+01, 6.91087747e+01, 1.25692103e+02, 2.24388524e+01,\n",
       "         1.72135311e+02, 2.42307258e+02, 2.40097978e+02, 5.51325638e+01,\n",
       "         9.40855169e+01, 1.12201332e+02, 1.83130877e+02, 3.85958972e+01,\n",
       "         5.11563689e+01, 1.18141171e+02, 1.82515826e+02, 2.44232545e+01,\n",
       "         1.02005641e+02, 2.04760218e+02, 4.04518504e+02, 1.36026845e+02,\n",
       "         2.63250457e+02, 2.33052793e+02, 3.78116715e+02, 7.59236729e+01,\n",
       "         1.34263475e+02, 3.75164443e+01, 1.65199830e+02, 4.30396184e+02,\n",
       "         4.23315944e+02, 4.49651245e+02, 1.92914399e+02, 2.71078618e+01,\n",
       "         2.58012645e+01, 6.16283814e+01, 2.84447548e+01, 3.65289254e+02,\n",
       "         9.54240722e+01, 3.18329337e+02, 1.64749232e+02, 8.01561356e+01,\n",
       "         1.74002899e+02, 4.56657866e+02, 4.38730756e+02, 4.30605149e+02,\n",
       "         6.77904925e+02, 2.92951045e+01, 6.71584152e+01, 1.43473101e+02,\n",
       "         2.29813018e+02, 1.26135471e+02, 3.12217382e+01, 8.77398145e+01,\n",
       "         9.34070596e+01, 8.54062098e+01, 7.19976475e+01, 1.51368096e+02,\n",
       "         3.09727896e+01, 6.49984275e+01, 1.36973633e+01, 1.60939180e+02,\n",
       "         1.75349113e+02, 8.36682052e+01, 6.80370712e+01, 1.42970065e+01,\n",
       "         6.22112909e+01, 1.14984261e+02, 2.67076072e+02, 1.67066871e+02,\n",
       "         2.27317020e+02, 1.47088956e+02, 3.24795239e+02, 2.11269113e+02,\n",
       "         1.08691024e+02, 1.09977078e+02, 2.34850699e+02, 2.26676374e+02,\n",
       "         1.59765875e+02, 2.72175310e+02, 3.25022462e+01, 1.72788703e+02,\n",
       "         3.24675323e+02, 3.78529315e+00, 1.08446110e+02, 3.59610941e+02,\n",
       "         1.20917627e+01, 7.63386586e+01, 2.85754004e+02, 5.81358211e+01,\n",
       "         1.60561800e+01, 1.70781154e+02, 1.18492966e+02, 5.75841256e+01,\n",
       "         1.08086960e+02, 1.38331738e+02, 9.36392824e+01, 2.95147207e+01,\n",
       "         6.06072632e+01, 3.01934353e+01, 2.01770015e+02, 1.18886776e+02,\n",
       "         1.00944099e+02, 8.53389320e+01, 1.04265384e+02, 1.95764659e+02,\n",
       "         3.63661653e+02, 4.17584064e+02, 1.55053326e+02, 1.10172654e+02,\n",
       "         1.64860149e+02, 4.31107831e+02, 2.71296407e+02, 8.51797890e+01,\n",
       "         1.85801807e+01, 3.22767585e+02, 1.99074038e+02, 1.15027244e+02,\n",
       "         2.72884518e+01, 9.15815717e+01, 3.59291773e+01, 1.94886234e+02,\n",
       "         2.07768397e+02, 2.53353188e+02, 1.99336630e+02, 3.98673364e+02,\n",
       "         2.44543780e+02, 3.06229997e+01, 1.39879372e+02, 1.47674880e+02,\n",
       "         8.48134668e+01, 3.05562803e+02, 1.73466292e+02, 3.01749370e+01,\n",
       "         1.10342208e+02, 1.87111687e+02, 1.09594745e+02, 9.86583515e+01,\n",
       "         2.86637559e+02, 1.77196465e+02, 2.51386462e+02, 1.79360067e+02]),\n",
       "  b'METPhi': array([-6.81478873e-01,  2.71713986e+00,  2.65643047e+00,  2.69948536e+00,\n",
       "         -2.61997749e+00,  4.24719789e-01,  3.22544418e-01,  1.99247095e+00,\n",
       "          2.72149864e+00, -3.03216366e+00,  2.88080180e+00, -5.98378367e-01,\n",
       "          1.46244434e+00,  1.56858243e+00, -2.14414293e+00,  1.96750411e+00,\n",
       "         -2.38923761e+00,  7.51510228e-01,  1.88980538e+00, -1.56768538e+00,\n",
       "         -3.00707089e+00, -2.31772188e+00, -2.68694264e-01, -9.02346607e-01,\n",
       "          2.36583490e+00, -2.09100555e+00,  1.43034287e+00, -3.08699857e+00,\n",
       "          1.34021898e+00,  1.43991867e+00,  1.17010113e+00, -3.08905860e+00,\n",
       "         -3.00752567e+00, -2.81088055e+00,  1.38627454e+00, -9.54258801e-01,\n",
       "          1.89353821e+00, -1.99451080e-01, -2.95731054e+00,  2.85286482e+00,\n",
       "         -2.59023317e+00,  1.76265766e+00, -3.01364987e+00,  7.87583546e-01,\n",
       "          1.25254805e+00,  2.63928772e-01, -2.64166810e+00, -4.62108451e-01,\n",
       "         -2.97893113e+00,  3.11063774e+00,  1.06540093e+00,  1.10302438e+00,\n",
       "         -2.12929577e+00,  2.07472043e+00, -7.34897857e-01, -2.06118277e+00,\n",
       "         -3.00950104e+00,  1.53045769e+00,  1.64246508e+00, -3.13952049e+00,\n",
       "         -2.59458357e+00,  1.61166900e+00,  1.70625957e+00, -1.87387892e+00,\n",
       "         -5.89440850e-01,  2.17709865e-01, -5.21727981e-01,  2.06743012e+00,\n",
       "         -2.65982762e+00, -2.24988254e+00, -1.13199294e-01, -9.38954316e-01,\n",
       "          1.46618362e+00, -1.54949508e+00, -1.52632752e+00,  9.95940030e-01,\n",
       "         -5.13871984e-01, -2.19495813e+00, -1.57252944e+00,  1.61147675e+00,\n",
       "         -2.90371865e+00,  2.42799430e+00, -5.93000463e-01, -3.04706140e+00,\n",
       "         -2.96729540e+00, -4.94257188e-01,  7.70428569e-01, -6.70955509e-01,\n",
       "          2.81645464e+00, -1.66382630e+00, -2.75835715e+00, -1.81609627e+00,\n",
       "          7.44888301e-01, -1.87201146e+00,  2.89836787e+00,  1.18807287e+00,\n",
       "         -2.67057378e+00,  2.92229548e-01, -9.96449831e-01, -1.60181352e+00,\n",
       "         -1.07261668e+00,  2.25855503e+00, -2.90605163e+00,  1.29430152e+00,\n",
       "         -1.53278075e+00, -1.75185469e+00, -2.87976822e+00, -1.25297628e+00,\n",
       "          1.11025768e-01,  1.97403831e+00,  2.52741106e+00, -2.86629120e+00,\n",
       "         -2.32782212e+00,  2.29721100e+00, -4.32017568e-01,  5.48151127e-01,\n",
       "         -1.42821925e+00,  1.31404827e+00,  3.00627811e+00, -2.27649512e+00,\n",
       "          2.08142273e+00,  2.81782066e+00,  9.10718649e-01, -1.11398581e+00,\n",
       "         -1.54181193e+00, -1.11611934e+00, -1.74424155e+00,  2.09552947e+00,\n",
       "         -3.88183871e-01, -3.12064659e+00,  2.16440131e+00, -2.39766304e+00,\n",
       "         -5.49616452e-01,  8.37846684e-01,  5.78399722e-01, -1.28274072e+00,\n",
       "          8.52307039e-01,  6.15007785e-01, -2.25271605e+00, -2.12634067e+00,\n",
       "          1.53952044e+00, -3.08879089e+00, -2.79210504e+00,  6.33889724e-01,\n",
       "          2.58115478e+00,  1.97050572e+00, -8.58902995e-01,  2.79697159e+00,\n",
       "          1.20963933e+00,  4.22688221e-01,  6.63643893e-01, -3.10756569e+00,\n",
       "          2.36062281e+00, -2.94506346e+00,  2.81375898e+00,  2.13473674e+00,\n",
       "          1.02926819e+00,  9.92960561e-01,  1.57721059e+00, -1.91526368e+00,\n",
       "          1.22447519e+00, -2.42386987e+00,  3.90295997e-01, -1.80231867e+00,\n",
       "         -9.43431775e-01, -3.08009432e-01,  2.38031036e+00, -2.74163672e+00,\n",
       "          8.57952054e-02, -1.17256858e-01,  1.00427569e+00,  6.44567058e-01,\n",
       "         -8.13883393e-01, -1.23674768e+00, -2.94933889e+00, -3.04403327e+00,\n",
       "          1.17148234e+00, -1.31680153e-01,  1.88784615e+00,  1.62394222e+00,\n",
       "         -7.20379200e-01, -2.17987854e+00, -2.06549653e-01,  2.07448335e+00,\n",
       "          2.18513147e+00, -1.69851714e+00, -3.08743127e+00, -2.63121656e+00,\n",
       "         -4.39912947e-01,  1.00640297e+00, -2.54621284e+00,  1.15731547e+00,\n",
       "         -3.98427497e-01, -1.08795888e+00,  4.39327802e-01, -2.58797572e+00,\n",
       "          2.75385418e+00, -1.77536052e+00, -2.89165881e-01, -2.29973094e+00,\n",
       "          1.61431584e+00, -2.24101600e+00, -1.84060712e+00,  1.59856672e+00,\n",
       "          2.87104491e+00,  2.32196038e+00,  2.47436359e+00, -8.42895995e-01,\n",
       "         -6.24377318e-01, -3.16762208e-01, -2.66773354e+00,  2.84045048e+00,\n",
       "          8.12121202e-01, -1.64669969e+00, -9.18145174e-01,  6.25425608e-01,\n",
       "         -9.38339211e-01, -1.06623391e+00,  1.84557715e+00,  1.74182333e+00,\n",
       "         -2.11508116e+00,  1.11088119e+00, -1.51188080e+00,  1.99540400e+00,\n",
       "         -1.84126611e+00,  2.10995626e+00, -1.82600165e-01,  2.70710260e+00,\n",
       "         -1.81168624e+00,  1.40871137e+00,  2.58261309e+00, -1.72695673e+00,\n",
       "         -6.57425919e-01, -2.83983722e+00,  2.52516429e+00, -2.23728664e+00,\n",
       "         -2.88868895e+00, -4.07779950e-02, -5.52188322e-01, -1.22064289e+00,\n",
       "          3.12244554e+00,  1.95406229e+00, -2.86847640e+00,  2.10960359e+00,\n",
       "          2.78435653e+00,  2.02276160e+00, -1.65553700e+00, -2.94037690e+00,\n",
       "          4.41865107e-01,  2.17204410e+00,  3.70537870e-01, -3.00265291e+00,\n",
       "         -1.71587538e-01, -1.83036748e+00, -2.95565961e+00,  8.85740919e-01,\n",
       "         -1.16495125e+00,  1.57780273e+00,  5.48760982e-01,  8.98600364e-01,\n",
       "         -2.54556042e+00,  1.14756799e+00, -8.14827735e-01, -1.93550451e-01,\n",
       "          1.94445656e+00,  2.01394267e+00, -1.19974471e+00,  2.70404718e+00,\n",
       "         -1.89357811e+00,  4.15695861e-01, -1.77311040e+00,  2.38767474e+00,\n",
       "          1.36857270e+00, -1.06553986e+00,  7.22043205e-01, -2.73359093e-01,\n",
       "          2.26589726e+00,  9.31343553e-01, -5.19449443e-01, -1.58130379e+00,\n",
       "         -4.38134071e-01,  1.61107535e+00, -2.55304073e+00,  8.43618328e-02,\n",
       "          1.02735268e+00, -1.94384921e+00,  4.12456157e-01,  2.69341838e+00,\n",
       "          1.66037455e-01, -1.18187012e+00, -3.07567829e+00, -1.55111829e+00,\n",
       "         -1.59556400e+00,  1.56126049e+00, -1.04932745e+00,  1.37011128e+00,\n",
       "          2.76687365e+00, -2.45831987e+00,  2.87716217e+00, -1.45313096e+00,\n",
       "          2.27060632e+00,  1.32741448e+00,  2.00439569e+00,  1.33397025e+00,\n",
       "          2.73657390e+00, -2.97209551e+00, -5.56106260e-01,  1.16051182e+00,\n",
       "         -2.33542956e+00, -2.09773263e+00,  1.84278276e+00,  1.58402366e+00,\n",
       "          8.72248475e-01,  3.12214419e-01,  3.03106566e+00, -2.42475398e+00,\n",
       "          2.00435869e-01,  1.47917122e+00,  3.16992336e-01,  9.16696092e-02,\n",
       "         -1.18158289e+00,  6.94677742e-01,  1.53969030e+00, -7.37144461e-01,\n",
       "         -1.36748837e+00, -1.45914546e+00,  2.10834897e+00, -2.91793931e+00,\n",
       "         -2.74520775e+00, -2.87144278e-02,  1.40395067e+00, -1.44392358e+00,\n",
       "          1.32669629e+00, -1.73979043e+00,  1.37387794e+00,  1.51207446e+00,\n",
       "         -6.70661579e-01,  7.81652404e-01,  5.68102622e-01, -2.63293921e+00,\n",
       "         -2.26840302e+00, -6.15369993e-01, -1.65606666e+00, -9.57543245e-01,\n",
       "         -2.43140267e+00, -8.08734939e-01, -1.26962435e+00, -5.39655024e-01,\n",
       "          4.42026548e-01, -2.38197212e+00,  1.35044133e+00, -3.12820013e+00,\n",
       "          8.90230536e-01,  6.45922951e-01, -2.03340737e+00, -2.32954226e+00,\n",
       "         -5.15939578e-01,  2.84285445e+00, -2.12093480e+00,  1.64400439e+00,\n",
       "          5.54243738e-01, -2.13294235e+00,  2.46179368e-01,  4.51300308e-01,\n",
       "          2.08214229e+00,  3.48801969e-01, -1.34614717e+00, -1.71790225e+00,\n",
       "         -2.81193587e+00,  2.07866344e-01,  2.11500938e+00, -7.93704964e-01,\n",
       "         -1.08419549e-01,  2.30150446e+00,  1.12792036e+00, -1.64922022e+00,\n",
       "         -3.85283839e-01,  8.78591884e-02, -2.80518819e+00,  2.64143205e+00,\n",
       "         -1.61541519e+00,  5.57965775e-01, -2.21586493e+00, -3.00766825e-02,\n",
       "          3.09095924e+00, -1.59727411e+00,  8.67018890e-01,  1.58905943e+00,\n",
       "         -1.13550174e+00, -1.92996380e+00,  2.67629434e+00, -2.82007745e+00,\n",
       "         -9.31976752e-01,  5.81333007e-01, -2.14575678e+00, -1.81950002e+00,\n",
       "         -2.37090935e+00,  1.07988896e+00, -1.37867917e+00,  2.82675947e+00,\n",
       "         -2.05294199e+00, -1.08052815e+00, -1.60498739e+00, -1.56097089e-01,\n",
       "          8.25404906e-01, -2.93353329e+00,  2.88494141e+00, -2.48836045e+00,\n",
       "          1.58835081e+00, -1.83977579e+00,  2.83567640e+00, -2.88023619e+00,\n",
       "         -1.59858392e+00,  2.97209492e+00, -2.04932379e+00, -2.21888845e+00,\n",
       "         -2.68536816e+00, -1.12771195e+00, -2.55286247e+00, -3.04396667e-01,\n",
       "          2.40970444e+00,  2.90864484e+00,  1.22324137e+00, -4.10278167e-02,\n",
       "         -2.99946556e+00,  7.66235383e-01,  1.16857031e+00, -1.29261593e+00,\n",
       "          1.99939495e+00,  1.13097422e+00, -1.10723365e+00, -2.51439322e+00,\n",
       "          1.90577647e+00, -2.04479837e+00, -5.05358154e-01,  7.08180436e-01,\n",
       "          1.94197222e+00, -1.33719202e+00, -2.73576585e+00,  1.89491937e+00,\n",
       "          2.68935484e+00, -1.22094731e+00,  1.20382330e+00,  2.87350098e+00,\n",
       "          1.43616688e-01, -6.05349670e-01,  3.07253481e+00, -5.51460981e-01,\n",
       "         -1.45010886e+00, -1.77033883e+00, -3.07462604e-01,  3.99754600e-01,\n",
       "          2.54386453e+00,  2.59681236e+00,  1.74140782e+00, -6.34146827e-01,\n",
       "          7.51479379e-01,  2.67706365e+00,  7.25224164e-01, -1.94666429e+00,\n",
       "          1.17881032e+00,  6.54372728e-01, -8.38619511e-01,  2.88567075e+00,\n",
       "          1.86592182e+00, -1.54583192e+00,  2.67549426e+00,  1.53388523e+00,\n",
       "         -3.12970728e+00, -1.03851651e+00,  9.22055052e-01, -1.53227838e+00,\n",
       "         -1.10309138e+00,  2.92455002e+00, -2.19772558e+00, -1.14675531e+00,\n",
       "         -3.02718619e+00, -1.08273953e+00,  7.74310163e-01, -1.55734933e+00,\n",
       "         -2.48035819e+00,  2.64154257e+00, -2.18938242e+00,  1.34227592e+00,\n",
       "          9.14195860e-01, -1.75922562e-01, -2.31762277e+00,  3.07685716e+00,\n",
       "          2.95334000e+00, -1.76195135e+00,  1.96440789e+00,  1.43634925e+00,\n",
       "         -1.54529977e+00, -3.78809857e-01,  5.87716278e-01, -1.31451870e+00,\n",
       "          1.74392246e+00,  4.95563573e-01,  2.53728863e+00,  2.65836303e+00,\n",
       "         -2.00170146e+00,  6.93689627e-01, -1.50264456e+00, -1.59523615e+00,\n",
       "          2.06883319e+00, -1.76540480e+00, -2.40272545e+00, -7.42944213e-01,\n",
       "         -1.81723614e+00, -2.95024335e+00,  8.90305823e-01, -2.61803011e+00,\n",
       "          2.71614949e+00, -9.69693988e-01, -2.83365254e+00,  1.35496329e+00,\n",
       "          2.87558603e+00, -1.07749783e+00, -3.11164752e+00,  2.00497956e+00,\n",
       "         -1.56528544e+00, -2.60006012e+00,  7.22321089e-01, -1.25695574e+00,\n",
       "          7.64098087e-01,  1.81201141e+00,  2.45704031e+00,  2.44723073e+00,\n",
       "         -1.17983696e+00, -2.28334776e+00, -8.19962810e-01, -2.08794797e+00,\n",
       "         -9.32284720e-01,  1.22598002e+00,  1.73871319e+00,  2.28945701e+00,\n",
       "         -1.55141836e+00, -7.99542624e-01,  2.10288958e+00,  2.57269136e+00,\n",
       "          1.40360047e+00,  2.66633369e+00,  1.35656629e-01, -7.83375146e-01,\n",
       "         -1.31578954e+00,  2.90318218e+00,  1.79083223e+00, -1.12302679e+00,\n",
       "          1.26010480e+00, -9.01507087e-01, -5.71141777e-01, -3.08135512e+00,\n",
       "          2.03275308e+00, -2.41027905e-01,  1.01387854e+00,  6.91834054e-01,\n",
       "         -1.83549493e+00, -3.13158100e+00, -1.74322393e+00, -2.89689936e+00,\n",
       "         -3.07094251e+00,  2.51081776e+00,  1.97727811e+00, -6.79017047e-01,\n",
       "          2.64819610e+00,  1.11452558e+00,  9.89608566e-01, -1.06117068e+00,\n",
       "         -8.13264492e-01,  9.86587379e-01, -2.51721238e+00, -2.52593057e+00,\n",
       "         -2.17058407e-01,  2.49941462e+00,  2.77910602e+00,  1.30021798e+00,\n",
       "         -2.16490689e+00, -4.11504075e-01,  7.15598637e-01, -1.82683887e+00,\n",
       "         -1.31137386e+00, -2.96463548e+00,  1.27175237e+00,  8.46002877e-01,\n",
       "          6.39902184e-01, -2.67216361e-01,  1.55726341e+00, -1.95079497e+00,\n",
       "          1.51237357e+00, -4.19356220e-01, -2.59215335e+00, -2.87367684e+00,\n",
       "         -2.51317122e+00, -2.10815619e+00,  2.25473346e+00, -2.90314932e+00,\n",
       "          1.17783882e+00, -4.11682104e-02,  2.41765038e+00, -1.82037785e+00,\n",
       "          2.68504741e+00, -8.64210201e-01, -4.88968328e-01,  1.78216218e+00,\n",
       "          2.55813658e+00,  3.80868502e-01,  2.80361549e+00,  1.79578361e+00,\n",
       "         -1.33754698e-01, -1.54560216e+00,  2.13928762e+00,  2.62154913e+00,\n",
       "         -5.00121247e-01, -1.99212419e+00,  2.01001461e+00,  9.74337181e-01,\n",
       "          6.08119792e-01, -2.18012376e+00,  1.94075076e+00,  1.03172447e+00,\n",
       "         -1.88544447e+00,  1.70177943e+00, -2.71733610e+00, -1.75799481e+00,\n",
       "          8.14832025e-01,  2.72330889e+00,  2.23948833e+00,  5.43655409e-01,\n",
       "          3.08132829e+00, -1.72142855e+00, -1.92227624e+00,  1.88710510e-01,\n",
       "          2.54026819e+00, -5.28086434e-03,  2.58966244e+00, -4.70742145e-01,\n",
       "          2.30943268e+00, -1.46890234e+00,  1.98146979e+00, -1.39166579e+00,\n",
       "         -2.50053992e+00, -1.84748830e+00,  4.06946229e-01, -7.53301978e-01,\n",
       "          1.78787755e+00, -1.21875164e+00, -6.06080132e-01, -1.14269230e-01,\n",
       "          1.40964529e-03, -2.05237302e-01,  1.04724397e+00, -5.43742233e-01,\n",
       "         -1.34169200e+00,  3.12156432e+00, -3.38622377e-01,  2.88973244e+00,\n",
       "          1.45368497e+00,  3.00515036e+00, -2.93530505e+00, -9.02980826e-01,\n",
       "         -2.33469579e+00, -2.32370089e+00, -1.81580943e+00, -3.91976870e-01,\n",
       "          1.35942049e+00, -3.42215542e-01, -9.01603582e-01, -3.84382129e-01,\n",
       "          2.75783866e+00, -2.07308223e+00, -1.54387231e+00,  1.35692881e+00,\n",
       "          1.31804738e+00,  2.27527783e+00,  6.40106275e-01, -1.31006653e+00,\n",
       "          2.87594314e+00,  1.73615641e+00,  1.48306967e+00, -2.99141518e-01,\n",
       "          1.07484572e+00, -2.75840780e-01, -3.86377157e-01, -1.50402389e+00,\n",
       "          9.57817907e-02, -2.47501490e+00, -9.84176094e-02,  1.27157850e+00,\n",
       "         -2.27635914e+00,  2.45579618e+00,  8.79533633e-01, -2.32719414e+00,\n",
       "          5.20147085e-01, -5.70326180e-01, -2.31769937e-01,  2.41039558e+00,\n",
       "          2.08969086e+00,  2.58410894e+00, -5.07244483e-01,  1.93780715e+00,\n",
       "         -9.54294822e-01, -1.57806704e+00, -2.36103743e+00, -9.99105099e-01,\n",
       "          1.49043915e+00, -1.87505434e+00, -3.01296049e+00,  9.46605195e-01,\n",
       "          1.93206731e+00, -1.55544255e+00, -2.14447378e+00, -2.80898415e+00,\n",
       "         -2.16373657e+00,  1.12943810e+00, -1.21855319e+00,  2.23548522e+00,\n",
       "         -1.48397531e+00,  1.91563910e+00,  2.66652048e+00, -1.91655884e+00,\n",
       "         -3.07277260e+00,  2.01346780e+00,  8.54502267e-01,  2.51497761e+00,\n",
       "          1.70356305e+00, -7.03272369e-01, -4.59367387e-01,  2.54893815e+00,\n",
       "         -7.23194686e-01, -6.77161808e-01, -2.53883124e+00,  2.78789681e+00,\n",
       "         -1.88330407e+00,  2.28834519e+00,  8.34990446e-01, -2.27899261e-01,\n",
       "          2.44397010e+00,  4.69400203e-01, -2.98690420e+00,  2.23935276e+00,\n",
       "          1.79969268e+00,  2.24771918e+00,  3.01290309e+00,  1.18175124e-01,\n",
       "          3.70789652e-01, -1.89920241e+00, -2.65540411e+00,  1.87580799e-01,\n",
       "          2.34671751e+00,  9.78387403e-01, -2.20501778e-02,  1.26152943e+00])},\n",
       " {b'JetsAK15': <JaggedArrayMethods [[TLorentzVector(x=-603.85, y=81.094, z=-629.83, t=906.55) TLorentzVector(x=545.57, y=-72.455, z=-352.01, t=658.76)] [TLorentzVector(x=-73.224, y=616.73, z=274.57, t=686.37) TLorentzVector(x=35.596, y=-410.77, z=147.77, t=484.56)] [TLorentzVector(x=-603.36, y=5.6185, z=-414.02, t=744.29) TLorentzVector(x=314.97, y=-75.315, z=-1089, t=1154.1)] ... [TLorentzVector(x=421.92, y=-320.11, z=762.33, t=977.78) TLorentzVector(x=-268.08, y=255.23, z=-385.34, t=540.71)] [TLorentzVector(x=418.71, y=308.95, z=266.73, t=597.3) TLorentzVector(x=-452.88, y=-77.066, z=360.1, t=620.99) TLorentzVector(x=162.75, y=-214.05, z=-66.67, t=288.93)] [TLorentzVector(x=-922.36, y=311.67, z=-1454.9, t=1849.5) TLorentzVector(x=526.54, y=-145.51, z=-174.57, t=716.14)]] at 0x7f1e20683710>,\n",
       "  b'JetsAK15_softDropMass': <JaggedArray [[226.3588591369124 0.7052239054806471] [7.34391510442934 193.76661888605295] [60.44010478014499 211.022069483243] ... [304.03660048107827 30.435491106948408] [118.81504558874529 194.80403453743398 80.98848373589479] [603.487538477573 372.3609534992618]] at 0x7f1e20683860>,\n",
       "  b'TriggerPass': <JaggedArray [[-1 -1 -1 ... 0 0 -1] [-1 -1 -1 ... 0 0 -1] [-1 -1 -1 ... 0 0 -1] ... [-1 -1 -1 ... 0 0 -1] [-1 -1 -1 ... 0 0 -1] [-1 -1 -1 ... 0 0 -1]] at 0x7f1e20683b00>,\n",
       "  b'MET': array([  33.38173053,  181.56160326,  339.96562487,  480.9626995 ,\n",
       "           65.58583183,   32.79027561,   65.31836246,   98.33299785,\n",
       "          144.63116519,  124.97603709,  443.96941862,  289.72352257,\n",
       "           41.79050281,  181.1335654 ,   21.282247  ,  209.42925236,\n",
       "          194.35393551,  293.48126139,  118.43921593,   46.87341483,\n",
       "          346.16598268,  250.89270789,   46.63097493,   29.20767159,\n",
       "           73.81168737,  203.51297111,  221.51736128,  250.8145381 ,\n",
       "           50.2702723 ,   13.21824534,  136.88747755,  234.65123219,\n",
       "          115.35035444,   55.50157961,   32.38918487,   19.50723524,\n",
       "           55.23836545,   90.07336315,   98.46418699,   41.14726657,\n",
       "           85.35703703,   13.75301411,  153.95680088,  317.94397508,\n",
       "          193.44537366,   36.46973949,  273.1940789 ,  221.67120138,\n",
       "          144.25436565,   93.20378307,  226.30077763,  128.73894029,\n",
       "           61.25963094,  138.54870863,   60.21227642,   94.50215513,\n",
       "          180.85791804,  109.32597384,   81.02362204,   77.8922886 ,\n",
       "          318.20352466,  309.29873098,   32.70476579,  198.43211524,\n",
       "          164.58038035,   93.8096435 ,  304.4768511 ,  207.85114976,\n",
       "          100.42866974,   86.91295672,  118.71999575,  502.9040854 ,\n",
       "           58.42988858,   29.37519198,  507.0522    ,   67.04339142,\n",
       "          247.77601554,   80.39988882,  145.06638619,   84.45532696,\n",
       "          376.47634349,  249.30794511,  173.28494378,   89.57161378,\n",
       "          212.72145422,  173.75837292,  242.22713278,  548.07379583,\n",
       "          305.39950819,   52.85669953,   87.27008288,   64.34386772,\n",
       "          314.50941632,   19.48450663,   78.0743559 ,   78.9809012 ,\n",
       "           35.36408071,   34.33186246,  120.3746712 ,  157.87626146,\n",
       "           38.6051504 ,   53.04484884,   58.01566098,  136.05748549,\n",
       "          220.16428335,   67.03385161,   56.98362567,  103.27461976,\n",
       "          359.75157687,   73.80052505,   89.5158827 ,   80.85701453,\n",
       "          180.8582656 ,   52.91040858,  107.46608257,  440.56896808,\n",
       "          139.98872248,  519.82971565,  107.80404541,   70.59053947,\n",
       "          143.31729486,  647.15387394,  144.29680529,  140.1854494 ,\n",
       "          273.29373279,   69.02751241,  127.12956335,  328.8733364 ,\n",
       "          447.673251  ,  350.88304239,   83.73534482,   52.92653653,\n",
       "          421.96556427,   27.25334717,  462.27540629,  198.83685066,\n",
       "          135.19663702,  207.69326234,  107.38617815,  237.01624873,\n",
       "          147.79089532,   79.74549308,  102.62018135,   26.31567586,\n",
       "          183.51374478,   56.55921783,   74.82714195,  112.22336149,\n",
       "          325.94959032,   27.41698519,  328.13690507,  178.53624731,\n",
       "           40.78564728,  112.9893615 ,   48.40218073,  109.14124374,\n",
       "          344.17601746,   22.81584153,  167.69990147,   41.60272242,\n",
       "          102.96980841,  239.68130661,   25.60767225,   42.23152355,\n",
       "          449.40581849,   57.78263124,  252.7454241 ,  289.33611592,\n",
       "          196.92455229,  264.99940525,   11.8452545 ,   76.75210082,\n",
       "          112.06557313,  159.37117769,   30.7655495 ,   76.71766083,\n",
       "          213.29912537,  309.47972275,   86.63351742,  297.39870445,\n",
       "          200.21445393,   13.13812638,   98.78224093,  203.64769627,\n",
       "           92.67578935,   48.17864515,  120.89614214,   26.66261242,\n",
       "           39.85604219,  238.29840844,   36.49268588,   26.50484201,\n",
       "          200.61648004,  161.79592264,  305.19267113,  133.93870892,\n",
       "          215.78321202,   99.38730991,  148.21514898,  226.06091156,\n",
       "          197.91933343,  298.66433552,  149.5758477 ,   60.82134751,\n",
       "          183.25235898,  110.66022404,   45.66220042,   79.52015858,\n",
       "           77.97857684,  139.71382409,   45.30518881,   60.66166449,\n",
       "          156.13392144,  189.71469661,   40.19748743,  746.90208142,\n",
       "          148.711631  ,   24.08320134,   63.39479401,  241.81567315,\n",
       "          256.43211048,  254.45344118,   58.6209597 ,   24.85051262,\n",
       "          334.05845527,  486.32908822,    6.62482547,  258.97873061,\n",
       "          177.56953995,  238.33308502,   73.56496353,  613.86850757,\n",
       "           28.09852522,  113.64824859,   35.66816228,  199.31681074,\n",
       "          277.80456918,   35.02243399,   71.01961967,   89.98555907,\n",
       "          344.70633685,   99.88751636,  193.27686042,   80.81885722,\n",
       "           60.9459224 ,   43.88516131,  144.32046432,   31.09202393,\n",
       "           81.90014663,   59.07811651,   29.91631232,  188.49198105,\n",
       "          185.19669219,  223.76213393,  133.14708139,   63.70614579,\n",
       "           78.38505332,  499.57768945,   80.85183166,  128.9571248 ,\n",
       "           89.0793272 ,  337.27323087,   24.57744866,   89.23029247,\n",
       "           36.14435017,  133.0432691 ,  257.35405596,  124.96336063,\n",
       "           27.5062974 ,   46.26385241,   35.74921957,  441.47711632,\n",
       "          102.85901895,   56.91974782,  553.82093392,  229.92695733,\n",
       "           63.0869588 ,   96.07244025,  170.5565993 ,   25.05443423,\n",
       "          122.81348244,  115.16974156,  161.89595668,   16.39216901,\n",
       "           25.61341006,   41.86269338,  131.02350063,  175.60151629,\n",
       "          278.56905147,   98.32253523,  236.09901875,   46.22752512,\n",
       "           39.88327016,  245.85726107,   43.1155894 ,  165.85474377,\n",
       "           72.03562452,  257.69495352,  388.57511919,  136.18811809,\n",
       "          142.00351342,  373.18070889,   19.20114922,    9.06838019,\n",
       "          116.03269953,  203.18463266,  702.05559014,   21.50648264,\n",
       "          273.66777258,   94.32601284,  548.46057146,  255.35012685,\n",
       "          271.7812882 ,   74.90157181,  352.07166889,  112.87360171,\n",
       "           42.12882155,  636.01739809,  265.12058388,   58.86141796,\n",
       "           34.89286616,  194.35970423,  114.27791091,   47.06118929,\n",
       "           90.82091747,  211.36770633,   64.40645831,   42.35724019,\n",
       "          254.33309898,  248.91122698,  213.80350233,   57.36994181,\n",
       "           96.7254497 ,   22.28197222,  216.4433709 ,  152.96273703,\n",
       "          408.95656481,   38.60360464,  132.79890426,  105.82618148,\n",
       "          429.44957058,  110.86258159,   59.76258563,  499.27556114,\n",
       "          461.99072748,   45.64967061,   98.73306997,  244.72767825,\n",
       "          192.32167673,   44.71487072,   15.19970914,  172.02689684,\n",
       "           96.85665821,  264.44228961,  347.2125349 ,   25.41056333,\n",
       "          276.40033513,   37.46942799,   83.64132664,  165.10876249,\n",
       "           34.02532999,   77.47771978,  164.78279788,  151.96714402,\n",
       "          114.51377097,  289.52225688,   88.91633122,  440.65785572,\n",
       "          186.06302196,  120.70361122,  448.60131587,   88.71875006,\n",
       "           37.82315189,   88.98774879,   68.35180578,  119.76548009,\n",
       "           74.40749403,   81.23619981,  192.60648922,  242.94637664,\n",
       "          400.53072796,   77.93851009,   73.95755185,   70.05879359,\n",
       "          103.08873759,  125.15420248,   52.98517751,   22.49691201,\n",
       "           81.69802414,  117.46792138,   61.59844053,  256.06495603,\n",
       "           59.34766586,   50.59790812,  120.7431011 ,  211.85264543,\n",
       "          140.71084459,   73.95983308,  117.88454169,  237.78917724,\n",
       "          103.48008545,  349.9881136 ,  115.52353953,   15.66365985,\n",
       "          184.09139361,  263.41073465,  244.00511001,  589.40468166,\n",
       "           94.74535463,   80.89087286,  114.39405944,  146.71502905,\n",
       "          208.75508647,   58.14079406,  208.16446578,  156.17012764,\n",
       "          189.41567114,  106.13827337,  281.47598267,   76.31590242,\n",
       "          176.86515652,   25.06762777,  129.85140788,  277.4730407 ,\n",
       "          114.63401978,   48.24461373,   98.48085981,  324.53015356,\n",
       "           70.51663579,  103.30224497,   42.8512392 ,  209.43765199,\n",
       "           98.96598208,  476.59790884,  219.43004387,  504.63635379,\n",
       "          122.38063723,  241.33484727,  107.38726531,  301.4439567 ,\n",
       "           11.59738566,  110.91463935, 1245.23661829,   29.46990404,\n",
       "          290.12894612,   60.52262027,   36.30601804,   96.07457589,\n",
       "          167.86605555,    9.04304596,   60.85938225,   46.80436216,\n",
       "          513.13226534,  119.9155178 ,  374.38896804,  123.71435898,\n",
       "          160.37817233,   74.06226165,  227.41599311,  172.84805023,\n",
       "          124.31714422,  174.1066981 ,  165.74591469,   38.97168687,\n",
       "          152.76134122,   60.90282416,  222.00635839,  335.74040052,\n",
       "          192.28779476,   41.10797403,  401.95849669,   22.99506245,\n",
       "           91.57496973,  294.15709383,   91.24293796,  611.27218525,\n",
       "          108.72895604,   64.37420971,  239.42835469,  138.91837347,\n",
       "          206.22942726,   59.07035174,   96.6648842 ,  137.46738949,\n",
       "          107.59027693,  181.52065813,   92.10276242,  243.99480789,\n",
       "          158.89742908,  149.86144284,  418.73774474,   47.16494563,\n",
       "          148.59309702,   86.99871983,   63.50428107,  192.68861104,\n",
       "           86.85099031,    8.7529944 ,   42.73187161,  444.39022685,\n",
       "          239.44577706,   70.43833903,  194.6308079 ,   33.41147744,\n",
       "          222.92145684,  224.96893467,   61.23771218,  301.11325692,\n",
       "          231.16712863,  181.60051626,   39.89786178,  195.33402875,\n",
       "           11.86269265,  457.34593458,  343.45065338,  115.09024402,\n",
       "          541.25495937,  301.84212673,   18.53809057,  182.03112785,\n",
       "          379.3567596 ,  282.46360443,   91.99537549,  180.61109539,\n",
       "           45.8798374 ,   10.85830779,  169.06578846,   28.44471903,\n",
       "          221.19556317,   69.65732313,   74.73050133,  120.06102404,\n",
       "          124.21172249,   77.44268824,  350.09063747,  171.76462315,\n",
       "          287.21579529,  490.0132239 ,   60.76602667,  194.59206912,\n",
       "          193.2390295 ,  198.19716728,   97.17001318,  201.62825547,\n",
       "           41.45334758,  106.90108879,  401.12618065,    8.35672604,\n",
       "          150.58226043,  127.83755279,  168.99098165,  426.90163222,\n",
       "           72.2950533 ,  174.54100224,  136.88361487,   10.12129502,\n",
       "          188.5645804 ,   72.02214349,  125.4124338 ,  113.38090605,\n",
       "           33.90649786,  167.4636842 ,   41.39328099,   44.64731815,\n",
       "          207.9269958 ,  171.87002291,   82.44157921,  107.71316326,\n",
       "          364.08887319,   87.29525339,  417.7561614 ,  141.96567496,\n",
       "          345.48584355,  137.886113  ,  156.64654998,  278.67937119,\n",
       "          120.38014158,   97.568525  ,   31.99060926,   47.67665375,\n",
       "          120.25876905,  104.6206979 ,   52.61447451,  289.5964543 ,\n",
       "           19.12783091,   68.17286967,  204.88534912,  196.88883217,\n",
       "          321.39058048,   79.23573518,   24.80068142,  158.22772047,\n",
       "          111.25664963,   50.43598205,  156.00879861,   59.28532058,\n",
       "           83.92579174,   44.59887809,  106.60407126,  137.63180217,\n",
       "           20.89378494,   23.10733553,  135.01281142,   82.12092858,\n",
       "           74.3424391 ,  197.71538091,  108.87412391,   46.95945162,\n",
       "          148.61928259,  143.97263796,  269.28775259,  373.63989864,\n",
       "          133.50718676,  144.78743303,  560.57117095,   64.59063429,\n",
       "          106.49166401,   64.24001767,   52.17235703,   58.6195389 ,\n",
       "           56.92738286,   65.46129618,  190.43956304,  120.06104268,\n",
       "           47.18021951,   63.22378322,  307.1609126 ,  198.54463879,\n",
       "           88.82111151,  165.25956167,   43.48544478,   52.88655762,\n",
       "           27.71210994,  231.51437849,  134.34510177,  171.73277088,\n",
       "           75.82898685,  220.08312914,  145.77391654,  152.66099666,\n",
       "          134.3466601 ,  104.52625455,  175.79721609,  197.94626255,\n",
       "          322.94633028,   78.62680596,  603.80822218,   44.42452615,\n",
       "           65.11491414,   90.06822637,   97.72173063,   48.13452483,\n",
       "          128.37456002,  157.79441626,  239.7990293 ,   60.36825128,\n",
       "          386.48702375,  315.54858787,   24.84184653,   51.0057463 ,\n",
       "          136.36217421,  262.96230632,  287.36800285,  406.38976004,\n",
       "           97.1368977 ,  329.1781008 ,   39.22832357,  229.3382817 ,\n",
       "          167.89726963,  311.93548297,  158.96831981,  190.73936591,\n",
       "          198.03025311,   43.36980236,  105.05397781,  120.15038764,\n",
       "          169.56164662,   40.29599542,  294.28056799,   74.2576071 ,\n",
       "           97.81964263,   19.33959384,   39.67370576,   86.98008599,\n",
       "          293.33037807,  261.52867158,  266.88517193,   30.11042804,\n",
       "           97.21999384,   21.30595275,   49.6551493 ,   59.25862838,\n",
       "           50.62932381,   15.04276696,   59.18510243,  207.9354783 ,\n",
       "           81.92504081,   22.76777415,  308.76363036,   65.43766593,\n",
       "           53.13169008,  148.2335341 ,  148.94195756,  174.99671717,\n",
       "          207.44704987,  343.95914402,   65.43387315,   52.64987869,\n",
       "          141.101817  ,   84.95997062,   83.35145581,   98.0526825 ,\n",
       "          403.67425132,   46.83388188,  365.82598746,   34.35758875,\n",
       "          343.39460434,  163.53546391,  143.54976389,  107.5482767 ,\n",
       "           75.17914476,   66.04486842,   60.8542214 ,   72.87324245,\n",
       "           61.15071691,  129.64012886,  380.47294637,   79.65470276,\n",
       "           57.22540591,  374.93038524,  222.06005342,  115.40123757,\n",
       "          111.17558949,   57.94056302,  376.73667182,   77.72559144,\n",
       "          477.12006091,  316.07546051,    7.36410525,  102.29234834,\n",
       "          204.51836492,  239.82486622,  385.04804786,   71.88834368,\n",
       "          102.88799597,  546.30111275,   88.17556118,   70.68755167,\n",
       "          328.85225708,   47.76861796,  270.55260912,   77.12501061,\n",
       "           12.56913929,   57.24206325,  267.52474609,   10.5978216 ,\n",
       "          218.55943148,   56.07045528,   22.17514161,  219.52246444,\n",
       "          169.16852588,  109.4224017 ,  373.08609814]),\n",
       "  b'METPhi': array([-5.72802292e-01, -1.33792303e+00,  3.82751116e-02, -2.97683890e+00,\n",
       "         -2.91451788e+00,  2.44305621e+00, -1.09498947e+00,  1.60101441e+00,\n",
       "          2.09402013e+00, -2.04646883e-01,  3.85228822e-01, -3.07270821e+00,\n",
       "          2.55923748e+00,  2.93973259e+00,  1.77132046e+00, -1.90558421e+00,\n",
       "         -2.88996692e+00,  2.83781586e+00,  1.01133480e+00, -3.00933452e+00,\n",
       "         -1.80431921e+00, -2.36119743e+00, -3.01331431e+00,  2.18703206e+00,\n",
       "         -2.74290922e+00, -5.11751814e-01, -7.30822821e-01, -1.69535689e+00,\n",
       "          1.05983035e+00,  2.22038416e+00,  2.58689917e+00,  3.13520825e+00,\n",
       "          2.24353815e+00, -1.46570048e+00,  2.17191056e+00,  2.80373539e+00,\n",
       "          1.33229791e+00,  3.04016075e-02,  1.70164226e+00,  8.40370173e-01,\n",
       "         -2.68111360e+00, -7.80585576e-02,  2.29879831e+00,  2.00448339e+00,\n",
       "         -2.11590222e+00, -2.82735585e+00,  7.28266378e-01, -1.43685641e+00,\n",
       "          7.10278865e-01,  1.56962381e+00, -1.21846550e-02, -2.13166346e-01,\n",
       "         -1.71778089e+00, -1.79621587e+00,  2.51979844e+00, -9.00502604e-01,\n",
       "         -6.38246042e-01,  1.03261777e+00,  1.12394020e+00, -1.29184898e+00,\n",
       "          2.70852474e+00, -1.02961908e+00, -2.01653455e-02, -2.53322095e-01,\n",
       "          7.17784927e-01,  2.10587996e+00, -2.09715907e-01,  2.89198856e+00,\n",
       "         -5.27984163e-01,  2.65685750e+00,  1.53944294e+00,  1.58174055e+00,\n",
       "         -2.07563136e+00, -2.35086047e+00,  2.48391092e+00,  2.24209914e+00,\n",
       "          2.84642453e+00, -1.11384154e+00,  2.28062174e+00,  2.13954152e+00,\n",
       "          5.97554704e-01,  2.59950358e+00, -2.28747915e+00, -2.88204714e+00,\n",
       "          9.41769753e-01, -4.09380468e-02,  6.11459914e-02, -2.48129396e+00,\n",
       "         -1.60891164e+00,  3.08474699e+00, -1.44835661e+00, -2.84546838e+00,\n",
       "          7.67675904e-01, -2.80609274e+00,  2.59651555e+00, -2.08037071e+00,\n",
       "         -2.48914356e+00, -1.83097282e+00,  3.05561755e+00,  4.61316206e-02,\n",
       "         -6.51450959e-01, -2.98259862e+00,  1.64913488e+00,  1.83043770e+00,\n",
       "         -3.01269761e+00, -2.30753358e+00, -2.21710779e+00,  1.35754325e+00,\n",
       "         -1.70746877e+00,  1.14980032e+00,  1.80928790e+00, -1.99163997e+00,\n",
       "         -1.53539099e+00, -2.82149953e+00, -1.91582088e+00,  1.52373388e+00,\n",
       "          3.45104576e-01, -1.49282417e-02, -1.28099187e+00,  3.10690964e+00,\n",
       "         -1.44577160e+00, -1.12890293e+00, -2.39315354e+00, -1.89893280e+00,\n",
       "         -2.89026340e+00, -1.21880947e+00, -2.12241339e+00,  1.62380224e+00,\n",
       "          6.43465078e-01, -2.13540206e+00, -3.53364350e-01, -2.15018306e+00,\n",
       "          5.77495625e-02,  2.41589108e+00,  1.47347672e+00, -2.93568077e+00,\n",
       "         -2.89305015e+00,  1.00394895e+00,  3.91086394e-01,  1.05225383e-01,\n",
       "         -1.16349674e+00,  2.51936495e+00, -2.86781429e+00,  2.06917505e+00,\n",
       "          2.13984061e+00, -1.20589382e+00,  2.31996096e+00,  2.16812483e+00,\n",
       "         -1.24226145e+00, -1.56617557e+00,  3.65136594e-01, -7.54276231e-02,\n",
       "          1.95691163e+00, -6.55945133e-01, -1.96393927e+00, -2.23491437e+00,\n",
       "         -1.09842286e+00,  1.29139621e+00, -2.17768344e+00,  1.71441346e+00,\n",
       "          1.81426719e+00, -2.84724832e+00,  8.33484983e-01,  9.39252099e-01,\n",
       "         -2.10139969e+00,  1.11403975e+00, -2.82740694e+00, -6.64018941e-01,\n",
       "          9.09805455e-01, -1.86811215e+00, -2.85358322e+00, -1.49581547e+00,\n",
       "         -2.87545935e+00,  1.93641369e+00, -1.54999854e+00,  1.74641423e+00,\n",
       "         -2.79069580e+00,  1.46471162e+00, -1.63307580e+00,  3.05605750e+00,\n",
       "         -2.67091006e-01, -1.30250106e+00,  5.40457312e-01,  1.20738513e+00,\n",
       "          2.88597455e+00,  1.09992080e+00, -2.64068053e-03, -2.91642170e+00,\n",
       "         -2.29717109e+00,  2.97894896e+00, -4.52466785e-02,  1.31447356e+00,\n",
       "          1.90257401e+00, -1.38177358e+00,  1.97094712e+00, -5.85923771e-01,\n",
       "          4.67875178e-01,  6.09394974e-01, -2.89937505e+00,  2.66489008e+00,\n",
       "          2.99852413e+00,  7.32203715e-01,  1.97490549e+00, -2.04696294e+00,\n",
       "          2.28979547e+00,  1.16246454e-01, -2.39217335e+00,  1.94672517e+00,\n",
       "         -2.13412873e+00,  1.15921996e+00, -7.03480459e-01,  1.72145925e+00,\n",
       "          1.58266559e+00, -3.12189303e+00, -2.56337627e+00,  1.83762307e+00,\n",
       "         -2.49102745e+00, -2.46041792e+00, -3.08035491e+00, -4.02050092e-01,\n",
       "          2.00506097e+00, -1.91297350e+00,  9.64657579e-01, -2.44763154e+00,\n",
       "          1.00175026e+00,  1.90222964e+00, -2.90502818e+00, -1.48967687e+00,\n",
       "         -2.23801160e+00, -2.77172709e-01, -1.38224417e+00,  2.51383583e+00,\n",
       "          2.58290435e+00,  7.60537082e-02,  2.56200113e+00, -3.87306204e-01,\n",
       "         -1.84014333e+00,  2.33315355e+00, -2.00130163e+00, -1.49325435e+00,\n",
       "         -2.99117067e-01, -1.02005134e+00, -2.30836175e+00, -2.84909816e+00,\n",
       "          2.08821040e+00, -2.51659037e+00,  1.64286998e+00, -1.11240561e+00,\n",
       "         -2.30038752e+00,  2.05997743e+00, -3.12493786e+00,  1.94404427e+00,\n",
       "          1.31081966e+00,  3.01728859e+00,  5.10863085e-01,  2.59419906e+00,\n",
       "         -6.97432407e-01,  1.43044977e+00, -7.62284649e-01,  1.77287053e+00,\n",
       "         -1.69258067e+00,  1.98952219e+00, -1.96340768e+00,  2.03894919e+00,\n",
       "          2.42414663e+00,  1.18312801e+00,  5.18797721e-01,  4.34835236e-01,\n",
       "          8.24880073e-01, -2.41680334e+00, -1.52959025e+00,  6.78686124e-01,\n",
       "         -2.18730870e+00,  1.37015992e+00, -2.97159427e+00,  2.15944994e+00,\n",
       "          2.01744517e+00, -2.54517246e+00,  1.30895790e+00,  2.93177786e+00,\n",
       "          1.36177230e+00,  2.25578351e+00,  1.03431111e-01, -1.29202917e+00,\n",
       "         -5.29134831e-01,  7.53689559e-01, -9.41622730e-01, -2.31443763e+00,\n",
       "         -2.53754741e+00, -2.44137705e+00, -2.97941314e+00,  1.12362963e+00,\n",
       "          6.35074354e-01,  5.67589453e-01,  9.06270030e-01,  2.40644341e-01,\n",
       "         -2.57834610e+00, -1.06660778e+00,  2.40938671e+00,  1.66264189e+00,\n",
       "          7.05664621e-01,  2.27721820e+00,  1.12525315e+00,  1.03739012e+00,\n",
       "         -2.51174135e+00, -2.65644109e+00,  8.49648642e-01,  9.30272688e-01,\n",
       "          7.90701695e-01,  1.71169780e+00,  1.12228597e+00, -3.59672122e-01,\n",
       "          1.23985090e+00,  1.22421647e+00,  1.53553933e+00, -2.51762911e+00,\n",
       "         -4.37361616e-01,  2.07390953e+00, -1.47733028e+00,  1.01195777e+00,\n",
       "         -5.39243210e-01,  2.91551062e+00,  2.03791664e+00,  2.16670170e+00,\n",
       "         -2.13691921e+00,  1.62149106e+00, -2.14958577e+00,  1.52009917e+00,\n",
       "          1.66676521e+00, -6.85160156e-01, -3.09223574e+00,  6.88145126e-01,\n",
       "          2.56945263e+00,  2.12346867e+00,  2.69044627e+00, -6.15042692e-01,\n",
       "         -1.07556793e+00, -3.32783795e-02, -1.18588865e+00,  7.53501507e-01,\n",
       "          2.29968961e+00, -3.43753645e-01,  1.37538476e+00,  2.21240995e+00,\n",
       "          4.85293880e-01,  1.20464867e+00, -2.16753812e+00,  1.20249509e+00,\n",
       "         -2.90027996e+00, -3.00508697e+00, -2.22808228e+00,  2.14218253e+00,\n",
       "         -2.57642946e+00,  1.27307083e-01, -2.98552063e+00,  1.44280321e+00,\n",
       "         -2.03454870e-01,  2.75830672e+00, -3.13723340e+00,  7.35493661e-01,\n",
       "          2.61648990e-01,  6.91116612e-01,  7.43494265e-01,  2.10099513e+00,\n",
       "         -1.88621263e+00, -2.07104480e+00,  1.29012766e+00, -2.71976709e+00,\n",
       "         -2.80006648e+00, -2.47790398e+00,  1.58554760e-01,  2.43730940e+00,\n",
       "         -1.23898441e+00, -2.04918892e+00, -3.07746148e+00, -1.71790368e+00,\n",
       "         -8.53297010e-01,  3.09603685e+00, -2.64257382e+00,  3.18624572e-02,\n",
       "          2.64392033e+00, -1.29725857e+00,  2.59435160e+00,  7.37507590e-01,\n",
       "         -2.52195444e+00, -1.49030517e+00, -9.44492951e-01,  1.87892472e+00,\n",
       "          1.24516672e-01, -8.20627986e-01, -2.94656409e+00, -2.78044376e+00,\n",
       "         -1.05228188e+00, -2.02723478e+00, -8.17716352e-01,  1.04825522e+00,\n",
       "          2.84652778e+00, -2.13284082e+00,  9.84011652e-03, -2.07256885e+00,\n",
       "         -1.43578277e+00, -1.69063019e+00, -2.77447971e+00, -1.46385175e+00,\n",
       "         -3.14052469e-03,  1.99540685e+00, -2.38436141e+00, -1.04301681e+00,\n",
       "         -1.43630246e+00, -2.80524516e+00,  7.84155388e-01,  9.54002512e-02,\n",
       "          8.40309827e-01, -1.73342671e+00,  1.54830397e+00, -2.10716067e+00,\n",
       "         -2.10760097e+00, -2.90810801e+00,  5.85019712e-01,  2.38754653e+00,\n",
       "         -1.85513559e+00,  2.12139878e+00,  1.32532986e+00,  1.00482623e+00,\n",
       "         -4.84351445e-01,  1.50544273e+00, -2.67562384e+00,  3.07133265e+00,\n",
       "          9.75031474e-01,  3.07617456e-01, -2.77430255e-01,  1.71818053e+00,\n",
       "          2.44188899e+00,  2.13066969e+00, -2.56134913e+00,  2.34956344e+00,\n",
       "         -2.65382848e+00, -1.93286246e+00,  2.72075923e+00, -2.87661893e+00,\n",
       "         -1.49246192e-01, -2.81357481e+00,  3.04076324e+00,  2.33198949e+00,\n",
       "          2.22290974e+00,  1.11501734e+00,  1.75393202e+00, -1.63080946e+00,\n",
       "          2.19497079e+00,  1.81268930e+00,  2.24556939e+00, -1.76501490e+00,\n",
       "          2.32088609e+00, -2.41718460e+00, -8.02725373e-01,  2.36120429e+00,\n",
       "         -2.26834883e+00,  1.14453427e+00,  1.13579592e+00,  1.48648910e+00,\n",
       "          2.77982952e+00, -3.04148542e+00,  2.07317864e+00,  1.68202253e+00,\n",
       "         -2.24436373e+00,  1.15532214e+00, -4.18247350e-01,  9.96327954e-01,\n",
       "         -1.98009788e-01,  1.63331457e+00,  6.75855512e-01,  1.93992461e+00,\n",
       "         -2.58707420e+00,  3.13471774e-01,  2.46510971e+00, -2.85187942e+00,\n",
       "          1.26999620e+00,  3.02621459e+00, -2.82985609e+00,  2.93713262e+00,\n",
       "         -1.20761821e+00,  1.95977847e+00, -9.19707771e-01,  1.33467303e+00,\n",
       "          1.97924395e+00, -1.42051277e+00, -2.59970575e+00,  7.69700652e-01,\n",
       "          1.55319510e+00, -9.09750729e-01,  1.45663544e+00, -2.90184199e-01,\n",
       "          2.39419808e+00, -1.09316298e+00,  1.86793587e+00, -1.27265690e+00,\n",
       "          9.30613724e-01,  1.32005188e+00, -2.50064083e+00,  4.87858277e-01,\n",
       "         -1.65414807e+00, -9.54041218e-02, -1.44915610e+00,  2.13993969e+00,\n",
       "          2.74440251e+00, -7.95145462e-01,  2.06982095e+00,  2.11389345e+00,\n",
       "         -2.65006678e+00, -2.01388147e+00, -2.00295085e+00,  5.96757728e-01,\n",
       "          3.38207024e-01,  1.48200280e+00,  1.69993033e+00, -3.31388526e-01,\n",
       "          1.02061595e+00,  1.34840401e+00,  3.72102150e-01,  1.79464039e+00,\n",
       "          2.23184350e+00,  2.62260182e-03, -2.62467138e+00,  2.64295338e+00,\n",
       "         -1.18672791e+00, -1.93695986e+00,  2.31890117e+00,  6.84628309e-01,\n",
       "         -4.88315865e-01,  1.11605897e+00, -1.41272369e+00, -2.13216532e+00,\n",
       "          2.05575054e+00,  3.09198300e+00,  1.55969040e+00,  2.31140283e+00,\n",
       "          1.72681603e+00, -2.31029862e+00,  1.57654696e+00,  1.76398131e+00,\n",
       "          1.42683316e+00, -1.13492994e+00,  2.95397651e+00,  4.64539815e-01,\n",
       "         -2.56168520e+00,  1.24360857e+00, -1.96432178e+00, -8.34834462e-01,\n",
       "         -1.87337807e+00,  2.45316343e+00, -7.02378030e-01,  7.50465047e-01,\n",
       "         -1.62373508e+00, -2.32500450e+00,  2.71296685e+00,  2.94827159e-01,\n",
       "         -1.22921407e+00, -6.97745655e-01,  1.95119404e+00,  1.87034112e+00,\n",
       "         -2.34963616e+00, -1.44842934e+00, -7.94762570e-03,  4.38424157e-01,\n",
       "          1.53124488e+00,  2.45783693e+00, -2.31914362e+00, -2.62120510e+00,\n",
       "          1.70335428e+00, -3.26296686e-01, -2.53245670e+00, -3.00470498e+00,\n",
       "         -2.46678839e+00, -1.17617697e+00, -2.41842511e+00, -1.81381962e+00,\n",
       "         -1.39882564e+00,  1.86063550e+00, -9.75968950e-02, -1.90971346e+00,\n",
       "          7.90422133e-01,  3.03678021e+00,  2.05635749e-01,  1.25042876e+00,\n",
       "         -2.91338494e+00,  8.82501732e-01, -8.35898686e-01, -1.27974692e+00,\n",
       "         -3.73679895e-01,  3.33925931e-01,  1.01403054e+00,  1.88723877e+00,\n",
       "         -1.81389728e+00, -7.60930539e-01, -1.44733926e+00,  1.18924439e+00,\n",
       "          2.89626288e+00, -5.53184715e-01,  1.99598043e+00,  2.94948538e+00,\n",
       "         -6.43317138e-03, -1.55610877e+00,  2.25492708e+00, -7.55846092e-02,\n",
       "          2.70241106e+00, -1.55884698e+00,  1.70249644e+00,  5.83499750e-02,\n",
       "          2.63931775e+00,  1.19944155e+00,  2.37785979e+00, -1.64358388e+00,\n",
       "         -3.00446739e+00, -7.24819030e-01,  1.69951347e+00,  2.71610163e+00,\n",
       "          3.06312230e+00, -2.09062070e+00, -1.22164210e+00,  4.90350034e-02,\n",
       "         -2.99629738e+00, -1.68606646e+00,  1.95784601e+00, -1.47287938e+00,\n",
       "          3.84113381e-01, -1.88735829e+00,  1.31465399e+00, -1.38573726e+00,\n",
       "         -3.06967875e+00,  2.13261530e+00,  2.89924963e+00, -2.38385670e+00,\n",
       "          1.96467112e+00,  9.24718758e-01,  2.94552496e+00,  2.05185480e+00,\n",
       "          1.99314727e+00, -2.10398984e+00,  1.22583796e+00,  1.64438243e+00,\n",
       "         -9.02900398e-01,  2.49152171e-01,  8.03751610e-01, -2.99774569e-02,\n",
       "         -2.93227137e+00,  6.85350552e-02,  2.56895723e+00,  2.50759129e+00,\n",
       "          2.80707805e+00, -8.06736314e-01, -2.86834343e+00, -1.24093920e+00,\n",
       "          7.28002029e-03, -1.43191780e+00,  1.24830733e+00, -1.18284877e+00,\n",
       "          1.67954347e+00,  2.14571321e+00, -4.85915619e-01, -2.36677746e+00,\n",
       "          5.90238086e-01, -2.36777519e+00, -1.29880750e+00, -1.84692776e+00,\n",
       "          1.22270457e+00,  1.13445314e+00, -2.19860868e+00, -2.09100277e+00,\n",
       "          5.02106426e-01,  2.69705088e+00, -1.58905863e-02, -9.96535596e-01,\n",
       "         -2.43379935e+00, -7.38363547e-01,  2.44449370e+00, -2.82988101e+00,\n",
       "         -9.64338713e-02, -3.00304144e+00,  1.30600026e+00, -1.62749176e+00,\n",
       "         -1.86994192e+00, -5.84301308e-01, -6.97537618e-01,  2.57291276e+00,\n",
       "          8.15586860e-01, -5.46705326e-01,  2.00469436e+00, -2.65107569e+00,\n",
       "          8.86715791e-01,  2.93190860e+00,  2.65999555e+00, -1.14565768e+00,\n",
       "         -2.90279180e+00,  2.57634218e+00, -2.69382046e+00, -9.02176221e-01,\n",
       "         -7.18724814e-01,  1.44630822e+00, -2.47651530e+00,  2.11833730e+00,\n",
       "          1.27194167e+00,  2.19660806e+00,  1.82801524e+00, -2.14817894e-01,\n",
       "          9.80567731e-01,  3.40458516e-01, -1.36374047e+00,  2.64859290e+00,\n",
       "         -4.52364112e-01,  3.17114270e-01,  2.86687671e+00,  2.64932238e-01,\n",
       "         -2.10409317e+00, -1.44276348e+00,  9.10672154e-01,  2.58671583e+00,\n",
       "         -2.83675845e+00,  1.18887645e-02, -1.37903973e+00,  1.77675951e+00,\n",
       "         -2.23246083e+00, -9.92600107e-01,  2.51154633e+00,  8.68977535e-01,\n",
       "         -1.91795489e+00, -2.57994860e+00, -2.70865685e+00, -9.51805767e-01,\n",
       "          1.46779778e+00,  1.04463394e+00,  2.88794905e+00,  2.78457727e+00,\n",
       "          2.94888436e+00, -3.07761543e+00,  2.86393898e+00, -1.38151712e+00,\n",
       "         -7.34696716e-01,  2.66742519e+00,  3.07092657e+00,  1.91753791e+00,\n",
       "          2.53758841e+00,  6.45140909e-01, -2.70645752e+00,  1.00057720e+00,\n",
       "         -1.99139967e+00, -2.17641996e+00, -2.55811143e+00,  4.80777462e-01,\n",
       "         -2.11571076e+00,  5.24328959e-01, -1.40716788e+00, -2.02406668e+00,\n",
       "         -2.30346118e+00,  2.85328768e+00, -2.25453082e+00, -2.45110590e+00,\n",
       "          3.05396456e+00, -1.93858202e+00,  1.85824835e+00, -1.30432472e+00,\n",
       "          2.47354767e+00, -2.98186475e+00, -4.37680352e-01])},\n",
       " {b'JetsAK15': <JaggedArrayMethods [[TLorentzVector(x=-492.92, y=248.63, z=711.59, t=913.97) TLorentzVector(x=322.86, y=-210.66, z=49.758, t=400.83)] [TLorentzVector(x=678.76, y=-68.443, z=-693.65, t=983.24) TLorentzVector(x=-236.64, y=-273.32, z=143, t=418.27) TLorentzVector(x=-211.11, y=90.625, z=-460.22, t=531.65)] [TLorentzVector(x=317.35, y=-540.4, z=-549.58, t=887.13) TLorentzVector(x=-13.219, y=528.27, z=-142.6, t=585.02) TLorentzVector(x=-200.71, y=-0.44831, z=-93.971, t=228.14)] ... [TLorentzVector(x=-953.37, y=243.56, z=595.48, t=1163.1) TLorentzVector(x=651.55, y=-158.16, z=1468.6, t=1640.1)] [TLorentzVector(x=-318.3, y=-525.65, z=203.29, t=697.87) TLorentzVector(x=-153.09, y=357.45, z=-844.98, t=941.04) TLorentzVector(x=326.09, y=-149.66, z=1033, t=1095.6) TLorentzVector(x=119.29, y=134.99, z=47.855, t=194.76)] [TLorentzVector(x=231.34, y=480.57, z=-3090.6, t=3137.8) TLorentzVector(x=-175.52, y=-437.19, z=575.84, t=868.96)]] at 0x7f1e19f125c0>,\n",
       "  b'JetsAK15_softDropMass': <JaggedArray [[139.37658744293933 1.131626380494443] [4.867272976256587 38.70979288029191 103.93520540693714] [294.38240130532915 115.2070639512218 0.0] ... [5.2552262740463425 262.389680127612] [9.106905928547745 0.959140279762281 55.47142891047161 0.0] [-4.315837287515549e-05 460.6061627162625]] at 0x7f1e19f12a58>,\n",
       "  b'TriggerPass': <JaggedArray [[-1 -1 -1 ... 0 0 -1] [-1 -1 -1 ... 0 0 -1] [-1 -1 -1 ... 0 0 -1] ... [-1 -1 -1 ... 0 1 -1] [-1 -1 -1 ... 0 0 -1] [-1 -1 -1 ... 0 0 -1]] at 0x7f1e19f122b0>,\n",
       "  b'MET': array([ 78.7065696 , 341.74794823,  93.62879237,  65.85245048,\n",
       "         250.74490847, 145.48152254, 123.85191571,  94.27979385,\n",
       "          21.32903961,  56.9942896 , 273.71495524,  79.54174333,\n",
       "          39.09441762, 502.87639729,  54.16670768,  61.79571991,\n",
       "         129.19585623,  31.08441932, 392.22698213, 229.36490771,\n",
       "          35.10603738, 190.25573808, 294.92379763, 186.36287568,\n",
       "          28.26607746, 244.62336396,  51.73553874, 178.85192578,\n",
       "         183.46048815,  55.59475654, 161.45799529, 278.45438856,\n",
       "         190.57070424, 309.42519475, 575.43502284, 468.34313594,\n",
       "          63.42217036, 152.25561023, 113.58890831, 122.49241419,\n",
       "          94.44978111,  31.00574718,  74.62828285, 181.37122584,\n",
       "         206.35919234, 619.58537707, 245.6146788 , 491.87463696,\n",
       "         127.87363147, 133.80330078,  65.38400485, 197.9436695 ,\n",
       "         165.5780198 , 118.32011733, 155.98490148, 117.1902174 ,\n",
       "          54.22364901, 159.86482038, 274.24221779,  72.0408627 ,\n",
       "         453.80299331, 347.44945865, 170.96006041, 218.65713124,\n",
       "         172.21135006,  77.69965135, 132.28378781,  76.79255478,\n",
       "         309.10546165,  24.63611484, 140.2461369 ,  16.33581455,\n",
       "          63.0499709 , 338.50010724,  53.5692707 , 147.55129433,\n",
       "          74.00696719, 183.81740634, 265.680924  , 192.32908046,\n",
       "          16.52017678, 265.40847088, 193.3143447 , 289.54029104,\n",
       "         102.24203538,  71.35826211, 206.41872091,  40.65778329,\n",
       "         167.2964205 , 151.63776187, 145.40436937, 160.4195159 ,\n",
       "         119.11126282,   8.12060978, 158.28895551,  70.09458757,\n",
       "          88.80673153, 188.0912243 , 184.0205225 , 100.78223795,\n",
       "          57.57678203,  34.25872909, 107.56935788,  55.78134026,\n",
       "          68.68152139,  89.32412567, 209.33246558, 128.85680202,\n",
       "          88.61085156, 168.30047231, 104.10728979,  45.83171496,\n",
       "          80.16505728,  20.18100778, 205.62945277, 170.60668268,\n",
       "          35.01231637, 137.22040665, 297.43282584,  49.76553254,\n",
       "          30.67229372, 436.12135356, 189.95539153, 305.17891353,\n",
       "          39.33979089, 207.31018096, 283.09699158, 181.02191674,\n",
       "         128.24880082, 116.61103035,  33.88772883, 176.31852641,\n",
       "         249.55555953,  55.49187336,  19.2227273 , 114.67042792,\n",
       "          56.82209733, 142.6965976 , 133.02861068, 198.16436292,\n",
       "          40.85457829,  97.85480462, 332.13964166,  89.20540127,\n",
       "          55.95757154, 159.23827861, 209.05278248, 139.31597357,\n",
       "         110.24366782,  57.90992805, 100.96404842, 251.19829643,\n",
       "           9.24026182,  98.62631707, 199.57930379, 133.60797291,\n",
       "          93.50455494,  28.78159964, 307.11593598,  62.4578151 ,\n",
       "          41.027205  , 240.223487  , 109.86833976, 130.41911372,\n",
       "         224.94149372,  96.51449389,  35.88754807, 231.94407486,\n",
       "         477.80175656, 100.30079897, 254.98806326, 143.72743152,\n",
       "         257.63761743,  32.19493914,  34.65029023, 199.32728888,\n",
       "          78.69140635, 100.45602507, 119.57182786,  58.59332602,\n",
       "         393.2793659 , 332.98324   , 114.15735433, 484.38540755,\n",
       "         143.02707904, 106.4719928 ,   5.44534211, 139.19115667,\n",
       "         144.44384263, 436.69585506, 130.2822316 , 107.23541284,\n",
       "         196.80491666,  63.70729   , 220.52204222,  82.4423927 ,\n",
       "         211.50790118, 148.94869163, 316.2899784 ,  60.47194681,\n",
       "         142.90524036, 117.97961133,  43.97708661, 157.59437817,\n",
       "          89.51283458, 110.55607482, 173.50488775, 153.2374046 ,\n",
       "          14.89974337,  57.66432219,  92.51482455,  59.70181206,\n",
       "          40.73973944, 307.79356634,  85.78807565,  52.3124554 ,\n",
       "         245.55133971, 116.21618213, 102.45392021, 181.1550585 ,\n",
       "         469.51421414,  26.48645998,  87.29456864, 128.53360477,\n",
       "          49.8185286 ,  48.68753688, 176.90666125, 288.29632794,\n",
       "          83.2029559 , 166.6696831 , 189.20010085,  72.69322719,\n",
       "         105.32096094,  89.9884321 ,  46.67402197, 164.62800831,\n",
       "         145.95715144, 457.81459227, 182.52753677, 234.26065738,\n",
       "         341.21606508, 188.47266089,  14.65618339, 108.88078231,\n",
       "          51.37602973, 118.28606661, 173.7678765 ,  41.47672895,\n",
       "         157.21736148, 250.73325958, 139.78941475, 188.96525381,\n",
       "         131.58374433,  75.35255812, 167.74568505, 230.8007139 ,\n",
       "          96.40604161, 167.10399811, 122.8655031 , 199.70933619,\n",
       "          66.5936365 ,  43.65691398,  50.28272511,  60.07012966,\n",
       "         461.37200304, 222.20886754, 342.25817556, 126.46830125,\n",
       "          22.7782067 ,  25.1191404 , 102.64811382,  69.61682853,\n",
       "         198.75842197, 378.47623678,  88.43958502, 126.88253883,\n",
       "          54.04434092, 138.14229031, 101.53443449, 224.65644286,\n",
       "         123.53960816, 141.68510143, 108.06627944,  46.47629328,\n",
       "         104.27496133,  98.96227869, 422.69291819, 101.00261887,\n",
       "         146.70460265, 444.51661251,  53.04378116, 156.74814965,\n",
       "         164.32848853, 345.25383036,  77.56916082,  95.9651137 ,\n",
       "         142.12142527,  82.68147075, 445.59941821, 383.914341  ,\n",
       "         250.80884533, 103.73466451,  23.40668441, 170.35541674,\n",
       "         306.0191388 , 571.14205778,  82.05777061, 315.73535684,\n",
       "          63.81948512, 187.28241367, 400.4195786 , 182.59688548,\n",
       "          33.03096171, 299.1159842 , 210.10132679,  39.82493842,\n",
       "         134.01447961, 270.30382436, 428.8166711 , 166.62639694,\n",
       "         354.59427342, 154.15844583, 204.44546587,  96.41583085,\n",
       "          76.64661914,  34.15487234, 330.65784652, 110.4565985 ,\n",
       "         465.35334361,  33.25890703, 343.34927639, 190.30529661,\n",
       "         243.17982816, 323.34931849, 192.95690357, 162.51151127,\n",
       "         737.54373085, 121.41244127, 146.21777215, 190.79603456,\n",
       "         104.65436091, 285.83692218,  51.38479282,  60.48524526,\n",
       "          18.42656343,  59.00104565,  97.34338364,  55.53387664,\n",
       "          90.44686329, 189.48273995,  54.51030383, 115.21176601,\n",
       "         127.53104093,  84.64123064, 132.30526802, 129.57521722,\n",
       "          70.92841867, 461.94264174, 141.88050062,  63.14113214,\n",
       "          69.98944593, 162.74311433,  74.59977595, 175.87246099,\n",
       "          25.04187136,  59.59030014,   9.39433382,  25.3157117 ,\n",
       "          52.68850604, 140.37629721, 371.78328181, 294.49697238,\n",
       "         105.6481965 , 414.38337248, 161.13838004, 174.08278968,\n",
       "          91.30866065,  18.0377727 ,  60.49224685, 141.08736688,\n",
       "         222.82815563, 121.10406185,  98.456399  ,  48.3336329 ,\n",
       "         176.02833266,  94.59347459, 103.98893388,  41.55227001,\n",
       "          83.13214295, 115.02384976, 103.65173043, 208.9350943 ,\n",
       "         152.27667588, 123.38172487, 110.3609176 ,  98.7246768 ,\n",
       "         423.25546463,  93.79482904,  43.42887602, 206.53619374,\n",
       "         117.19930898,  75.5546629 , 161.14307139,  63.23364061,\n",
       "          63.63222835, 124.06208163,  53.92744865, 336.80208047,\n",
       "          21.65361413,   9.25347272, 461.97172996, 286.00091868,\n",
       "         205.92633209,  37.30480654, 119.96268052, 255.17604507,\n",
       "          50.8677855 ,  55.82807729,  37.12719222, 265.24572504,\n",
       "         342.19245248,  43.41338447,  64.4279306 ,  58.43524762,\n",
       "          19.10867903, 660.13487497,  33.63742469, 165.75601586,\n",
       "         189.54228043,  78.71519644, 141.30537614, 137.93713104,\n",
       "         141.19066806,  84.5029238 , 277.08210426, 206.49446727,\n",
       "         335.07685579,  44.50661592,  13.73270781, 118.62566586,\n",
       "         268.32513654,  52.2204423 , 105.98114376, 191.93259275,\n",
       "         105.10346802,  77.89294861,  20.70192659,  47.16778522,\n",
       "         101.74338267, 135.88797811, 448.8056611 ,  63.43359203,\n",
       "          19.50517658,  40.23089689,  63.5895956 , 159.51731756,\n",
       "          76.32747151,  26.53867265, 200.909411  , 160.56005507,\n",
       "         249.04542016, 144.35220176, 278.43432757,  62.28492721,\n",
       "          60.50373264,  26.57008417, 158.54458178, 122.06742259,\n",
       "          86.63954276,  69.60265571,  52.6464897 ,  13.70945209,\n",
       "          86.22283672, 527.43798874, 268.19723144,  69.44680917,\n",
       "          65.13507085,  89.90865687,  96.37074684, 342.00615111,\n",
       "         330.47797802,  17.82286659,  47.65436076, 411.91346911,\n",
       "          48.46658608, 314.09001666, 105.61932744, 212.27170491,\n",
       "          60.89866371,  83.91989389,  60.82571401,  46.88691242,\n",
       "          86.44319958, 183.51958245,  21.10225669,  52.44800212,\n",
       "         205.64957479, 188.70821139, 128.86110549,  42.00601007,\n",
       "          58.586855  ,  43.50992945,  73.83847871,  47.91205807,\n",
       "         105.81948496,  47.03745867,  49.50090195, 121.53417389,\n",
       "         181.33328198, 253.92726227, 150.40534776, 169.77213397,\n",
       "         104.31650214,  81.75117323, 434.48328545,  80.57002232,\n",
       "         100.54471426, 198.62572131,  96.60199786,  89.88365046,\n",
       "         125.66473826, 372.60535444, 228.83059037, 154.43177122,\n",
       "         150.65385049, 267.3116269 , 176.39952166,  30.13858082,\n",
       "         193.68710923,  57.55401303,  38.26449607, 265.92923755,\n",
       "         112.14073808, 133.35181698, 342.64666921, 226.51241141,\n",
       "          56.7480033 , 248.98056536,  89.65038615, 207.20403196,\n",
       "         339.41192805, 308.75665388,  99.3511765 , 173.30028817,\n",
       "          14.11825726, 189.50405072, 143.46019189, 103.79239736,\n",
       "          79.53745825, 161.07832802, 115.82151529, 574.63725714,\n",
       "          29.80685303, 150.6660785 ,  40.01804157,  35.78342248,\n",
       "         246.78085421,  83.67494914,  28.5501434 , 197.78248432,\n",
       "         179.98682795,  66.10510163,  61.98067498, 100.10891618,\n",
       "         119.52740115,  37.00923008, 484.10135513,  83.4986124 ,\n",
       "          23.51257661,  17.76855517,  47.05768195,  68.63021858,\n",
       "          47.80409912,  54.79953613,  59.94340131, 490.94985906,\n",
       "         167.31134433, 241.82401224,  99.9234692 , 147.72147369,\n",
       "         197.46160317,  17.40857307, 262.70027557,   9.74740042,\n",
       "         531.5140238 , 130.05816186, 172.20278814,  35.86618383,\n",
       "         285.37324397, 172.22272075, 186.09174427, 187.80093438,\n",
       "         208.04584248,  21.28456342, 128.09870646, 121.29312326,\n",
       "         221.23197351, 158.0610548 , 267.6103891 , 492.93978544,\n",
       "          61.03533705, 185.2330984 ,  53.3968614 , 136.58769652,\n",
       "         259.50639698,  22.12262538, 382.59165993, 122.47208805,\n",
       "         210.25630416,  81.02095943, 130.61961762,  69.06831358,\n",
       "          97.74532044, 135.89216466,  56.8045211 ,  88.53023032,\n",
       "         282.06150616, 196.14521755,  99.3048592 , 147.4645882 ,\n",
       "         369.39012094,  75.57690346, 102.17462768,  40.96371547,\n",
       "          96.40731269, 423.91766333, 317.48489215,  88.54811242,\n",
       "          30.84215551, 211.2213667 ,  81.35457927,  84.59218137,\n",
       "         169.5703953 , 156.54897526,  47.74628524,  47.56741106,\n",
       "         102.05509895, 311.12986388, 184.37638919, 432.81674572,\n",
       "         100.58698153,  55.65421227, 675.11410219, 354.68812349,\n",
       "         162.49119507, 210.87438333, 139.21698298, 179.28838418,\n",
       "          95.2305814 ,  31.95873072, 160.64466405,  37.91570688,\n",
       "          11.7896134 ,  33.34409342,  42.06023057, 322.97257557,\n",
       "          76.90117689,  64.073492  , 135.47485819, 206.5480542 ,\n",
       "          52.6586123 ,  88.44714822, 462.74239375, 166.06894763,\n",
       "          26.58809779,  68.03344938, 288.26066442, 384.08744708,\n",
       "          76.53659426,  33.68640171, 423.8566698 , 158.22218989,\n",
       "         129.63317207, 151.48649366,  59.76650427,  48.16172389,\n",
       "          60.44140448,  80.30570901, 161.38125198,  37.78608574,\n",
       "         242.71887768, 167.74085591, 263.53037088, 109.52560728,\n",
       "         164.37781996,  35.50364375,  36.89517528,  67.49573414,\n",
       "          38.68566947, 131.19185807, 281.63578536,  27.17883901,\n",
       "         470.44982762, 157.94159749, 246.91428505,  52.9115831 ,\n",
       "         103.00534685, 155.48993412, 271.64846246, 121.93647568,\n",
       "         196.49303865,  86.01412079, 214.41066589, 107.33920517,\n",
       "         128.97123622, 287.96259311, 477.55255144, 233.57600765,\n",
       "          81.10051489, 405.97451615, 114.85987736,  85.78109895,\n",
       "          84.60645709,  51.08390721, 319.38670449,  19.00726143,\n",
       "          54.05260652,  83.50433589, 275.65332909, 455.03586257,\n",
       "          88.39631422, 191.18378304, 303.90407573, 137.32637993,\n",
       "          65.52763442, 130.37874753,  79.36721516, 352.31109768,\n",
       "         308.46571421,  29.41818131,  24.1265893 , 100.49920962,\n",
       "          78.06624131, 165.98526485,  64.47661316,  36.45092429,\n",
       "          55.52897939,  60.19752618,  59.63561328, 153.37275801,\n",
       "         131.83978749,   4.11067677, 372.00216551, 281.24321124,\n",
       "         654.1435188 ,  61.81481844,  38.71409028, 124.77080977,\n",
       "         143.97548792, 216.39813577, 179.34866876,  30.99264034,\n",
       "         300.63059214, 104.49662264,  56.53965825, 292.13502581,\n",
       "          33.3024004 , 548.04684868,  40.60465952, 126.27291556,\n",
       "         339.97478608,  26.18351079,  59.30746429]),\n",
       "  b'METPhi': array([ 0.21402574,  2.42120383, -2.92181981,  2.80170135, -0.86437905,\n",
       "         -0.67181297,  1.7645916 ,  1.23468933, -0.78564757,  2.13460254,\n",
       "          2.1803034 , -2.76854001,  0.77084742,  2.71587185, -2.87225835,\n",
       "          0.8984873 ,  2.84014752, -2.77986522, -0.30612562,  1.4243408 ,\n",
       "          0.61207816, -1.61540913,  1.32056497,  0.41561985, -1.91437279,\n",
       "         -2.82849251, -2.23696825, -1.84820252,  1.35460597,  2.14313814,\n",
       "          2.35489406, -0.55399926, -2.58359034, -1.4351859 , -1.4921526 ,\n",
       "          0.94709221, -0.56465493, -2.59417202, -0.52978378,  2.60565514,\n",
       "          1.00738241,  2.97771574,  0.35835388,  0.03994802, -2.32165598,\n",
       "          2.59988045, -1.18022248, -0.96745096,  0.20424304, -2.40946063,\n",
       "          0.4341558 , -0.28289121,  0.23873438,  2.32932239, -1.47356118,\n",
       "          1.74074912,  1.31372065,  0.08211739,  2.21703934, -3.11283126,\n",
       "         -2.18247558,  1.24385307,  2.78093896, -1.24166209, -1.53787385,\n",
       "          0.78217965, -2.94135542, -0.3327005 ,  0.04456749, -1.616435  ,\n",
       "          0.5194932 , -2.119529  ,  2.01277446, -3.09697707,  2.15904541,\n",
       "          0.70864471,  2.19174866,  0.36977536, -1.94529095,  1.84059167,\n",
       "         -1.36901662,  1.78563367,  0.95033619, -2.4992537 , -3.11766809,\n",
       "          2.34476779,  1.88611629, -2.25580625, -1.16469884, -1.88818356,\n",
       "         -2.32835543,  0.02274966, -1.28403041,  0.41362885, -1.41172817,\n",
       "          1.561951  ,  3.04662015,  1.46982108, -2.64967244,  1.36826364,\n",
       "         -1.51648557, -2.9823411 ,  0.67711817, -1.28197946,  1.53188881,\n",
       "          2.65423001,  1.85831108,  1.00954793,  0.39662641, -2.78577588,\n",
       "          1.35819132,  2.4967336 ,  1.68356872,  1.41472931, -0.99045779,\n",
       "          2.42552621, -2.7290115 ,  1.94301819, -1.19646481,  1.70561122,\n",
       "          1.40065679, -2.69899065, -0.46211773,  0.27185726,  2.97237873,\n",
       "         -0.1201139 , -0.7341463 , -1.25501063,  2.00813165,  1.59976032,\n",
       "         -2.8122196 , -1.43477921, -1.83026634,  0.79928509,  1.43367659,\n",
       "          0.3676259 ,  2.35955487, -0.96823407, -0.71429916, -2.83083441,\n",
       "          0.90612271,  3.09692982,  2.8256332 ,  2.2364242 ,  2.60388544,\n",
       "         -1.17150995, -2.23470871, -2.66110762,  2.7182329 , -2.26427509,\n",
       "          0.33805197, -1.99610462,  2.78170532, -0.14175686, -2.0468036 ,\n",
       "         -2.24219659,  0.99326295, -2.16630449,  0.50240919,  2.7325461 ,\n",
       "         -0.29664431,  1.65831239, -1.553895  ,  1.48631943,  2.38263859,\n",
       "         -1.29163597,  2.36662302, -0.6591456 , -2.16491829, -2.92771256,\n",
       "          1.45555498,  1.68444674,  2.81397118, -2.51737277, -1.88150438,\n",
       "         -1.47525369,  0.00407262, -0.57088813,  2.65213481, -1.99949185,\n",
       "         -2.36446189, -2.88827994,  1.30573317, -0.40231266,  2.98114328,\n",
       "         -0.85649827,  0.1310575 ,  2.65420574,  2.27957973, -0.64220755,\n",
       "          0.02268789,  0.11394913, -2.07324802, -2.0273799 ,  1.14903053,\n",
       "          1.92698321,  1.7135618 ,  2.91111402, -2.62343967,  1.13601014,\n",
       "          2.90077773,  1.36071666,  0.36155517, -2.17438661, -2.88496149,\n",
       "          1.31996646,  1.23322916, -0.40133644, -1.37043802,  3.09369625,\n",
       "          1.80320369,  2.56046858, -0.05103618,  2.13031146, -2.8106835 ,\n",
       "         -0.5300707 ,  3.0848236 , -1.94795404,  1.19449427,  1.86076321,\n",
       "          1.04317976, -1.09668029,  2.32542042,  3.10553886, -1.26294146,\n",
       "          1.92266347,  1.12613822, -1.20898118,  2.81757961,  2.47219483,\n",
       "         -1.06493468,  2.32540318, -1.57469814,  2.408038  , -0.26760437,\n",
       "         -0.39537099,  1.45438501, -0.11358471,  1.68740953,  2.0123466 ,\n",
       "         -2.91955135, -2.99765864,  2.02746927, -2.1569796 , -0.11139487,\n",
       "         -2.43828349,  2.05115847, -3.05644634,  1.47463642,  1.36438842,\n",
       "         -1.95435887, -1.34999391, -0.33575906,  1.54833481,  1.90797744,\n",
       "          1.75064341,  2.61691644, -0.22175198,  2.12518094, -2.11666977,\n",
       "          0.86874855,  2.43386122, -3.02219161, -1.99485465, -2.73397351,\n",
       "          1.97496323, -2.08576328, -0.03326841,  1.58826298, -1.55882236,\n",
       "         -1.59152925,  3.13659328,  1.04650507,  2.04376809, -0.65882562,\n",
       "          1.79577261, -0.97965976,  2.97220506, -1.29775506,  0.05092837,\n",
       "         -0.41814686,  2.28017362, -2.99284008, -0.76588068,  2.47794145,\n",
       "          3.1238381 ,  0.50219669,  1.2693208 ,  1.78803154,  2.82568026,\n",
       "         -1.39145524,  1.98028715,  2.9914821 ,  3.02128772,  0.94448845,\n",
       "         -2.25685936,  1.58724387,  1.78998893,  0.90513777,  0.48555742,\n",
       "         -1.3704378 , -3.12892183, -2.65152411, -1.14631542, -0.03190734,\n",
       "         -1.13998018, -2.43352145,  2.90297128,  1.09211065,  2.7878539 ,\n",
       "         -0.76879724,  1.10207815, -2.75820375, -1.084147  ,  0.57682149,\n",
       "          0.26678301, -1.83757817, -0.64181734, -0.04072065,  1.41041357,\n",
       "          0.36346827, -3.0385958 ,  2.55050654, -2.58689243, -3.05940029,\n",
       "         -1.38120833,  1.50898071, -1.29376511, -2.62636663, -2.61699239,\n",
       "          2.22709028, -0.29324805,  1.8071642 , -0.27947708,  2.54441517,\n",
       "          1.13814842, -2.51341464,  2.32174236, -0.73968365, -2.70822931,\n",
       "         -2.9996654 ,  0.39013398, -2.24296729,  1.57271187,  2.98525709,\n",
       "         -1.54426069,  2.9904666 ,  0.2263773 , -1.3514057 , -2.19373192,\n",
       "          1.06060823, -0.85234814, -1.72311004,  2.61057437,  1.91315089,\n",
       "          3.03849711, -1.32786302, -2.9383775 ,  0.66098798,  0.46960273,\n",
       "         -2.44611879,  2.7282842 ,  1.3237327 ,  0.70309254,  2.40027412,\n",
       "          0.46970519, -2.16843463,  1.77999217,  0.19194823,  0.24188656,\n",
       "         -2.76116963, -1.45484598, -0.37438358,  3.00786745,  0.7842237 ,\n",
       "         -1.31761841, -2.89931874, -2.8815543 , -1.78961133, -0.31798339,\n",
       "          0.81889919, -1.83214492, -2.46009561, -0.27561941, -2.24450505,\n",
       "         -0.05683506,  3.09914316, -0.44766928,  1.84496894, -0.04099297,\n",
       "         -1.51002272, -2.61427762,  1.22818371,  0.06411927, -2.741257  ,\n",
       "         -2.27178617,  1.74850157,  1.55374716, -2.32281288, -1.36467742,\n",
       "          2.06967111, -2.47118751, -2.03536115, -2.18160006,  2.99405567,\n",
       "         -2.44428122,  1.19128564,  0.03362679, -2.69349292,  1.8004574 ,\n",
       "         -0.72037777, -2.03438027, -2.27847707, -2.86664807,  1.65477278,\n",
       "         -1.50775291, -2.11074215,  0.25900157, -0.15103518,  3.13798617,\n",
       "          1.46283474, -2.80574562,  0.81351623,  0.03930421, -0.24011781,\n",
       "         -2.34987227, -1.88816357,  2.64802846, -0.38825186,  1.71106424,\n",
       "          0.14546099, -0.22929011, -1.75384806, -2.40823491,  0.71479634,\n",
       "          1.03338485,  2.19774758, -1.72463199, -0.19357492, -2.82657362,\n",
       "          0.55587304,  0.21382461, -1.63699381, -0.8264387 , -2.94695009,\n",
       "          1.33092629,  2.20218688, -2.80266188,  1.47668859, -2.88563453,\n",
       "          2.43593518,  0.25129351, -2.63481099, -1.46399196, -2.70049291,\n",
       "          0.62501157,  0.38329468,  2.64687841,  0.91482849, -1.8278214 ,\n",
       "         -2.98046447, -2.95745342, -1.76307367,  0.01038105,  1.49677385,\n",
       "          1.97255946,  2.99494425,  1.58120197, -1.64033667, -0.61191353,\n",
       "         -2.8924837 , -1.68861837,  2.02726246, -0.57266963, -0.41316996,\n",
       "         -1.68439687, -0.83869019,  1.59156714,  0.34421931,  1.92512919,\n",
       "          0.58994674, -1.53710737, -2.794759  , -2.04087386, -1.7774534 ,\n",
       "          1.26907421, -2.37901928,  2.11757796, -0.42494725, -2.25311788,\n",
       "          2.49297617, -0.1240871 ,  1.77534674,  0.59894749,  0.67271411,\n",
       "         -2.26649568,  2.17209131,  0.42940985,  2.87061538,  1.93928374,\n",
       "          1.41108892,  0.0344748 ,  2.09848557,  2.17769319,  1.12626231,\n",
       "          2.47410274, -0.60712652,  2.22471453,  0.58597509, -0.21927531,\n",
       "         -2.02320914, -1.13771738,  3.02927127, -2.90864939,  2.03021556,\n",
       "          0.37670987,  0.26592326,  0.31070979, -1.04731673, -0.27947847,\n",
       "          2.47414098,  2.13928372, -2.15944049, -1.80094997,  1.03009717,\n",
       "         -2.92434139, -1.40594198,  1.31203583, -1.45919092,  2.55393536,\n",
       "          1.26525499,  2.07590793,  2.89852238,  1.40838102,  0.396282  ,\n",
       "          1.78680331,  2.173477  , -0.14120929,  0.54123357, -2.11286695,\n",
       "          1.6125146 ,  0.71252065,  1.64403332, -0.2615334 , -0.0876661 ,\n",
       "          2.8170577 ,  2.86013781,  3.04000606, -2.65262799, -0.31473607,\n",
       "         -0.32158379, -1.69604654, -0.26870668, -1.22268795, -1.83692524,\n",
       "         -1.04700811,  1.22819166, -1.0849742 ,  1.99518948,  1.28851593,\n",
       "         -1.75614377, -0.656132  ,  3.04258858, -1.21895192, -1.32585638,\n",
       "          1.79859634, -1.28931518, -0.86328794,  2.86450619, -2.06016904,\n",
       "          2.47576641,  0.60193455, -1.33886067, -0.93576092, -2.04095049,\n",
       "         -2.70193501, -0.76367814, -0.45561118, -2.97046625, -0.54466711,\n",
       "          0.62719988,  0.59164088, -1.33664744, -2.50456758, -2.29316368,\n",
       "         -2.85563307, -2.98931149,  2.2119348 ,  2.25608119, -2.11730175,\n",
       "          2.1497721 ,  0.86688649, -2.56462267,  2.07884884, -1.54745129,\n",
       "         -1.97844541,  1.70943624,  0.0390675 , -2.66578447,  1.95980481,\n",
       "         -2.8678656 , -2.95040683, -1.76551917,  0.047569  ,  0.29572101,\n",
       "          1.48066509,  1.50722675, -1.38409013, -2.54699436,  2.74202663,\n",
       "          1.25250008,  0.45818301, -0.36813269, -1.20299856, -0.89288712,\n",
       "          2.53498627,  1.32943246, -0.90799076,  1.62505966,  0.37845475,\n",
       "         -1.36971256, -2.22329791, -0.03808789,  0.25427011, -3.12172046,\n",
       "         -2.26228522, -1.733996  ,  0.66283129, -0.5075265 ,  2.4974728 ,\n",
       "         -1.07645433, -0.65663161, -1.32570421, -2.32648453,  2.63210699,\n",
       "         -1.94707489, -2.65439741,  1.36221791,  1.99015682, -1.2668465 ,\n",
       "          0.86462008,  1.0002378 ,  0.3876893 ,  2.20787476,  1.74871121,\n",
       "         -2.97859225,  1.75048558, -2.03498789,  1.97702622,  2.4453657 ,\n",
       "          0.59558731,  2.17597419,  2.20542737, -0.04082405, -2.43278478,\n",
       "          0.60259745,  1.29793973,  2.78433024,  0.09458025, -1.23778072,\n",
       "         -2.44392949, -1.2876631 ,  1.1737516 ,  0.610195  , -0.40785908,\n",
       "         -0.87074653, -0.53793959, -2.22505834,  0.52181817,  1.05728597,\n",
       "          0.97758749,  1.66749297,  1.55419584, -1.80714414,  2.58172948,\n",
       "         -1.72045904, -1.87706675, -1.22442582, -0.50558588,  1.03417164,\n",
       "         -3.09770747, -0.97348216,  2.97466671,  0.1597601 ,  2.54211751,\n",
       "         -2.74554391, -2.93023913, -1.74235233,  2.08836407,  1.06568176,\n",
       "         -0.88665252,  1.73240452, -2.18996226,  1.55428918, -1.51060988,\n",
       "         -1.63880466,  2.2018189 , -0.01632401, -1.31701158, -2.03850263,\n",
       "          2.01582643, -2.64711302,  3.10426691, -2.20655194, -1.8964863 ,\n",
       "          0.80267466,  1.39717645, -2.62249534, -2.90121529,  0.55737747,\n",
       "         -1.19700447,  2.45202043, -2.86659319,  2.8215094 ,  1.83494471,\n",
       "          1.81122493,  1.65823929,  2.80460138,  2.37264401,  2.03928343,\n",
       "         -1.35203547,  1.43024546,  1.66394457, -2.4497633 , -2.84219667,\n",
       "         -1.46363735, -2.78505356,  0.42646375,  2.23403395, -0.65392246,\n",
       "         -1.96638039, -0.10838549,  1.34481814, -1.32423421,  2.78533656,\n",
       "         -1.19394536, -1.51181283,  2.53011961,  0.8062558 ,  2.36884397,\n",
       "         -2.50403721,  1.7690444 ,  2.57727276,  1.39303078,  0.47406856,\n",
       "          2.4543055 , -2.54284446,  0.98925404, -1.7211204 , -1.51754351,\n",
       "          2.91927467, -1.32956825,  2.18905895, -2.62887286, -1.16365211,\n",
       "          0.01793518, -2.80749769,  1.66864974, -2.18747866,  1.23004024,\n",
       "         -0.35201187,  0.81688932, -1.28052339])},\n",
       " {b'JetsAK15': <JaggedArrayMethods [[TLorentzVector(x=-460.87, y=-539.3, z=1233.9, t=1440.4) TLorentzVector(x=298.51, y=555.17, z=-202.97, t=682.56) TLorentzVector(x=-201.93, y=-161.77, z=-576.22, t=643.36) TLorentzVector(x=240.52, y=43.825, z=-1113.5, t=1143.8)] [TLorentzVector(x=269.27, y=256.96, z=-123.57, t=452.91) TLorentzVector(x=-237.08, y=-164.96, z=-390.88, t=545.78) TLorentzVector(x=67.7, y=-162.02, z=84.923, t=213.6)] [TLorentzVector(x=108.45, y=-480.17, z=754.5, t=914.37) TLorentzVector(x=-144.37, y=413.58, z=71.076, t=472.91)] ... [TLorentzVector(x=-148.57, y=-498.97, z=123.72, t=559.75) TLorentzVector(x=117.37, y=261.56, z=411.16, t=525.64)] [TLorentzVector(x=-264.41, y=786.63, z=-226.29, t=963.15) TLorentzVector(x=180.37, y=-517.39, z=166.67, t=601.31) TLorentzVector(x=106.82, y=-238.85, z=-1732.6, t=1759.6)] [TLorentzVector(x=264.97, y=510.88, z=760.26, t=981.3) TLorentzVector(x=-446.57, y=-219.43, z=889.61, t=1047.5)]] at 0x7f1e1894c6a0>,\n",
       "  b'JetsAK15_softDropMass': <JaggedArray [[187.53109086452105 6.361710395285367 46.12636698540455 22.322677236143683] [158.22772822683197 250.86525465027142 0.0] [4.785923066115607 2.4255504362256493] ... [1.8317236186416874 154.55554461047126] [434.80539869504696 153.19389778990623 164.64860380094473] [224.63845277951543 236.48054825967904]] at 0x7f1e1894cac8>,\n",
       "  b'TriggerPass': <JaggedArray [[-1 -1 -1 ... 0 0 -1] [-1 -1 -1 ... 0 0 -1] [-1 -1 -1 ... 0 0 -1] ... [-1 -1 -1 ... 0 0 -1] [-1 -1 -1 ... 0 0 -1] [-1 -1 -1 ... 0 0 -1]] at 0x7f1e1894c748>,\n",
       "  b'MET': array([134.3954801 , 141.60699967,  45.83647458,  39.87907287,\n",
       "          28.73230415,  87.90192447,  15.43439872, 104.41859757,\n",
       "         162.23353994, 428.67895076,  64.43651684, 111.77031673,\n",
       "         166.30409888,  72.83250949,  14.17852305, 137.19322427,\n",
       "          30.83594322, 111.76651172,  57.17133478, 408.65919491,\n",
       "          54.41364685, 128.79862955,  84.57317965, 365.82700378,\n",
       "         252.78995743, 215.80876177,  46.87374476, 145.09073686,\n",
       "         284.56791623, 198.55064247,  79.11448205, 326.21333785,\n",
       "         128.18090172, 133.02428698, 398.71386076, 132.0586279 ,\n",
       "          68.31027473, 298.72191222, 139.26165261, 106.45394647,\n",
       "         293.22864064, 241.87588385, 124.32839134, 115.62733533,\n",
       "         462.38152532,  52.2245369 ,  86.0463091 , 153.04455896,\n",
       "         166.04164511,  28.60906339,  85.86388747,  90.8884437 ,\n",
       "          77.44066985,  43.04930965, 251.20973481, 392.69930388,\n",
       "          81.84976384, 166.61429507, 106.01390782, 256.34700158,\n",
       "          83.15280168,  43.61560231,  96.1983346 ,  32.79058503,\n",
       "         269.98692067,  33.19000842,  81.19333064, 366.26081709,\n",
       "          88.72349141, 243.74638488, 100.65561983, 153.7182005 ,\n",
       "         147.60092133, 132.79778444, 304.43449937, 121.55808164,\n",
       "         169.18291386, 115.61940171, 153.08694077, 124.35891409,\n",
       "         377.63186354,  26.85820321, 294.29432076,  39.75337565,\n",
       "         210.24017379,  87.9836711 , 274.90191585, 328.06618796,\n",
       "         214.60286421,  58.08904066, 129.65908604,  65.3548932 ,\n",
       "         177.70884969, 132.17126079,  24.55941693,  41.98169926,\n",
       "          21.55141223, 156.25737833,  77.66920623,  43.53703013,\n",
       "         102.23307959,  64.93516094, 111.68200385,  82.64988443,\n",
       "          87.18937326, 361.61978474, 102.96048131,  70.18597884,\n",
       "         108.94884022, 335.19623969, 415.14158527, 105.8698359 ,\n",
       "          28.52140797, 224.40794243, 137.37787361,  86.90368202,\n",
       "         175.21645097, 288.04810359,  41.44903639,  75.00149137,\n",
       "          93.0283706 , 103.35507521, 156.67302314,  72.73020362,\n",
       "         376.69255088,  61.09156732, 110.1016514 , 113.79943988,\n",
       "         215.6348893 ,  84.90166967, 215.04931944, 320.07161406,\n",
       "         403.44728444,  86.30693778,  15.65904137,  97.58861398,\n",
       "          60.3870352 ,  53.76553459, 201.00942818,  26.82133205,\n",
       "         270.79439184, 220.12127198, 127.49044337,  37.14449911,\n",
       "          86.55575027, 453.45216702,  65.90093967, 129.65346257,\n",
       "          45.94277975, 307.49235585, 213.23448302, 208.45534682,\n",
       "          91.23372341, 119.25617472,  68.38784646, 100.67689218,\n",
       "          13.70246799, 104.01357163, 189.56982807, 373.32031593,\n",
       "          48.38903815, 237.55178633, 345.93864396, 219.1052775 ,\n",
       "          68.93503618, 186.43455683,  59.4380394 , 175.92483793,\n",
       "         115.39068773, 382.88993758, 108.48442868,  85.50614458,\n",
       "          91.43879247, 278.55234598,  27.71974694, 168.43673553,\n",
       "          44.59241568,  78.99211544,  91.62558708, 307.83902928,\n",
       "         101.78728035,  97.46034049,  83.37679619, 239.76363609,\n",
       "         349.31919423, 378.40747393,  91.09087111, 214.39219789,\n",
       "         118.14259419,  78.17177095,  46.25444849, 109.29100699,\n",
       "         238.32954066, 216.73909662, 356.72728248, 114.20795637,\n",
       "         137.55940634, 265.04817994, 199.33840238, 482.78464177,\n",
       "          77.19201374, 137.8529667 ,  30.20906704, 165.71595832,\n",
       "         224.18276658,  70.06434781,  41.42666559, 179.09338468,\n",
       "          46.73898952, 238.21413878,  79.13742372,  59.65095123,\n",
       "         138.75895785, 181.08047633, 118.31837706, 223.08692961,\n",
       "         403.20272377,  97.49490914,  41.99097937, 186.02505017,\n",
       "         326.70512721,  83.57940463,  63.27067613, 134.0822707 ,\n",
       "          56.57158616,  90.89207717,  78.3096116 ,  48.42846746,\n",
       "         466.08673993,  17.68135618, 155.33372036,  17.44994379,\n",
       "          42.33508951, 314.15269135, 123.53338774, 114.58859385,\n",
       "          30.33539604, 284.54067681,  78.76310718, 417.64578589,\n",
       "          82.57635672, 172.68728673,  50.251968  , 141.11791758,\n",
       "         109.79244733, 119.2951046 ,  44.93503766, 314.44201995,\n",
       "         166.70480199, 333.30155184,  25.63052278, 211.87698472,\n",
       "          77.78720027, 160.19932716, 212.75796907, 190.21651709,\n",
       "          51.37384267,  43.84199527, 107.08349888, 169.82933735,\n",
       "          90.20096879,  56.06499538, 118.09092238, 461.95800496,\n",
       "          50.95018981,  68.39534401, 193.68010177,  72.78169152,\n",
       "          84.48621323, 118.53291675,  41.34686451, 213.24898496,\n",
       "          73.05970171,  35.7000004 , 157.99084283,  81.43242826,\n",
       "          10.9165511 ,  14.00716888,  90.32567308,  14.3005828 ,\n",
       "          75.9443645 , 110.40191425,  59.92861003, 431.31958978,\n",
       "         313.03972576,  38.53191057, 188.07349163,  14.82626238,\n",
       "         285.34669722, 247.61766854,  90.9017873 ,   9.34402241,\n",
       "          78.94624309, 166.81965056,  15.97224018, 157.54817768,\n",
       "          54.78673862, 148.95570971,  98.01081859, 491.60379654,\n",
       "          67.93751633,  20.23328423, 110.30506254,  78.42368416,\n",
       "          89.23187242,  78.42351034,  89.66448281, 118.6537778 ,\n",
       "          73.0231796 , 259.08174389, 108.62502449,  64.74448364,\n",
       "         296.29273386,  26.50670955, 274.07418133, 177.96887935,\n",
       "         445.89340638, 104.14224248, 187.93963017,  68.93977455,\n",
       "          58.6539864 , 113.50694899,  29.21639869,  13.48077388,\n",
       "          30.3315786 , 380.83756916, 150.70642226, 378.08478437,\n",
       "         113.36182   , 226.58678209, 194.31676022, 123.61015182,\n",
       "         175.6729316 , 111.21177009, 146.32402429, 251.16161778,\n",
       "         110.35744557,  38.29971261, 333.83052594,  59.53385936,\n",
       "          93.6349555 , 121.84380357, 141.87765868, 129.94084498,\n",
       "         232.81042357,  58.39764266, 143.61303802, 111.85136907,\n",
       "          22.26046791,  60.36989599,  38.85284967,  56.02463535,\n",
       "         247.68408113,  54.33432736,  28.61276617,  64.25998497,\n",
       "         106.35204601, 515.5959501 , 157.82933139, 397.62114359,\n",
       "         187.30368004, 168.33985529, 152.06395504,   2.18749059,\n",
       "           7.7959954 ,  61.40590314,  49.08015394, 279.41792317,\n",
       "         112.97812737,  63.02223873,  87.73843776,   7.60558469,\n",
       "          58.54658097, 271.39845872, 137.56095474,  24.70366694,\n",
       "          38.92049184,  98.75417791, 211.77608115,  82.15503062,\n",
       "         100.83095679,  87.37703134, 200.2566586 ,  55.80899584,\n",
       "         190.90807263,  60.68162078, 129.95070408,  35.02992315,\n",
       "         340.0961497 ,  38.83005826,  80.25157634,  34.04874426,\n",
       "          51.28746977,  79.67961279, 419.9430097 ,  94.59149449,\n",
       "         101.40488268, 505.61499727,  60.15487609,  20.34249228,\n",
       "          21.70895617,  42.09068161, 136.37396552,  89.6178204 ,\n",
       "         143.41568756, 201.23773568, 319.44198718, 132.82016649,\n",
       "          56.1253407 ,  56.01878854, 687.57966242,  20.62442813,\n",
       "         142.3367708 ,  42.58774809, 152.29980703,  91.66885348,\n",
       "         127.90819878,  43.22993266,  59.797236  ,  83.66737287,\n",
       "         188.21541021, 202.15598403, 237.79989119,  61.44117729,\n",
       "         130.72678538,  64.35112309, 244.52120541,  84.68748705,\n",
       "         295.60108885, 108.56063351,  95.25861097, 240.41570872,\n",
       "         204.88581537, 121.4319493 ,  41.24725852, 120.69704056,\n",
       "         168.8669805 ,  68.41152654, 232.77781723, 124.33644192,\n",
       "         298.02834991,  58.95555277, 170.15658563, 104.975073  ,\n",
       "         158.49374486, 296.77548769,  54.27816729, 190.44323027,\n",
       "          91.69438375,  14.66918702,  74.95027635, 277.59111028,\n",
       "         360.98243241,  38.17096104, 136.18455329, 182.83386883,\n",
       "         514.57044008, 152.95156141, 478.6795454 ,  54.28314038,\n",
       "         118.32384664, 233.12443635,  32.56734987, 439.47264083,\n",
       "          20.94368712, 103.1847007 ,  62.49634391, 287.7521419 ,\n",
       "         292.44942826, 143.39581528, 113.17854806,  78.35056006,\n",
       "         239.70151717,  23.23455085,  91.63517775, 188.35602978,\n",
       "         579.13495026,  69.44893296,  40.08627908, 111.58536921,\n",
       "          47.42152826,  45.4466487 ,  49.04675568, 176.59828947,\n",
       "         309.51793963, 150.96333715, 293.66795113,  92.19075213,\n",
       "          44.58302321, 134.63825963,  65.00960909, 253.85916436,\n",
       "          91.55392008,  68.37505402,  63.50154788, 251.3664112 ,\n",
       "         192.08224999,  54.67724873, 354.93292095,  73.12433967,\n",
       "         407.66441776, 161.72237225,  54.03985126,  54.36685057,\n",
       "         304.96670379,  60.50899888, 172.55990221,  64.0720998 ,\n",
       "          26.69933187,  34.08365817,  34.32091659,  50.98089786,\n",
       "         437.29163017,  29.7108063 , 173.16778161, 151.47023391,\n",
       "         159.15592535,  52.95271095, 192.30554126,  92.04639406,\n",
       "          49.66267728,  80.58480459, 114.61210219,  67.88939978,\n",
       "         210.90314359, 330.58380206, 217.79737527,  92.63968001,\n",
       "          92.74674264,  65.88433665,  58.12182406, 131.98255828,\n",
       "         125.73911301, 110.70178757, 132.00821911, 726.43470436,\n",
       "         500.99215201,  62.8574125 , 148.93346407,  94.61294375,\n",
       "         326.20159199,  23.6273838 , 230.80901422,  69.86420506,\n",
       "         159.84342492, 379.38286051, 163.07886348,  31.35214723,\n",
       "          58.4308224 ,  74.86681456, 147.11906081, 190.5225323 ,\n",
       "          93.65550562,  88.28412746, 339.26464936, 245.49656925,\n",
       "          77.23219743,  37.08309064,  67.93099185, 161.14816895,\n",
       "         104.18211043, 108.6576579 ,  54.16180284,  83.68468317,\n",
       "          52.58031426, 450.48060833, 280.20592418, 161.06115875,\n",
       "          49.24868125,  51.21086581, 120.33275397,  15.32631984,\n",
       "         377.57656498,  27.25411154, 358.17188962, 136.2211899 ,\n",
       "         263.09151814, 257.2214123 , 283.48171536, 350.8812329 ,\n",
       "           8.47156024, 121.70221687,  54.39733744,  91.96578694,\n",
       "         322.01587086,  92.17986711, 319.79192317,  88.35629353,\n",
       "         132.49432149, 323.25158855, 243.07323178,  31.24401626,\n",
       "          78.44893676,  91.47265987, 249.54525203,  62.57012916,\n",
       "          97.50805288, 212.31248377, 183.88673315, 224.21823185,\n",
       "         118.16660254,  30.56215613, 105.008687  , 227.13985183,\n",
       "          96.81373951, 164.12134556, 237.43508252, 203.38249647,\n",
       "         128.42003444, 104.41623629,  91.30680067, 285.72232292,\n",
       "          60.54869869,  36.5896163 , 251.22146558, 179.64158976,\n",
       "         451.89751971,  73.87258316, 230.32344228, 349.56646278,\n",
       "          64.66568887, 315.09431634, 101.99354506,  71.98111241,\n",
       "         349.91411013, 284.08067029,  88.70643851, 410.36983792,\n",
       "          71.05634801,  42.44551343, 402.54341161,  41.21498799,\n",
       "         200.59087944, 458.3648464 ,  10.30291991, 453.75255449,\n",
       "         371.207444  ,  36.56540471, 146.32393794, 169.84044576,\n",
       "         518.17101677, 675.18231087, 342.42732475,  69.93105261,\n",
       "         204.49207699,  83.88457246, 169.64722355, 146.66709772,\n",
       "         166.25746566, 373.04292839,  12.63601656,  87.87046039,\n",
       "         108.80920885, 138.25200983, 120.99828404, 206.28230232,\n",
       "         418.64758853, 222.15325124, 111.5508858 , 549.40700996,\n",
       "         356.73782171,  49.48650978,  94.95508429, 160.36655374,\n",
       "         238.74717324,  25.35846022,  91.08815079, 164.46250957,\n",
       "         128.58765759,  35.93355384, 135.60409947,  57.67289661,\n",
       "         319.57985472, 272.37300594,  26.33673155, 164.26973732,\n",
       "         293.75256978, 115.13971257,  34.24348759, 196.12661253,\n",
       "          37.3294373 , 207.96884831, 118.84866179,  53.87734291,\n",
       "          96.59351971, 246.03170624,  46.06217476, 109.70097532,\n",
       "         215.71541979,  43.23854723, 265.08085761, 204.38206915,\n",
       "         144.72209347, 133.18254073,  96.39549412, 106.25309575,\n",
       "          34.22121288,  62.25249658,  46.34998386, 145.42140899,\n",
       "         491.50960715,  53.28188997,  81.82774254, 170.55260611,\n",
       "           2.2474604 ,  55.68271584, 148.78281126, 275.08578932,\n",
       "         224.37180641,  45.30309831,  78.97971443,  83.47010221,\n",
       "         283.07307754, 437.26497128,  56.79393169,  90.72942564,\n",
       "          44.90271518, 126.28320481,  87.79284749, 199.29317407,\n",
       "         283.0795638 , 256.71422399, 359.38028367,  87.15721022,\n",
       "          73.68127343, 130.32430202, 240.00624665, 112.21499811,\n",
       "         229.15677822, 188.05606133,  37.43464052, 281.15018162,\n",
       "          44.83928309, 274.72621782]),\n",
       "  b'METPhi': array([ 6.42976979e-01, -2.37693315e+00, -2.13567069e+00,  8.17220506e-01,\n",
       "         -1.66202732e-01,  2.49973299e+00,  1.37310722e+00,  6.03073920e-01,\n",
       "         -2.27345018e-01,  2.51012854e+00, -2.71242503e+00, -1.66335290e+00,\n",
       "         -1.72825099e+00, -1.74298326e+00,  3.79997673e-01, -2.16322372e-01,\n",
       "          1.99855576e-01, -1.87166903e+00,  3.04086034e+00,  2.68717800e+00,\n",
       "          2.07322643e-01, -2.28328428e+00,  5.05023115e-01,  8.36601927e-01,\n",
       "          7.21809825e-01, -1.29114918e+00,  1.39324460e+00,  1.43194795e-01,\n",
       "         -1.83895820e+00, -1.42559098e-01, -2.91056593e+00, -7.41907008e-01,\n",
       "         -1.68165158e+00,  4.38485457e-01, -3.01447657e+00, -2.01602859e+00,\n",
       "          1.58523086e+00, -1.34701962e+00, -2.99365947e+00,  7.89707082e-01,\n",
       "          2.03220960e-02, -8.36689649e-01,  2.94000077e+00,  1.57490149e+00,\n",
       "          1.60342320e+00,  7.61706572e-01, -3.07235009e+00,  1.08230020e+00,\n",
       "         -1.01078426e+00,  2.49257100e+00, -4.33204356e-01,  2.14069157e+00,\n",
       "         -1.79429349e+00,  2.24400278e+00,  1.14133107e+00, -1.52483830e+00,\n",
       "          1.80124070e-01, -3.01614613e+00,  1.21318070e+00, -1.32482713e+00,\n",
       "         -2.38725234e+00, -1.65341098e+00, -4.95446541e-01, -6.08555556e-01,\n",
       "          3.00440878e+00, -2.82472477e+00, -1.72047976e+00, -5.47863982e-01,\n",
       "         -2.16251621e+00, -2.26796585e+00,  2.25415502e+00,  2.77297307e-01,\n",
       "          2.11496973e+00,  3.10631706e+00,  6.38412284e-01, -1.53657574e+00,\n",
       "         -9.10195419e-01,  9.44054577e-01, -2.30745011e+00,  1.28187074e+00,\n",
       "          3.84812050e-01,  1.12659474e+00,  4.78108337e-01, -2.83624680e-01,\n",
       "          3.07047462e+00, -5.45167820e-02,  5.89040372e-02, -1.63819772e+00,\n",
       "          2.63120827e+00, -3.12638934e+00,  4.74474939e-01,  8.75179512e-01,\n",
       "         -2.70189252e-01,  2.11209748e+00,  8.59559723e-01,  8.91662636e-01,\n",
       "          9.84941451e-01, -1.02351656e+00,  2.95986846e+00, -2.04660526e+00,\n",
       "          9.83953560e-01,  2.32850610e+00,  6.94438021e-01,  2.27642194e+00,\n",
       "         -4.88797092e-01,  8.47176316e-01,  3.08290710e+00, -2.47364170e+00,\n",
       "         -2.88775333e+00,  1.62038959e+00,  1.84059347e+00, -4.33903012e-01,\n",
       "         -3.71027481e-01,  1.88515285e+00, -3.06328302e+00,  1.27603875e+00,\n",
       "          8.64403811e-01, -4.00223613e-02,  1.00579560e+00,  1.74984718e+00,\n",
       "          1.67310960e+00,  1.13100348e+00,  8.17224004e-01, -3.02558794e+00,\n",
       "         -3.68202956e-01,  6.41416713e-01,  2.16942480e+00,  2.53107217e+00,\n",
       "          6.47347272e-01, -2.99946915e+00, -8.91381235e-02, -1.61699467e+00,\n",
       "         -1.52449974e+00,  1.87651100e+00,  4.29660761e-01,  2.78636469e+00,\n",
       "         -2.20773067e+00, -1.49042418e+00,  2.47307883e+00, -1.48189847e+00,\n",
       "          2.06169227e+00, -2.87062949e+00,  1.13099097e+00,  2.28491336e-01,\n",
       "          5.08605376e-01,  6.41469914e-01, -6.13972996e-01, -2.89527735e+00,\n",
       "         -2.01436808e+00,  1.00148656e+00,  2.74317411e+00, -9.85795246e-01,\n",
       "         -1.48653759e+00, -1.46391557e+00,  2.14502594e+00, -2.61304209e+00,\n",
       "          2.75850074e+00, -1.03073692e+00,  1.22687309e+00,  7.03821585e-01,\n",
       "          6.42194955e-01,  2.42122165e+00,  2.03558498e+00, -2.00926376e+00,\n",
       "         -2.37491563e+00, -1.34169245e-01,  1.67334927e+00,  1.41620623e+00,\n",
       "         -6.60005633e-01, -2.78604967e+00,  5.15688585e-01,  1.49771140e+00,\n",
       "          5.06086624e-01,  2.79498695e+00,  4.37669056e-01,  2.84349327e+00,\n",
       "          2.80499005e+00, -2.50895924e+00,  2.69153275e+00, -1.22885779e+00,\n",
       "         -5.17275750e-01,  1.79512274e+00, -1.82422520e-01,  1.62233577e-01,\n",
       "          3.02146317e+00, -5.49713933e-02,  1.87613260e+00,  2.04055626e+00,\n",
       "         -3.07518384e+00, -2.68822294e+00, -1.30523752e+00,  1.22830675e+00,\n",
       "          2.45536253e+00,  2.96205345e+00,  9.61403687e-01, -2.41496690e+00,\n",
       "         -1.42870137e-01, -2.88941924e+00,  2.22723205e+00,  1.12767787e+00,\n",
       "          1.54138383e+00,  5.49322467e-01,  5.92165254e-01,  2.10354227e+00,\n",
       "          3.48192397e-01,  2.54966511e+00,  1.51992989e+00,  1.53653125e-01,\n",
       "         -2.09650904e+00,  2.28027220e+00,  2.14196367e+00,  2.92469653e+00,\n",
       "          9.32173298e-01,  1.87114995e+00, -2.15261190e+00, -1.44504563e+00,\n",
       "         -3.94332820e-01,  1.48967247e-01, -2.61477337e+00,  1.69045426e+00,\n",
       "          1.64297837e+00,  4.19525684e-01,  7.60743193e-02,  9.36689320e-01,\n",
       "          2.87568010e+00, -1.23099357e+00,  1.12676259e+00, -2.23027681e+00,\n",
       "          1.87342827e+00,  1.09499740e-01, -1.44736100e+00,  3.07085928e+00,\n",
       "          1.11977533e+00, -1.95982061e+00, -3.02892218e+00,  4.83642953e-01,\n",
       "         -1.80784105e+00, -5.25740350e-01, -1.15528586e+00, -2.41957204e+00,\n",
       "          5.46469533e-01, -2.77507102e+00,  2.92149480e+00,  4.56346123e-01,\n",
       "         -1.36282060e+00, -2.85628858e-01,  2.32479454e+00, -2.97405254e+00,\n",
       "          1.16912901e+00, -1.87121533e+00,  3.04774137e+00, -2.08239380e+00,\n",
       "         -1.68991359e+00,  5.00996921e-01,  2.34216523e+00,  1.97012630e+00,\n",
       "         -2.34766768e+00,  1.61322708e+00,  2.13567539e+00,  8.15378762e-01,\n",
       "         -1.45112274e+00,  2.13829930e+00, -8.88921149e-01, -2.27441713e+00,\n",
       "          2.82303596e+00,  1.72894006e+00,  2.40944637e+00, -2.37163654e+00,\n",
       "         -3.01382910e+00,  1.06988981e+00, -2.00349850e+00, -2.15035095e+00,\n",
       "          2.50778354e+00,  1.24217490e+00, -4.18592441e-01,  1.51511620e+00,\n",
       "         -2.30975420e+00, -1.63920619e+00, -1.10587128e+00, -1.44037456e+00,\n",
       "         -1.77788208e+00, -1.67815046e+00,  2.81510647e+00, -7.75610084e-01,\n",
       "          2.57226137e-02,  2.49439987e+00,  1.73529150e+00, -2.06194482e-01,\n",
       "          7.95276271e-01, -2.35653993e+00,  2.27586538e+00,  1.73588928e+00,\n",
       "         -9.86226965e-02,  1.24180994e+00,  3.11512466e-01, -1.60173659e+00,\n",
       "          1.58773312e-01, -2.46911050e+00,  3.53664419e-01,  2.44726597e+00,\n",
       "          5.67761444e-01, -1.08582660e+00, -1.76078792e+00, -2.25860246e+00,\n",
       "         -2.09362101e+00,  9.24553062e-01,  1.38427792e+00, -1.53585935e+00,\n",
       "          8.14967615e-01,  1.24527691e+00, -3.10579461e+00, -2.80455667e+00,\n",
       "          2.52136286e+00,  3.09389624e+00, -1.90157969e+00, -3.58983860e-01,\n",
       "          1.16051989e+00,  1.34995583e+00, -5.05806707e-01, -2.17871006e+00,\n",
       "         -2.29473927e-01,  1.05999045e+00, -1.81964253e+00,  2.96626046e+00,\n",
       "         -1.49254820e+00,  9.87989080e-01, -1.64349951e+00,  1.68750193e+00,\n",
       "          1.29498393e+00,  1.36564638e+00, -6.09396123e-02,  2.16529227e-01,\n",
       "          4.37508394e-01, -8.06240509e-02, -1.88187587e+00, -2.88873852e+00,\n",
       "         -2.81995681e+00, -1.69300435e-01,  1.38454144e+00,  9.65957792e-01,\n",
       "         -2.49492845e+00,  2.05653128e+00,  1.93905196e+00,  1.91239099e+00,\n",
       "          2.07338716e+00, -2.56851236e+00,  1.17195673e+00, -1.75293405e-01,\n",
       "          2.77486300e+00,  3.57292973e-01,  6.78600302e-03, -1.95906544e+00,\n",
       "          3.09685477e+00, -3.81022654e-01, -2.19355142e+00,  1.60616075e+00,\n",
       "          2.01839430e+00,  2.59649323e+00,  1.87485808e+00,  2.53403217e+00,\n",
       "         -1.75556365e+00,  2.60173843e+00, -2.59328623e+00,  3.04135263e+00,\n",
       "         -2.52715070e-01, -1.44029369e+00, -1.60612816e+00,  2.67342289e+00,\n",
       "          5.08055147e-01, -3.00043480e-01,  1.16848679e-01, -1.48844815e+00,\n",
       "         -8.21461194e-01, -2.42141681e+00,  2.67694239e+00,  2.18246477e+00,\n",
       "          2.44599339e-01, -2.19270137e-01, -2.67862426e+00,  1.68234028e+00,\n",
       "         -1.40655040e+00,  2.63729699e+00,  2.57753114e+00, -8.05036372e-01,\n",
       "         -2.25452994e+00, -2.69172155e-01, -2.88384757e-01, -2.97777725e-01,\n",
       "         -7.72507343e-01,  1.08569635e+00,  1.48195540e+00,  8.11392946e-01,\n",
       "          1.30084690e+00,  7.21059615e-01, -2.97208374e+00,  8.44679662e-01,\n",
       "         -7.83923361e-01,  1.98716824e+00,  1.80127157e+00,  3.01445510e+00,\n",
       "          1.67456722e+00, -3.02495953e+00, -2.95641676e-02, -7.58681176e-01,\n",
       "         -1.65585992e+00, -1.23684908e+00,  2.21834849e+00,  1.10528704e+00,\n",
       "         -1.78366516e-01,  2.00996895e+00,  1.64982768e+00,  5.76888924e-01,\n",
       "          2.26812385e+00,  2.19225445e+00, -1.43548275e+00,  1.28962393e+00,\n",
       "         -3.83966283e-01, -1.38614306e+00,  1.65889727e+00, -4.02912947e-01,\n",
       "         -5.62446619e-03, -9.19318831e-01,  2.70734359e+00,  1.69037993e+00,\n",
       "          2.33550136e+00,  5.44738668e-01,  1.02670972e+00, -1.62793944e+00,\n",
       "          1.70237426e+00,  2.67811581e+00, -7.82311008e-01,  1.19561696e+00,\n",
       "         -2.20383331e+00,  1.21066091e+00, -6.42012676e-01, -9.80196255e-01,\n",
       "          6.51161474e-01, -5.05836667e-01, -4.50582797e-01, -9.23069412e-01,\n",
       "         -1.64809723e-01, -1.65812845e+00, -9.90572290e-01,  2.17498057e+00,\n",
       "          1.60107263e+00, -3.88654245e-03,  1.64310586e+00,  1.64369464e+00,\n",
       "          2.15781256e+00,  5.95946496e-01, -1.35667298e+00, -1.39077458e+00,\n",
       "         -2.13998544e-01,  2.78165081e+00, -3.93755937e-01, -2.90050515e+00,\n",
       "         -1.23854847e+00, -3.50836304e-01, -2.69565185e-01,  2.59158567e+00,\n",
       "          2.60020087e+00, -1.15992709e+00,  1.87300689e+00,  2.26932760e+00,\n",
       "         -1.64725584e+00,  1.36994568e+00,  1.75297430e+00,  3.10589756e+00,\n",
       "         -5.58669473e-01, -9.76698816e-01, -1.66258798e-01, -2.44567137e+00,\n",
       "         -2.40462094e+00, -1.06941167e+00, -2.38822888e+00,  1.81800285e+00,\n",
       "         -1.84905339e+00,  1.74604165e+00,  1.75611985e+00,  2.83540002e+00,\n",
       "         -1.26455835e+00, -1.44970157e+00, -1.63390928e+00, -2.10113388e+00,\n",
       "          4.31077189e-01,  1.62312406e+00,  2.38228189e+00, -3.58718047e-01,\n",
       "          2.64336867e+00, -7.79894003e-01,  2.60184724e+00,  2.09371180e+00,\n",
       "         -2.15365077e+00,  3.09781071e+00,  2.91750018e+00,  1.73358328e+00,\n",
       "         -2.83863386e+00,  1.11982189e+00,  2.15865459e+00, -1.60191918e+00,\n",
       "          2.13504732e+00, -1.43808756e+00, -6.92172009e-02, -2.57455083e+00,\n",
       "         -2.76016474e+00,  1.36142091e+00,  1.98867916e+00, -1.52931723e+00,\n",
       "          7.60354369e-01, -2.90043660e+00, -1.90350311e+00,  1.11664236e+00,\n",
       "         -2.04959162e+00,  1.43013876e+00,  2.31801315e+00, -1.56675918e+00,\n",
       "          5.18103724e-01,  1.32916956e+00, -1.92982155e+00, -9.28805128e-01,\n",
       "          2.59015966e+00, -9.61948122e-01, -5.01048889e-01,  7.67386317e-01,\n",
       "         -9.64802639e-01, -3.01253593e+00,  2.18443299e+00, -1.59387830e+00,\n",
       "          3.88742721e-01, -2.31256506e+00,  8.23750025e-01,  2.97569180e+00,\n",
       "         -2.45717892e+00, -1.96605595e+00, -2.99255629e+00,  2.88139968e+00,\n",
       "         -5.63607929e-01,  5.63511739e-01,  3.02048408e+00,  1.45850375e+00,\n",
       "          3.56239572e-02,  1.63967540e-01,  2.15614001e+00, -1.46839447e+00,\n",
       "          1.58819318e+00, -7.41313588e-02,  1.65462548e+00, -3.21986639e-01,\n",
       "          2.63914607e+00, -8.36722851e-01, -3.06148512e+00, -2.47989560e+00,\n",
       "         -3.03791698e+00, -1.66025074e-03,  2.77210465e+00,  2.53912911e+00,\n",
       "          1.12650829e+00,  1.23338238e+00,  8.95554674e-01,  1.89316237e+00,\n",
       "          3.10116966e+00, -5.96515569e-01,  1.05822639e+00, -2.51186719e-01,\n",
       "          1.44082199e+00,  1.12157861e+00,  6.90088089e-02, -3.70444483e-01,\n",
       "          2.13579862e+00,  2.33975658e+00,  2.84746864e+00,  1.88438705e+00,\n",
       "          1.12729438e+00,  2.93918306e+00,  3.00560504e+00,  1.56402227e+00,\n",
       "         -1.74012545e-01,  7.92898586e-01,  8.77133233e-01, -2.90745609e+00,\n",
       "          2.82959946e+00, -2.64121479e-01,  1.76017531e+00,  2.00954286e+00,\n",
       "         -3.02351849e+00, -2.66019577e+00,  1.99271815e+00, -1.68776274e+00,\n",
       "         -5.30816953e-01,  1.44108918e+00,  4.43506285e-01,  1.70927144e+00,\n",
       "         -1.08759697e-02,  2.90528041e+00,  1.91077228e+00, -2.73080130e+00,\n",
       "          1.18951888e+00,  2.64333188e+00, -2.05009070e-01,  2.55753316e+00,\n",
       "         -3.13436580e+00, -2.04914450e+00, -2.39420870e+00,  1.36769025e+00,\n",
       "         -3.03754609e+00,  1.64994148e+00,  2.11515824e-02,  2.94408759e+00,\n",
       "          2.60343969e+00,  2.53187774e+00,  1.12216995e+00, -6.03477405e-01,\n",
       "          1.54757204e+00,  5.18346405e-01,  3.05461705e-01,  1.62729860e-01,\n",
       "          2.47981920e+00,  1.12849831e+00, -2.63306942e+00,  2.72580143e+00,\n",
       "          6.36387993e-01, -7.95494361e-01, -1.41733281e+00,  1.86423678e+00,\n",
       "         -1.58859992e-01, -6.58331395e-01, -1.48461458e+00,  1.45899368e+00,\n",
       "         -2.26006982e+00, -1.11281088e+00, -2.27122963e+00,  2.37397546e+00,\n",
       "          2.77563596e+00,  3.78129284e-01, -3.12892755e+00, -1.01047149e+00,\n",
       "          1.47229260e+00,  3.12309208e+00, -2.84799322e-01,  2.69145125e-01,\n",
       "          2.43440733e+00, -1.71592617e+00, -1.77597214e-01,  1.36240722e+00,\n",
       "         -2.89982120e+00,  2.26350614e+00,  3.03296488e+00, -3.29981192e-02,\n",
       "         -1.50107076e+00,  1.98203997e+00,  1.70353535e-01, -2.54806968e+00,\n",
       "          2.08538404e+00,  5.56729938e-01, -1.79427969e+00,  2.51761708e+00,\n",
       "          3.08470285e+00, -2.35694108e+00,  7.42552341e-01,  2.14659724e+00,\n",
       "          7.78779050e-03,  1.17068752e+00, -9.41785286e-01,  1.86555033e+00,\n",
       "         -8.83669507e-01, -2.45133743e+00,  2.07663724e+00,  1.51604339e+00,\n",
       "         -2.72936590e-01, -8.19409558e-01,  2.76679365e+00,  1.06184984e+00,\n",
       "          1.12880016e+00,  1.04180416e+00,  8.19751230e-01,  1.38034218e+00,\n",
       "         -1.03721500e+00, -2.86926945e+00, -2.26539426e+00,  2.10204251e+00,\n",
       "         -1.95006275e+00,  1.43416920e+00, -1.17437859e+00, -2.92683535e+00,\n",
       "          3.05075705e+00,  2.90695710e+00, -9.24400712e-01,  1.58302514e+00,\n",
       "          1.59478239e+00, -1.02931367e+00, -3.02761359e+00, -5.18012625e-01,\n",
       "         -2.35305898e+00,  2.45895526e+00,  1.53609456e+00, -5.18008267e-01,\n",
       "          2.69708442e-01, -1.03672066e+00,  8.73904957e-01, -1.74666604e+00,\n",
       "         -7.43075515e-01, -2.67695906e+00,  1.66310535e+00,  2.94874250e+00,\n",
       "          3.08994027e+00, -2.57230052e+00, -2.17847550e+00, -2.31776062e+00,\n",
       "          2.24870566e+00, -2.10054964e+00, -1.28772071e+00, -1.10881812e+00,\n",
       "          1.23762527e+00,  1.26780462e+00, -2.46442354e+00,  9.36055033e-01,\n",
       "         -2.96122146e+00, -7.92243278e-02,  3.01417805e+00, -9.26563852e-01,\n",
       "         -2.97014131e+00,  2.38427121e+00,  1.97606222e+00,  9.30368839e-01,\n",
       "         -1.39821552e+00,  8.98776117e-01, -3.02900252e+00,  1.93878176e+00,\n",
       "         -8.21950793e-01,  2.08398272e+00,  2.26232181e+00,  1.53788444e+00,\n",
       "          2.47855121e+00, -1.16502546e+00])}]"
      ]
     },
     "execution_count": 33,
     "metadata": {},
     "output_type": "execute_result"
    }
   ],
   "source": [
    "signal.cache_branches(cache_branches, n_files=5)\n",
    "signal.cache"
   ]
  },
  {
   "cell_type": "markdown",
   "metadata": {},
   "source": [
    "### Make a function to iterate over the backgrounds more easily\n",
    "\n",
    "These iterators yield `arrays`, which is like the `TTree` per file."
   ]
  },
  {
   "cell_type": "code",
   "execution_count": 34,
   "metadata": {},
   "outputs": [],
   "source": [
    "def iterate_bkg(use_cache=True, branches=None, **kwargs):\n",
    "    \"\"\"\n",
    "    Yields arrays from a dataset\n",
    "    \"\"\"\n",
    "    if branches is None: branches = [b'JetsAK15_softDropMass', b'TriggerPass']\n",
    "    if use_cache: print('Using cached data (limited)')\n",
    "    for bkgname, bkg in zip(\n",
    "        [ 'ttjets', 'qcd', 'wjets', 'zjets' ],\n",
    "        [ ttjets, qcd, wjets, zjets ]\n",
    "        ):\n",
    "        for dataset in bkg:\n",
    "            arrays_iterator = dataset.cache if use_cache else dataset.iterate_branches(branches=branches, **kwargs)\n",
    "            # Weight takes into account the cross section and the number of events\n",
    "            weight = dataset.get_weight(use_cache=use_cache)\n",
    "            for arrays in arrays_iterator:\n",
    "                yield arrays, weight, dataset, bkgname"
   ]
  },
  {
   "cell_type": "code",
   "execution_count": 35,
   "metadata": {},
   "outputs": [],
   "source": [
    "def iterate_sig(use_cache=True, branches=None, **kwargs):\n",
    "    if branches is None: branches = [b'JetsAK15_softDropMass', b'TriggerPass']\n",
    "    if use_cache: print('Using cached data (limited)')\n",
    "    arrays_iterator = signal.cache if use_cache else signal.iterate_branches(branches=branches, **kwargs)\n",
    "    weight = signal.get_weight(use_cache=use_cache)\n",
    "    for arrays in arrays_iterator:\n",
    "        yield arrays, weight, signal, 'signal'"
   ]
  },
  {
   "cell_type": "markdown",
   "metadata": {},
   "source": [
    "## Basic softdrop mass, no cuts\n",
    "\n",
    "Let's make a basic histogram of the softdrop mass of AK15 jets for signal and background"
   ]
  },
  {
   "cell_type": "code",
   "execution_count": 19,
   "metadata": {},
   "outputs": [
    {
     "name": "stdout",
     "output_type": "stream",
     "text": [
      "Using cached data (limited)\n",
      "TTJets_SingleLeptFromTbar_TuneCP5_13TeV-madgraphMLM-pythia8: Match 'TTJets_SingleLeptFromTbar' yields xs 831.8\n",
      "TTJets_SingleLeptFromTbar_TuneCP5_13TeV-madgraphMLM-pythia8: Found BR: 831.8 x 0.219 = 182.1642 <-- eff xs\n",
      "TTJets_SingleLeptFromT_TuneCP5_13TeV-madgraphMLM-pythia8: Match 'TTJets_SingleLeptFromT' yields xs 831.8\n",
      "TTJets_SingleLeptFromT_TuneCP5_13TeV-madgraphMLM-pythia8: Found BR: 831.8 x 0.219 = 182.1642 <-- eff xs\n",
      "TTJets_DiLept_TuneCP5_13TeV-madgraphMLM-pythia8: Match 'TTJets_DiLept' yields xs 831.8\n",
      "TTJets_DiLept_TuneCP5_13TeV-madgraphMLM-pythia8: Found BR: 831.8 x 0.105 = 87.339 <-- eff xs\n",
      "TTJets_HT-600to800_TuneCP5_13TeV-madgraphMLM-pythia8: Match 'TTJets_HT-600to800' yields xs 1.808\n",
      "TTJets_HT-800to1200_TuneCP5_13TeV-madgraphMLM-pythia8: Match 'TTJets_HT-800to1200' yields xs 0.749\n",
      "TTJets_HT-1200to2500_TuneCP5_13TeV-madgraphMLM-pythia8: Match 'TTJets_HT-1200to2500' yields xs 0.1315\n",
      "TTJets_HT-2500toInf_TuneCP5_13TeV-madgraphMLM-pythia8: Match 'TTJets_HT-2500toInf' yields xs 0.00142\n",
      "QCD_Pt_80to120_TuneCP5_13TeV_pythia8: Match 'QCD_Pt_80to120' yields xs 2343000.0\n",
      "QCD_Pt_120to170_TuneCP5_13TeV_pythia8: Match 'QCD_Pt_120to170' yields xs 406800.0\n",
      "QCD_Pt_170to300_TuneCP5_13TeV_pythia8: Match 'QCD_Pt_170to300' yields xs 103300.0\n",
      "QCD_Pt_300to470_TuneCP5_13TeV_pythia8: Match 'QCD_Pt_300to470' yields xs 6826.0\n",
      "QCD_Pt_470to600_TuneCP5_13TeV_pythia8: Match 'QCD_Pt_470to600' yields xs 552.6\n",
      "QCD_Pt_600to800_TuneCP5_13TeV_pythia8: Match 'QCD_Pt_600to800' yields xs 156.6\n",
      "QCD_Pt_800to1000_TuneCP5_13TeV_pythia8: Match 'QCD_Pt_800to1000' yields xs 26.32\n",
      "QCD_Pt_1000to1400_TuneCP5_13TeV_pythia8: Match 'QCD_Pt_1000to1400' yields xs 7.5\n",
      "QCD_Pt_1400to1800_TuneCP5_13TeV_pythia8: Match 'QCD_Pt_1400to1800' yields xs 0.6479\n",
      "QCD_Pt_1800to2400_TuneCP5_13TeV_pythia8: Match 'QCD_Pt_1800to2400' yields xs 0.08715\n",
      "QCD_Pt_2400to3200_TuneCP5_13TeV_pythia8: Match 'QCD_Pt_2400to3200' yields xs 0.005242\n",
      "QCD_Pt_3200toInf_TuneCP5_13TeV_pythia8: Match 'QCD_Pt_3200toInf' yields xs 0.0001349\n",
      "WJetsToLNu_HT-70To100_TuneCP5_13TeV-madgraphMLM-pythia8: Match 'WJetsToLNu_HT-70To100' yields xs 1292.0\n",
      "WJetsToLNu_HT-100To200_TuneCP5_13TeV-madgraphMLM-pythia8: Match 'WJetsToLNu_HT-100To200' yields xs 1393.0\n",
      "WJetsToLNu_HT-200To400_TuneCP5_13TeV-madgraphMLM-pythia8: Match 'WJetsToLNu_HT-200To400' yields xs 409.9\n",
      "WJetsToLNu_HT-400To600_TuneCP5_13TeV-madgraphMLM-pythia8: Match 'WJetsToLNu_HT-400To600' yields xs 57.8\n",
      "WJetsToLNu_HT-600To800_TuneCP5_13TeV-madgraphMLM-pythia8: Match 'WJetsToLNu_HT-600To800' yields xs 12.94\n",
      "WJetsToLNu_HT-800To1200_TuneCP5_13TeV-madgraphMLM-pythia8: Match 'WJetsToLNu_HT-800To1200' yields xs 5.451\n",
      "WJetsToLNu_HT-1200To2500_TuneCP5_13TeV-madgraphMLM-pythia8: Match 'WJetsToLNu_HT-1200To2500' yields xs 1.085\n",
      "WJetsToLNu_HT-2500ToInf_TuneCP5_13TeV-madgraphMLM-pythia8: Match 'WJetsToLNu_HT-2500ToInf' yields xs 0.00806\n",
      "ZJetsToNuNu_HT-100To200_13TeV-madgraph: Match 'ZJetsToNuNu_HT-100To200' yields xs 304.0\n",
      "ZJetsToNuNu_HT-200To400_13TeV-madgraph: Match 'ZJetsToNuNu_HT-200To400' yields xs 91.68\n",
      "ZJetsToNuNu_HT-600To800_13TeV-madgraph: Match 'ZJetsToNuNu_HT-600To800' yields xs 3.245\n",
      "ZJetsToNuNu_HT-800To1200_13TeV-madgraph: Match 'ZJetsToNuNu_HT-800To1200' yields xs 1.497\n",
      "ZJetsToNuNu_HT-1200To2500_13TeV-madgraph: Match 'ZJetsToNuNu_HT-1200To2500' yields xs 0.3425\n",
      "ZJetsToNuNu_HT-2500ToInf_13TeV-madgraph: Match 'ZJetsToNuNu_HT-2500ToInf' yields xs 0.005263\n",
      "Using cached data (limited)\n"
     ]
    }
   ],
   "source": [
    "hist_msd_split = hist.Hist(\n",
    "    'Count',\n",
    "    hist.Cat('dataset', 'Dataset'),\n",
    "    hist.Bin('msd', r'$m_{SD}$ for AK15', 100, 0., 500.)\n",
    "    )\n",
    "\n",
    "# Fill the bkg\n",
    "for arrays, weight, dataset, bkgname in iterate_bkg():\n",
    "    hist_msd_split.fill(\n",
    "        dataset = 'total_bkg',\n",
    "        msd = arrays[b'JetsAK15_softDropMass'].flatten(),\n",
    "        weight = weight\n",
    "        )\n",
    "    hist_msd_split.fill(\n",
    "        dataset = bkgname,\n",
    "        msd = arrays[b'JetsAK15_softDropMass'].flatten(),\n",
    "        weight = weight\n",
    "        )\n",
    "    \n",
    "# Fill the signal\n",
    "for arrays, weight, dataset, bkgname in iterate_sig():\n",
    "    hist_msd_split.fill(\n",
    "        dataset = dataset.name,\n",
    "        msd = arrays[b'JetsAK15_softDropMass'].flatten(),\n",
    "        weight = weight\n",
    "        )"
   ]
  },
  {
   "cell_type": "code",
   "execution_count": 20,
   "metadata": {},
   "outputs": [],
   "source": [
    "def plot_msd_basic(hist_msd, ymin=0.1):\n",
    "    fig = plt.figure(figsize=(10,10))\n",
    "    ax = fig.gca()\n",
    "    hist.plot1d(hist_msd, ax=ax)\n",
    "    ax.set_ylim(ymin)\n",
    "    ax.set_yscale('log')\n",
    "    ax.set_ylabel('Cross section')"
   ]
  },
  {
   "cell_type": "code",
   "execution_count": 21,
   "metadata": {},
   "outputs": [
    {
     "name": "stderr",
     "output_type": "stream",
     "text": [
      "/uscms_data/d3/klijnsma/miniconda3/envs/condaroot/lib/python3.6/site-packages/mplhep/_deprecate.py:56: DeprecationWarning: kwarg \"densitymode\" in function \"histplot\" is deprecated and may be removed in future versions: \"unit\"mode is not useful\n",
      "  return func(*args, **kwargs)\n"
     ]
    },
    {
     "data": {
      "image/png": "[encoded data removed]",
      "text/plain": [
       "<Figure size 720x720 with 1 Axes>"
      ]
     },
     "metadata": {
      "needs_background": "light"
     },
     "output_type": "display_data"
    }
   ],
   "source": [
    "plot_msd_basic(hist_msd_split)"
   ]
  },
  {
   "cell_type": "markdown",
   "metadata": {},
   "source": [
    "# Apply triggers"
   ]
  },
  {
   "cell_type": "code",
   "execution_count": 36,
   "metadata": {},
   "outputs": [],
   "source": [
    "trigger_titles = datasets.get_trigger_titles()"
   ]
  },
  {
   "cell_type": "code",
   "execution_count": 37,
   "metadata": {},
   "outputs": [],
   "source": [
    "def apply_trigger(arrays, triggers):\n",
    "    \"\"\"\n",
    "    Given a structure `arrays` as given by uproot, applies triggers and returns a filtered arrays.\n",
    "    The branch b'TriggerPass' must be in arrays\n",
    "    \"\"\"\n",
    "    # Indices of the triggers we want to apply\n",
    "    trigger_indices = np.array([ trigger_titles.index(trigger) for trigger in triggers ])\n",
    "    trigger_decisions = arrays[b'TriggerPass']\n",
    "    # Check, per event, if any of the triggers we want equals 1\n",
    "    passes = (trigger_decisions[:,trigger_indices] == 1).any(axis=1)\n",
    "    n_total = trigger_decisions.shape[0]\n",
    "    n_pass = passes.nonzero()[0].shape[0]\n",
    "    return { k : v[passes] for k, v in arrays.items() }, n_pass, n_total"
   ]
  },
  {
   "cell_type": "code",
   "execution_count": 99,
   "metadata": {},
   "outputs": [],
   "source": [
    "def filter_zerojet_events(arrays):\n",
    "    passes = (arrays[b'JetsAK15'].counts >= 1)\n",
    "    return { k : v[passes] for k, v in arrays.items() }\n",
    "    \n",
    "def get_leading_jet(arrays):\n",
    "    jets = arrays[b'JetsAK15']\n",
    "    leading_jet = jets[jets.pt.argmax()]\n",
    "    assert jets.shape[0] == leading_jet.shape[0]\n",
    "    return leading_jet\n",
    "\n",
    "def get_leading_jet_branch(arrays):\n",
    "    arrays[b'JetsAK15_leading'] = get_leading_jet(arrays)"
   ]
  },
  {
   "cell_type": "code",
   "execution_count": 100,
   "metadata": {},
   "outputs": [],
   "source": [
    "def calculate_mt(arrays, jets_branch=b'JetsAK15_leading'):\n",
    "    metx = np.cos(arrays[b'METPhi']) * arrays[b'MET']\n",
    "    mety = np.sin(arrays[b'METPhi']) * arrays[b'MET']\n",
    "    mete = np.sqrt(metx**2 + mety**2)\n",
    "    \n",
    "    jets = arrays[jets_branch]\n",
    "    jetsx = np.cos(jets.phi) * jets.pt\n",
    "    jetsy = np.sin(jets.phi) * jets.pt\n",
    "    jetse = np.sqrt(jets.mass**2 + jets.pt**2)\n",
    "    \n",
    "    mt = np.sqrt( (jetse + mete)**2 + (jetsx + metx)**2 + (jetsy + mety)**2 )\n",
    "    return mt"
   ]
  },
  {
   "cell_type": "code",
   "execution_count": 123,
   "metadata": {},
   "outputs": [],
   "source": [
    "def apply_preselection(arrays):    \n",
    "    # Build the preselection\n",
    "    preselection = (arrays[b'JetsAK15_RT'] > 0.15) & (arrays[b'JetsAK15_MT'] > 500.)\n",
    "    preselection = preselection.flatten() # Make sure it's at event level, not leading-jet level\n",
    "    arrays_postpreselection = { k : v[preselection] for k, v in arrays.items() }\n",
    "    n_pass = arrays_postpreselection[b'JetsAK15_MT'].shape[0]\n",
    "    return arrays_postpreselection, n_pass"
   ]
  },
  {
   "cell_type": "markdown",
   "metadata": {},
   "source": [
    "Now here actually applying the triggers and preselection, and saving filtered events in histograms"
   ]
  },
  {
   "cell_type": "code",
   "execution_count": 130,
   "metadata": {},
   "outputs": [
    {
     "name": "stdout",
     "output_type": "stream",
     "text": [
      "Using cached data (limited)\n",
      "Using cached data (limited)\n"
     ]
    }
   ],
   "source": [
    "triggers = [ 'HLT_AK8PFJet450_v', 'HLT_PFHT600_v' ]\n",
    "\n",
    "hist_msd_raw = hist.Hist(\n",
    "    'Count',\n",
    "    hist.Cat('dataset', 'Dataset'),\n",
    "    hist.Bin('msd', r'$m_{SD}$ for AK15', 100, 0., 500.)\n",
    "    )\n",
    "hist_msd_posttrigger = hist.Hist(\n",
    "    'Count',\n",
    "    hist.Cat('dataset', 'Dataset'),\n",
    "    hist.Bin('msd', r'$m_{SD}$ for AK15', 100, 0., 500.)\n",
    "    )\n",
    "\n",
    "hist_msd_postpreselection = hist.Hist(\n",
    "    'Count',\n",
    "    hist.Cat('dataset', 'Dataset'),\n",
    "    hist.Bin('msd', r'$m_{SD}$ for AK15', 100, 0., 500.)\n",
    "    )\n",
    "\n",
    "# Keep track of trigger efficiency\n",
    "n_pass = { key : 0 for key in ['ttjets', 'qcd', 'wjets', 'zjets', 'signal']}\n",
    "n_pass_preselection = { key : 0 for key in ['ttjets', 'qcd', 'wjets', 'zjets', 'signal']}\n",
    "n_total = { key : 0 for key in ['ttjets', 'qcd', 'wjets', 'zjets', 'signal']}\n",
    "\n",
    "for arrays, weight, dataset, bkgname in iterate_bkg():\n",
    "    arrays = filter_zerojet_events(arrays)\n",
    "    # Calculate the MT and RT\n",
    "    arrays[b'JetsAK15_leading'] = get_leading_jet(arrays)\n",
    "    arrays[b'JetsAK15_MT'] = calculate_mt(arrays)\n",
    "    arrays[b'JetsAK15_RT'] = arrays[b'MET'] / arrays[b'JetsAK15_MT']\n",
    "\n",
    "    # Fill the histogram before trigger\n",
    "    hist_msd_raw.fill(\n",
    "        dataset = 'total_bkg',\n",
    "        msd = arrays[b'JetsAK15_softDropMass'].flatten(),\n",
    "        weight = weight\n",
    "        )\n",
    "    hist_msd_raw.fill(\n",
    "        dataset = bkgname,\n",
    "        msd = arrays[b'JetsAK15_softDropMass'].flatten(),\n",
    "        weight = weight\n",
    "        )\n",
    "    \n",
    "    arrays_posttrigger, this_n_pass, this_n_total = apply_trigger(arrays, triggers)\n",
    "    n_pass[bkgname] += this_n_pass\n",
    "    n_total[bkgname] += this_n_total\n",
    "    \n",
    "    hist_msd_posttrigger.fill(\n",
    "        dataset = 'total_bkg',\n",
    "        msd = arrays_posttrigger[b'JetsAK15_softDropMass'].flatten(),\n",
    "        weight = weight\n",
    "        )\n",
    "    hist_msd_posttrigger.fill(\n",
    "        dataset = bkgname,\n",
    "        msd = arrays_posttrigger[b'JetsAK15_softDropMass'].flatten(),\n",
    "        weight = weight\n",
    "        )\n",
    "    \n",
    "    #__________________________\n",
    "    # Preselection\n",
    "    \n",
    "    arrays_postpreselection, this_n_pass = apply_preselection(arrays_posttrigger)\n",
    "    n_pass_preselection[bkgname] += this_n_pass\n",
    "    \n",
    "    hist_msd_postpreselection.fill(\n",
    "        dataset = 'total_bkg',\n",
    "        msd = arrays_postpreselection[b'JetsAK15_softDropMass'].flatten(),\n",
    "        weight = weight\n",
    "        )\n",
    "    hist_msd_postpreselection.fill(\n",
    "        dataset = bkgname,\n",
    "        msd = arrays_postpreselection[b'JetsAK15_softDropMass'].flatten(),\n",
    "        weight = weight\n",
    "        )\n",
    "    \n",
    "# Fill the signal\n",
    "for arrays, weight, dataset, bkgname in iterate_sig():\n",
    "    arrays = filter_zerojet_events(arrays)\n",
    "    # Calculate the MT and RT\n",
    "    arrays[b'JetsAK15_leading'] = get_leading_jet(arrays)\n",
    "    arrays[b'JetsAK15_MT'] = calculate_mt(arrays)\n",
    "    arrays[b'JetsAK15_RT'] = arrays[b'MET'] / arrays[b'JetsAK15_MT']\n",
    "\n",
    "    hist_msd_raw.fill(\n",
    "        dataset = dataset.name,\n",
    "        msd = arrays[b'JetsAK15_softDropMass'].flatten(),\n",
    "        weight = weight\n",
    "        )\n",
    "    \n",
    "    arrays_posttrigger, this_n_pass, this_n_total = apply_trigger(arrays, triggers)\n",
    "    n_pass['signal'] += this_n_pass\n",
    "    n_total['signal'] += this_n_total\n",
    "    \n",
    "    hist_msd_posttrigger.fill(\n",
    "        dataset = dataset.name,\n",
    "        msd = arrays_posttrigger[b'JetsAK15_softDropMass'].flatten(),\n",
    "        weight = weight\n",
    "        )\n",
    "    \n",
    "    arrays_postpreselection, this_n_pass = apply_preselection(arrays_posttrigger)\n",
    "    n_pass_preselection['signal'] += this_n_pass\n",
    "    \n",
    "    hist_msd_postpreselection.fill(\n",
    "        dataset = dataset.name,\n",
    "        msd = arrays_postpreselection[b'JetsAK15_softDropMass'].flatten(),\n",
    "        weight = weight\n",
    "        )"
   ]
  },
  {
   "cell_type": "code",
   "execution_count": 133,
   "metadata": {},
   "outputs": [
    {
     "name": "stdout",
     "output_type": "stream",
     "text": [
      "Trigger eff:\n",
      "Efficiency for ttjets: 0.753  (60988/81002)\n",
      "Efficiency for qcd   : 0.631  (297439/471743)\n",
      "Efficiency for wjets : 0.495  (101353/204758)\n",
      "Efficiency for zjets : 0.294  (102348/347676)\n",
      "Efficiency for signal: 0.675  (2541/3762)\n"
     ]
    }
   ],
   "source": [
    "print('Trigger eff:')\n",
    "for key in n_pass.keys():\n",
    "    eff = float(n_pass[key]) / n_total[key]\n",
    "    print(\n",
    "        'Efficiency for {0:6}: {1:.3f}  ({2}/{3})'\n",
    "        .format(key, eff, n_pass[key], n_total[key])\n",
    "        )"
   ]
  },
  {
   "cell_type": "code",
   "execution_count": 134,
   "metadata": {},
   "outputs": [
    {
     "name": "stdout",
     "output_type": "stream",
     "text": [
      "Preselection + trigger eff:\n",
      "Efficiency for ttjets: 0.107  (8634/81002)\n",
      "Efficiency for qcd   : 0.015  (7077/471743)\n",
      "Efficiency for wjets : 0.111  (22735/204758)\n",
      "Efficiency for zjets : 0.154  (53701/347676)\n",
      "Efficiency for signal: 0.297  (1116/3762)\n"
     ]
    }
   ],
   "source": [
    "print('Preselection + trigger eff:')\n",
    "for key in n_pass_preselection.keys():\n",
    "    eff = float(n_pass_preselection[key]) / n_total[key]\n",
    "    print(\n",
    "        'Efficiency for {0:6}: {1:.3f}  ({2}/{3})'\n",
    "        .format(key, eff, n_pass_preselection[key], n_total[key])\n",
    "        )"
   ]
  },
  {
   "cell_type": "code",
   "execution_count": 129,
   "metadata": {},
   "outputs": [
    {
     "name": "stderr",
     "output_type": "stream",
     "text": [
      "/uscms_data/d3/klijnsma/miniconda3/envs/condaroot/lib/python3.6/site-packages/mplhep/_deprecate.py:56: DeprecationWarning: kwarg \"densitymode\" in function \"histplot\" is deprecated and may be removed in future versions: \"unit\"mode is not useful\n",
      "  return func(*args, **kwargs)\n",
      "/uscms_data/d3/klijnsma/miniconda3/envs/condaroot/lib/python3.6/site-packages/mplhep/_deprecate.py:56: DeprecationWarning: kwarg \"densitymode\" in function \"histplot\" is deprecated and may be removed in future versions: \"unit\"mode is not useful\n",
      "  return func(*args, **kwargs)\n",
      "/uscms_data/d3/klijnsma/miniconda3/envs/condaroot/lib/python3.6/site-packages/mplhep/_deprecate.py:56: DeprecationWarning: kwarg \"densitymode\" in function \"histplot\" is deprecated and may be removed in future versions: \"unit\"mode is not useful\n",
      "  return func(*args, **kwargs)\n"
     ]
    },
    {
     "data": {
      "image/png": "[encoded data removed]",
      "text/plain": [
       "<Figure size 1512x504 with 3 Axes>"
      ]
     },
     "metadata": {
      "needs_background": "light"
     },
     "output_type": "display_data"
    }
   ],
   "source": [
    "def plot_msd_posttrigger():\n",
    "    ymin = 0.01\n",
    "    fig, axs = plt.subplots(ncols=3, nrows=1, figsize=(21,7))\n",
    "    ax = axs[0]\n",
    "    hist.plot1d(hist_msd_raw, ax=ax)\n",
    "    ax.set_ylim(ymin)\n",
    "    ax.set_yscale('log')\n",
    "    ax.set_ylabel('Cross section')\n",
    "    ax.set_title('Before trigger')\n",
    "    ax = axs[1]\n",
    "    hist.plot1d(hist_msd_posttrigger, ax=ax)\n",
    "    ax.set_ylim(ymin)\n",
    "    ax.set_yscale('log')\n",
    "    ax.set_ylabel('Cross section')\n",
    "    ax.set_title('Triggers: {0}'.format(', '.join(triggers)))\n",
    "    ax = axs[2]\n",
    "    hist.plot1d(hist_msd_postpreselection, ax=ax)\n",
    "    ax.set_ylim(ymin)\n",
    "    ax.set_yscale('log')\n",
    "    ax.set_ylabel('Cross section')\n",
    "    ax.set_title('After preselection')\n",
    "plot_msd_posttrigger()"
   ]
  }
 ],
 "metadata": {
  "kernelspec": {
   "display_name": "Python 3",
   "language": "python",
   "name": "python3"
  },
  "language_info": {
   "codemirror_mode": {
    "name": "ipython",
    "version": 3
   },
   "file_extension": ".py",
   "mimetype": "text/x-python",
   "name": "python",
   "nbconvert_exporter": "python",
   "pygments_lexer": "ipython3",
   "version": "3.6.10"
  }
 },
 "nbformat": 4,
 "nbformat_minor": 4
}
